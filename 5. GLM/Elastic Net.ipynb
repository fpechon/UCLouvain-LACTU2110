{
 "cells": [
  {
   "cell_type": "code",
   "execution_count": 1,
   "id": "46c9d590",
   "metadata": {
    "scrolled": true
   },
   "outputs": [
    {
     "name": "stderr",
     "output_type": "stream",
     "text": [
      "Installation du package dans 'C:/Users/Florian/Documents/R/win-library/4.1'\n",
      "(car 'lib' n'est pas spécifié)\n",
      "\n"
     ]
    },
    {
     "name": "stdout",
     "output_type": "stream",
     "text": [
      "package 'multilevelmod' successfully unpacked and MD5 sums checked\n",
      "\n",
      "The downloaded binary packages are in\n",
      "\tC:\\Users\\Florian\\AppData\\Local\\Temp\\RtmpQh1clH\\downloaded_packages\n"
     ]
    },
    {
     "name": "stderr",
     "output_type": "stream",
     "text": [
      "Le chargement a nécessité le package : caret\n",
      "\n",
      "Le chargement a nécessité le package : ggplot2\n",
      "\n",
      "Le chargement a nécessité le package : lattice\n",
      "\n",
      "Le chargement a nécessité le package : recipes\n",
      "\n",
      "Le chargement a nécessité le package : dplyr\n",
      "\n",
      "\n",
      "Attachement du package : 'dplyr'\n",
      "\n",
      "\n",
      "Les objets suivants sont masqués depuis 'package:stats':\n",
      "\n",
      "    filter, lag\n",
      "\n",
      "\n",
      "Les objets suivants sont masqués depuis 'package:base':\n",
      "\n",
      "    intersect, setdiff, setequal, union\n",
      "\n",
      "\n",
      "\n",
      "Attachement du package : 'recipes'\n",
      "\n",
      "\n",
      "L'objet suivant est masqué depuis 'package:stats':\n",
      "\n",
      "    step\n",
      "\n",
      "\n",
      "Le chargement a nécessité le package : visreg\n",
      "\n",
      "Le chargement a nécessité le package : MASS\n",
      "\n",
      "\n",
      "Attachement du package : 'MASS'\n",
      "\n",
      "\n",
      "L'objet suivant est masqué depuis 'package:dplyr':\n",
      "\n",
      "    select\n",
      "\n",
      "\n",
      "Le chargement a nécessité le package : glmnet\n",
      "\n",
      "Le chargement a nécessité le package : Matrix\n",
      "\n",
      "Loaded glmnet 4.1-3\n",
      "\n",
      "Le chargement a nécessité le package : jtools\n",
      "\n",
      "Le chargement a nécessité le package : scales\n",
      "\n",
      "Le chargement a nécessité le package : forcats\n",
      "\n",
      "Le chargement a nécessité le package : stringr\n",
      "\n",
      "\n",
      "Attachement du package : 'stringr'\n",
      "\n",
      "\n",
      "L'objet suivant est masqué depuis 'package:recipes':\n",
      "\n",
      "    fixed\n",
      "\n",
      "\n",
      "Le chargement a nécessité le package : poissonreg\n",
      "\n",
      "Le chargement a nécessité le package : parsnip\n",
      "\n",
      "Le chargement a nécessité le package : arrow\n",
      "\n",
      "\n",
      "Attachement du package : 'arrow'\n",
      "\n",
      "\n",
      "L'objet suivant est masqué depuis 'package:utils':\n",
      "\n",
      "    timestamp\n",
      "\n",
      "\n",
      "Le chargement a nécessité le package : doParallel\n",
      "\n",
      "Le chargement a nécessité le package : foreach\n",
      "\n",
      "Le chargement a nécessité le package : iterators\n",
      "\n",
      "Le chargement a nécessité le package : parallel\n",
      "\n",
      "Le chargement a nécessité le package : yardstick\n",
      "\n",
      "For binary classification, the first factor level is assumed to be the event.\n",
      "Use the argument `event_level = \"second\"` to alter this as needed.\n",
      "\n",
      "\n",
      "Attachement du package : 'yardstick'\n",
      "\n",
      "\n",
      "L'objet suivant est masqué depuis 'package:jtools':\n",
      "\n",
      "    get_weights\n",
      "\n",
      "\n",
      "Les objets suivants sont masqués depuis 'package:caret':\n",
      "\n",
      "    precision, recall, sensitivity, specificity\n",
      "\n",
      "\n",
      "Le chargement a nécessité le package : workflows\n",
      "\n",
      "Le chargement a nécessité le package : rsample\n",
      "\n",
      "Le chargement a nécessité le package : tune\n",
      "\n"
     ]
    }
   ],
   "source": [
    "# The easiest way to get recipes is to install all of tidymodels:\n",
    "# install.packages(\"tidymodels\")\n",
    "install.packages(\"multilevelmod\")\n",
    "options(encoding = 'UTF-8')\n",
    "#Loading all the necessary packages\n",
    "if (!require(\"caret\")) install.packages(\"caret\")\n",
    "if (!require(\"recipes\")) install.packages(\"recipes\")\n",
    "if (!require(\"visreg\")) install.packages(\"visreg\")\n",
    "if (!require(\"MASS\")) install.packages(\"MASS\")\n",
    "if (!require(\"glmnet\")) install.packages(\"glmnet\")\n",
    "if (!require(\"jtools\")) install.packages(\"jtools\")\n",
    "if (!require(\"scales\")) install.packages(\"scales\")\n",
    "if (!require(\"forcats\")) install.packages(\"forcats\")\n",
    "if (!require(\"stringr\")) install.packages(\"stringr\")\n",
    "if (!require(\"poissonreg\")) install.packages(\"poissonreg\")\n",
    "\n",
    "\n",
    "\n",
    "require(\"caret\")\n",
    "require(\"recipes\")\n",
    "require(\"visreg\")\n",
    "require(\"MASS\")\n",
    "require(\"glmnet\")\n",
    "require(\"jtools\")\n",
    "require(\"scales\")\n",
    "require(\"forcats\")\n",
    "require(\"stringr\")\n",
    "require(\"arrow\")\n",
    "require(\"forcats\")\n",
    "require(\"doParallel\")\n",
    "require(\"yardstick\")\n",
    "require(\"parsnip\")\n",
    "require(\"workflows\")\n",
    "require(\"poissonreg\")\n",
    "require(\"rsample\")\n",
    "require(\"tune\")\n",
    "require(\"yardstick\")\n",
    "\n",
    "options(repr.plot.width = 8, repr.plot.height = 6, repr.plot.res = 150);"
   ]
  },
  {
   "cell_type": "code",
   "execution_count": 2,
   "id": "e7a57278",
   "metadata": {},
   "outputs": [],
   "source": [
    "dataset = read_parquet(file = \"../data/dataset.parquet\")\n",
    "\n",
    "set.seed(21)\n",
    "in_training = createDataPartition(dataset$ClaimNb, times = 1, p = 0.8, list = FALSE)\n",
    "training_set = dataset[in_training, ]\n",
    "testing_set = dataset[-in_training, ]"
   ]
  },
  {
   "cell_type": "markdown",
   "id": "2e92fea7",
   "metadata": {},
   "source": [
    "# Lasso "
   ]
  },
  {
   "cell_type": "code",
   "execution_count": 3,
   "id": "51221a21",
   "metadata": {},
   "outputs": [
    {
     "data": {
      "text/plain": [
       "Time difference of 6.412889 mins"
      ]
     },
     "metadata": {},
     "output_type": "display_data"
    }
   ],
   "source": [
    "ptn=Sys.time()\n",
    "x = model.matrix(ClaimNb ~ 0 + Power  * Region + Power*Brand + Power*Gas +  Region* Brand + Region* Gas + Brand*Gas,\n",
    "                 data=training_set)\n",
    "set.seed(542)\n",
    "folds = createFolds(training_set$ClaimNb, 5, list=FALSE)\n",
    "\n",
    "set.seed(58)\n",
    "m.lasso.0.cv = cv.glmnet(x, y = training_set$ClaimNb, \n",
    "                         offset = log(training_set$Exposure),\n",
    "       family = \"poisson\",\n",
    "       alpha = 1, #LASSO = 1, Ridge = 0,\n",
    "       nfolds = 5,\n",
    "       foldid = folds,\n",
    "       maxit=10^4,\n",
    "       nlambda = 25)\n",
    "\n",
    "\n",
    "ptn_1 = Sys.time() - ptn\n",
    "ptn_1"
   ]
  },
  {
   "cell_type": "code",
   "execution_count": 4,
   "id": "eb041b09",
   "metadata": {},
   "outputs": [
    {
     "data": {
      "image/png": "[encoded data removed]",
      "text/plain": [
       "plot without title"
      ]
     },
     "metadata": {
      "image/png": {
       "height": 450,
       "width": 600
      }
     },
     "output_type": "display_data"
    }
   ],
   "source": [
    "plot(m.lasso.0.cv)"
   ]
  },
  {
   "cell_type": "code",
   "execution_count": 5,
   "id": "61572051",
   "metadata": {},
   "outputs": [
    {
     "data": {
      "text/plain": [
       "274 x 1 sparse Matrix of class \"dgCMatrix\"\n",
       "                                                                            s1\n",
       "(Intercept)                                                      -2.5394767393\n",
       "Powerd                                                           -0.1033242799\n",
       "Powere                                                            .           \n",
       "Powerf                                                            .           \n",
       "Powerg                                                            .           \n",
       "Powerh                                                            .           \n",
       "Poweri                                                            .           \n",
       "Powerj                                                            .           \n",
       "Powerk                                                            .           \n",
       "Powerl                                                            .           \n",
       "Powerm                                                            .           \n",
       "Powern                                                            .           \n",
       "Powero                                                            .           \n",
       "RegionBasse-Normandie                                             .           \n",
       "RegionBretagne                                                    .           \n",
       "RegionCentre                                                     -0.0409454592\n",
       "RegionHaute-Normandie                                             .           \n",
       "RegionIle-de-France                                               0.1752546086\n",
       "RegionLimousin                                                    0.0093840912\n",
       "RegionNord-Pas-de-Calais                                          0.0455362903\n",
       "RegionPays-de-la-Loire                                            .           \n",
       "RegionPoitou-Charentes                                            .           \n",
       "BrandJapanese (except Nissan) or Korean                          -0.1364607840\n",
       "BrandMercedes, Chrysler or BMW                                    .           \n",
       "BrandOpel, General Motors or Ford                                 0.0159814997\n",
       "Brandother                                                        .           \n",
       "BrandRenault, Nissan or Citroen                                   .           \n",
       "BrandVolkswagen, Audi, Skoda or Seat                              .           \n",
       "GasRegular                                                       -0.0478934072\n",
       "Powere:RegionBasse-Normandie                                      .           \n",
       "Powerf:RegionBasse-Normandie                                      .           \n",
       "Powerg:RegionBasse-Normandie                                      .           \n",
       "Powerh:RegionBasse-Normandie                                      .           \n",
       "Poweri:RegionBasse-Normandie                                      .           \n",
       "Powerj:RegionBasse-Normandie                                      .           \n",
       "Powerk:RegionBasse-Normandie                                      .           \n",
       "Powerl:RegionBasse-Normandie                                      .           \n",
       "Powerm:RegionBasse-Normandie                                      0.4479234685\n",
       "Powern:RegionBasse-Normandie                                      .           \n",
       "Powero:RegionBasse-Normandie                                      .           \n",
       "Powere:RegionBretagne                                             .           \n",
       "Powerf:RegionBretagne                                             .           \n",
       "Powerg:RegionBretagne                                            -0.0733383587\n",
       "Powerh:RegionBretagne                                             .           \n",
       "Poweri:RegionBretagne                                             0.0467020130\n",
       "Powerj:RegionBretagne                                             0.0130839942\n",
       "Powerk:RegionBretagne                                             0.1340007764\n",
       "Powerl:RegionBretagne                                             .           \n",
       "Powerm:RegionBretagne                                             .           \n",
       "Powern:RegionBretagne                                             0.1088958164\n",
       "Powero:RegionBretagne                                             .           \n",
       "Powere:RegionCentre                                               .           \n",
       "Powerf:RegionCentre                                               .           \n",
       "Powerg:RegionCentre                                               .           \n",
       "Powerh:RegionCentre                                               .           \n",
       "Poweri:RegionCentre                                               .           \n",
       "Powerj:RegionCentre                                               .           \n",
       "Powerk:RegionCentre                                               .           \n",
       "Powerl:RegionCentre                                              -0.0713801368\n",
       "Powerm:RegionCentre                                               .           \n",
       "Powern:RegionCentre                                               0.0324150018\n",
       "Powero:RegionCentre                                               .           \n",
       "Powere:RegionHaute-Normandie                                      .           \n",
       "Powerf:RegionHaute-Normandie                                      .           \n",
       "Powerg:RegionHaute-Normandie                                      .           \n",
       "Powerh:RegionHaute-Normandie                                      .           \n",
       "Poweri:RegionHaute-Normandie                                      .           \n",
       "Powerj:RegionHaute-Normandie                                     -0.0300365589\n",
       "Powerk:RegionHaute-Normandie                                      0.0605117177\n",
       "Powerl:RegionHaute-Normandie                                      .           \n",
       "Powerm:RegionHaute-Normandie                                      .           \n",
       "Powern:RegionHaute-Normandie                                      .           \n",
       "Powero:RegionHaute-Normandie                                      .           \n",
       "Powere:RegionIle-de-France                                        .           \n",
       "Powerf:RegionIle-de-France                                        .           \n",
       "Powerg:RegionIle-de-France                                       -0.0227732494\n",
       "Powerh:RegionIle-de-France                                        .           \n",
       "Poweri:RegionIle-de-France                                        .           \n",
       "Powerj:RegionIle-de-France                                        .           \n",
       "Powerk:RegionIle-de-France                                        0.0481364720\n",
       "Powerl:RegionIle-de-France                                        .           \n",
       "Powerm:RegionIle-de-France                                        .           \n",
       "Powern:RegionIle-de-France                                        .           \n",
       "Powero:RegionIle-de-France                                        .           \n",
       "Powere:RegionLimousin                                             0.2608401749\n",
       "Powerf:RegionLimousin                                             .           \n",
       "Powerg:RegionLimousin                                             .           \n",
       "Powerh:RegionLimousin                                             0.2021079974\n",
       "Poweri:RegionLimousin                                             .           \n",
       "Powerj:RegionLimousin                                             .           \n",
       "Powerk:RegionLimousin                                             .           \n",
       "Powerl:RegionLimousin                                             0.1383863510\n",
       "Powerm:RegionLimousin                                             .           \n",
       "Powern:RegionLimousin                                             1.5620413323\n",
       "Powero:RegionLimousin                                             .           \n",
       "Powere:RegionNord-Pas-de-Calais                                   .           \n",
       "Powerf:RegionNord-Pas-de-Calais                                   0.0189618631\n",
       "Powerg:RegionNord-Pas-de-Calais                                   .           \n",
       "Powerh:RegionNord-Pas-de-Calais                                   .           \n",
       "Poweri:RegionNord-Pas-de-Calais                                   .           \n",
       "Powerj:RegionNord-Pas-de-Calais                                   .           \n",
       "Powerk:RegionNord-Pas-de-Calais                                   .           \n",
       "Powerl:RegionNord-Pas-de-Calais                                   .           \n",
       "Powerm:RegionNord-Pas-de-Calais                                   .           \n",
       "Powern:RegionNord-Pas-de-Calais                                   .           \n",
       "Powero:RegionNord-Pas-de-Calais                                   .           \n",
       "Powere:RegionPays-de-la-Loire                                     .           \n",
       "Powerf:RegionPays-de-la-Loire                                     .           \n",
       "Powerg:RegionPays-de-la-Loire                                     .           \n",
       "Powerh:RegionPays-de-la-Loire                                     .           \n",
       "Poweri:RegionPays-de-la-Loire                                     .           \n",
       "Powerj:RegionPays-de-la-Loire                                     .           \n",
       "Powerk:RegionPays-de-la-Loire                                     .           \n",
       "Powerl:RegionPays-de-la-Loire                                     .           \n",
       "Powerm:RegionPays-de-la-Loire                                     0.3450769607\n",
       "Powern:RegionPays-de-la-Loire                                    -0.3456796351\n",
       "Powero:RegionPays-de-la-Loire                                     .           \n",
       "Powere:RegionPoitou-Charentes                                     .           \n",
       "Powerf:RegionPoitou-Charentes                                     .           \n",
       "Powerg:RegionPoitou-Charentes                                     .           \n",
       "Powerh:RegionPoitou-Charentes                                    -0.0242924158\n",
       "Poweri:RegionPoitou-Charentes                                     .           \n",
       "Powerj:RegionPoitou-Charentes                                     0.0013611703\n",
       "Powerk:RegionPoitou-Charentes                                     .           \n",
       "Powerl:RegionPoitou-Charentes                                     .           \n",
       "Powerm:RegionPoitou-Charentes                                     .           \n",
       "Powern:RegionPoitou-Charentes                                     .           \n",
       "Powero:RegionPoitou-Charentes                                     .           \n",
       "Powere:BrandJapanese (except Nissan) or Korean                   -0.1858136423\n",
       "Powerf:BrandJapanese (except Nissan) or Korean                    .           \n",
       "Powerg:BrandJapanese (except Nissan) or Korean                   -0.0360671896\n",
       "Powerh:BrandJapanese (except Nissan) or Korean                    .           \n",
       "Poweri:BrandJapanese (except Nissan) or Korean                    .           \n",
       "Powerj:BrandJapanese (except Nissan) or Korean                    .           \n",
       "Powerk:BrandJapanese (except Nissan) or Korean                    .           \n",
       "Powerl:BrandJapanese (except Nissan) or Korean                    .           \n",
       "Powerm:BrandJapanese (except Nissan) or Korean                    .           \n",
       "Powern:BrandJapanese (except Nissan) or Korean                    .           \n",
       "Powero:BrandJapanese (except Nissan) or Korean                    .           \n",
       "Powere:BrandMercedes, Chrysler or BMW                             .           \n",
       "Powerf:BrandMercedes, Chrysler or BMW                             0.2016839858\n",
       "Powerg:BrandMercedes, Chrysler or BMW                             0.0041495492\n",
       "Powerh:BrandMercedes, Chrysler or BMW                             0.0775130552\n",
       "Poweri:BrandMercedes, Chrysler or BMW                             .           \n",
       "Powerj:BrandMercedes, Chrysler or BMW                             .           \n",
       "Powerk:BrandMercedes, Chrysler or BMW                            -0.0834248330\n",
       "Powerl:BrandMercedes, Chrysler or BMW                            -0.0408418679\n",
       "Powerm:BrandMercedes, Chrysler or BMW                             .           \n",
       "Powern:BrandMercedes, Chrysler or BMW                            -0.0044918949\n",
       "Powero:BrandMercedes, Chrysler or BMW                             .           \n",
       "Powere:BrandOpel, General Motors or Ford                          0.0128431207\n",
       "Powerf:BrandOpel, General Motors or Ford                          .           \n",
       "Powerg:BrandOpel, General Motors or Ford                          .           \n",
       "Powerh:BrandOpel, General Motors or Ford                          .           \n",
       "Poweri:BrandOpel, General Motors or Ford                          .           \n",
       "Powerj:BrandOpel, General Motors or Ford                          0.1475029614\n",
       "Powerk:BrandOpel, General Motors or Ford                          .           \n",
       "Powerl:BrandOpel, General Motors or Ford                          .           \n",
       "Powerm:BrandOpel, General Motors or Ford                          .           \n",
       "Powern:BrandOpel, General Motors or Ford                          .           \n",
       "Powero:BrandOpel, General Motors or Ford                          0.8131944587\n",
       "Powere:Brandother                                                -0.0079737540\n",
       "Powerf:Brandother                                                 .           \n",
       "Powerg:Brandother                                                 .           \n",
       "Powerh:Brandother                                                -0.0627668306\n",
       "Poweri:Brandother                                                 .           \n",
       "Powerj:Brandother                                                 .           \n",
       "Powerk:Brandother                                                 0.3503050904\n",
       "Powerl:Brandother                                                 0.0901656283\n",
       "Powerm:Brandother                                                 .           \n",
       "Powern:Brandother                                                 .           \n",
       "Powero:Brandother                                                 .           \n",
       "Powere:BrandRenault, Nissan or Citroen                            .           \n",
       "Powerf:BrandRenault, Nissan or Citroen                            .           \n",
       "Powerg:BrandRenault, Nissan or Citroen                           -0.0593211013\n",
       "Powerh:BrandRenault, Nissan or Citroen                            .           \n",
       "Poweri:BrandRenault, Nissan or Citroen                            0.0505803657\n",
       "Powerj:BrandRenault, Nissan or Citroen                            .           \n",
       "Powerk:BrandRenault, Nissan or Citroen                            .           \n",
       "Powerl:BrandRenault, Nissan or Citroen                            0.3115151204\n",
       "Powerm:BrandRenault, Nissan or Citroen                            0.0420458709\n",
       "Powern:BrandRenault, Nissan or Citroen                            0.1861175160\n",
       "Powero:BrandRenault, Nissan or Citroen                            .           \n",
       "Powere:BrandVolkswagen, Audi, Skoda or Seat                       0.0741928826\n",
       "Powerf:BrandVolkswagen, Audi, Skoda or Seat                       .           \n",
       "Powerg:BrandVolkswagen, Audi, Skoda or Seat                       .           \n",
       "Powerh:BrandVolkswagen, Audi, Skoda or Seat                       .           \n",
       "Poweri:BrandVolkswagen, Audi, Skoda or Seat                       .           \n",
       "Powerj:BrandVolkswagen, Audi, Skoda or Seat                       .           \n",
       "Powerk:BrandVolkswagen, Audi, Skoda or Seat                       0.1664306480\n",
       "Powerl:BrandVolkswagen, Audi, Skoda or Seat                       .           \n",
       "Powerm:BrandVolkswagen, Audi, Skoda or Seat                      -0.2089844796\n",
       "Powern:BrandVolkswagen, Audi, Skoda or Seat                       .           \n",
       "Powero:BrandVolkswagen, Audi, Skoda or Seat                       .           \n",
       "Powere:GasRegular                                                -0.0696922929\n",
       "Powerf:GasRegular                                                -0.1008120428\n",
       "Powerg:GasRegular                                                 .           \n",
       "Powerh:GasRegular                                                 .           \n",
       "Poweri:GasRegular                                                 .           \n",
       "Powerj:GasRegular                                                 0.0284692227\n",
       "Powerk:GasRegular                                                 .           \n",
       "Powerl:GasRegular                                                 .           \n",
       "Powerm:GasRegular                                                 .           \n",
       "Powern:GasRegular                                                 .           \n",
       "Powero:GasRegular                                                 .           \n",
       "RegionBasse-Normandie:BrandJapanese (except Nissan) or Korean    -0.1095517558\n",
       "RegionBretagne:BrandJapanese (except Nissan) or Korean            0.0804593406\n",
       "RegionCentre:BrandJapanese (except Nissan) or Korean              .           \n",
       "RegionHaute-Normandie:BrandJapanese (except Nissan) or Korean     .           \n",
       "RegionIle-de-France:BrandJapanese (except Nissan) or Korean       .           \n",
       "RegionLimousin:BrandJapanese (except Nissan) or Korean            .           \n",
       "RegionNord-Pas-de-Calais:BrandJapanese (except Nissan) or Korean  .           \n",
       "RegionPays-de-la-Loire:BrandJapanese (except Nissan) or Korean    .           \n",
       "RegionPoitou-Charentes:BrandJapanese (except Nissan) or Korean    .           \n",
       "RegionBasse-Normandie:BrandMercedes, Chrysler or BMW             -0.0707676581\n",
       "RegionBretagne:BrandMercedes, Chrysler or BMW                    -0.1440561921\n",
       "RegionCentre:BrandMercedes, Chrysler or BMW                       .           \n",
       "RegionHaute-Normandie:BrandMercedes, Chrysler or BMW              .           \n",
       "RegionIle-de-France:BrandMercedes, Chrysler or BMW                0.0293028541\n",
       "RegionLimousin:BrandMercedes, Chrysler or BMW                     0.2781129868\n",
       "RegionNord-Pas-de-Calais:BrandMercedes, Chrysler or BMW           .           \n",
       "RegionPays-de-la-Loire:BrandMercedes, Chrysler or BMW             .           \n",
       "RegionPoitou-Charentes:BrandMercedes, Chrysler or BMW             .           \n",
       "RegionBasse-Normandie:BrandOpel, General Motors or Ford           .           \n",
       "RegionBretagne:BrandOpel, General Motors or Ford                  .           \n",
       "RegionCentre:BrandOpel, General Motors or Ford                    .           \n",
       "RegionHaute-Normandie:BrandOpel, General Motors or Ford           .           \n",
       "RegionIle-de-France:BrandOpel, General Motors or Ford             0.0701375283\n",
       "RegionLimousin:BrandOpel, General Motors or Ford                  .           \n",
       "RegionNord-Pas-de-Calais:BrandOpel, General Motors or Ford        0.0066780381\n",
       "RegionPays-de-la-Loire:BrandOpel, General Motors or Ford          .           \n",
       "RegionPoitou-Charentes:BrandOpel, General Motors or Ford          .           \n",
       "RegionBasse-Normandie:Brandother                                  .           \n",
       "RegionBretagne:Brandother                                         .           \n",
       "RegionCentre:Brandother                                          -0.0009409526\n",
       "RegionHaute-Normandie:Brandother                                 -0.0649813226\n",
       "RegionIle-de-France:Brandother                                    0.1477005052\n",
       "RegionLimousin:Brandother                                         0.1871616319\n",
       "RegionNord-Pas-de-Calais:Brandother                               0.1539171473\n",
       "RegionPays-de-la-Loire:Brandother                                 .           \n",
       "RegionPoitou-Charentes:Brandother                                 .           \n",
       "RegionBasse-Normandie:BrandRenault, Nissan or Citroen             .           \n",
       "RegionBretagne:BrandRenault, Nissan or Citroen                   -0.0435360869\n",
       "RegionCentre:BrandRenault, Nissan or Citroen                     -0.1516769073\n",
       "RegionHaute-Normandie:BrandRenault, Nissan or Citroen             .           \n",
       "RegionIle-de-France:BrandRenault, Nissan or Citroen               .           \n",
       "RegionLimousin:BrandRenault, Nissan or Citroen                    0.1235088848\n",
       "RegionNord-Pas-de-Calais:BrandRenault, Nissan or Citroen          0.0678884501\n",
       "RegionPays-de-la-Loire:BrandRenault, Nissan or Citroen            .           \n",
       "RegionPoitou-Charentes:BrandRenault, Nissan or Citroen            .           \n",
       "RegionBasse-Normandie:BrandVolkswagen, Audi, Skoda or Seat        .           \n",
       "RegionBretagne:BrandVolkswagen, Audi, Skoda or Seat               .           \n",
       "RegionCentre:BrandVolkswagen, Audi, Skoda or Seat                 .           \n",
       "RegionHaute-Normandie:BrandVolkswagen, Audi, Skoda or Seat        .           \n",
       "RegionIle-de-France:BrandVolkswagen, Audi, Skoda or Seat          0.0858737158\n",
       "RegionLimousin:BrandVolkswagen, Audi, Skoda or Seat               0.0526893515\n",
       "RegionNord-Pas-de-Calais:BrandVolkswagen, Audi, Skoda or Seat     0.1920193083\n",
       "RegionPays-de-la-Loire:BrandVolkswagen, Audi, Skoda or Seat       0.0462851416\n",
       "RegionPoitou-Charentes:BrandVolkswagen, Audi, Skoda or Seat       .           \n",
       "RegionBasse-Normandie:GasRegular                                  .           \n",
       "RegionBretagne:GasRegular                                        -0.0807079635\n",
       "RegionCentre:GasRegular                                           .           \n",
       "RegionHaute-Normandie:GasRegular                                  .           \n",
       "RegionIle-de-France:GasRegular                                    .           \n",
       "RegionLimousin:GasRegular                                         0.0040850621\n",
       "RegionNord-Pas-de-Calais:GasRegular                               .           \n",
       "RegionPays-de-la-Loire:GasRegular                                -0.0017936288\n",
       "RegionPoitou-Charentes:GasRegular                                 .           \n",
       "BrandJapanese (except Nissan) or Korean:GasRegular                .           \n",
       "BrandMercedes, Chrysler or BMW:GasRegular                         .           \n",
       "BrandOpel, General Motors or Ford:GasRegular                      .           \n",
       "Brandother:GasRegular                                            -0.1191474871\n",
       "BrandRenault, Nissan or Citroen:GasRegular                       -0.0083848564\n",
       "BrandVolkswagen, Audi, Skoda or Seat:GasRegular                   .           "
      ]
     },
     "metadata": {},
     "output_type": "display_data"
    }
   ],
   "source": [
    "coef(m.lasso.0.cv, s = \"lambda.min\")"
   ]
  },
  {
   "cell_type": "markdown",
   "id": "76237bbf",
   "metadata": {},
   "source": [
    "# Ridge"
   ]
  },
  {
   "cell_type": "code",
   "execution_count": 6,
   "id": "92680cd0",
   "metadata": {},
   "outputs": [
    {
     "data": {
      "text/plain": [
       "Time difference of 3.835233 mins"
      ]
     },
     "metadata": {},
     "output_type": "display_data"
    }
   ],
   "source": [
    "ptn=Sys.time()\n",
    "set.seed(58)\n",
    "m.ridge.0.cv = cv.glmnet(x, y = training_set$ClaimNb, offset = log(training_set$Exposure),\n",
    "       family = \"poisson\",\n",
    "       alpha = 0, #LASSO = 1, Ridge = 0,\n",
    "       nfolds = 5,\n",
    "       foldid = folds,\n",
    "       maxit = 10^3,\n",
    "       nlambda = 25)\n",
    "\n",
    "ptn_1 = Sys.time() - ptn\n",
    "ptn_1"
   ]
  },
  {
   "cell_type": "code",
   "execution_count": 7,
   "id": "b0294301",
   "metadata": {},
   "outputs": [
    {
     "data": {
      "image/png": "[encoded data removed]",
      "text/plain": [
       "plot without title"
      ]
     },
     "metadata": {
      "image/png": {
       "height": 450,
       "width": 600
      }
     },
     "output_type": "display_data"
    }
   ],
   "source": [
    "plot(m.ridge.0.cv)"
   ]
  },
  {
   "cell_type": "markdown",
   "id": "40a9b01f",
   "metadata": {},
   "source": [
    "# Elastic Net"
   ]
  },
  {
   "cell_type": "code",
   "execution_count": 8,
   "id": "3b6df164",
   "metadata": {},
   "outputs": [
    {
     "data": {
      "text/plain": [
       "Time difference of 6.278916 mins"
      ]
     },
     "metadata": {},
     "output_type": "display_data"
    }
   ],
   "source": [
    "ptn=Sys.time()\n",
    "set.seed(58)\n",
    "m.elasticnet.0.cv = cv.glmnet(x, y = training_set$ClaimNb, offset = log(training_set$Exposure),\n",
    "       family = \"poisson\",\n",
    "       alpha = 0.5, #LASSO = 1, Ridge = 0,\n",
    "       nfolds = 5,\n",
    "       foldid = folds,\n",
    "       maxit = 10^3,\n",
    "       nlambda = 25)\n",
    "\n",
    "ptn_1 = Sys.time() - ptn\n",
    "ptn_1"
   ]
  },
  {
   "cell_type": "code",
   "execution_count": 9,
   "id": "d7ce714b",
   "metadata": {},
   "outputs": [
    {
     "data": {
      "image/png": "[encoded data removed]",
      "text/plain": [
       "plot without title"
      ]
     },
     "metadata": {
      "image/png": {
       "height": 450,
       "width": 600
      }
     },
     "output_type": "display_data"
    }
   ],
   "source": [
    "plot(m.elasticnet.0.cv)"
   ]
  },
  {
   "cell_type": "markdown",
   "id": "d1fcaebf",
   "metadata": {},
   "source": [
    "# Comparison with GLM"
   ]
  },
  {
   "cell_type": "code",
   "execution_count": 10,
   "id": "2aa1aeea",
   "metadata": {},
   "outputs": [
    {
     "data": {
      "text/html": [
       "20769.3114660243"
      ],
      "text/latex": [
       "20769.3114660243"
      ],
      "text/markdown": [
       "20769.3114660243"
      ],
      "text/plain": [
       "[1] 20769.31"
      ]
     },
     "metadata": {},
     "output_type": "display_data"
    }
   ],
   "source": [
    "x_test = model.matrix(ClaimNb ~ 0 + Power * Region + Power * Brand + Power * Gas +\n",
    "    Region * Brand + Region * Gas + Brand * Gas, data = testing_set)\n",
    "\n",
    "\n",
    "2 * (sum(dpois(x = testing_set$ClaimNb, lambda = testing_set$ClaimNb, log = TRUE)) -\n",
    "    sum(dpois(x = testing_set$ClaimNb, lambda = predict(m.lasso.0.cv, newx = x_test,\n",
    "        newoffset = log(testing_set$Exposure), s = m.lasso.0.cv$lambda.min, type = \"response\"),\n",
    "        log = TRUE)))"
   ]
  },
  {
   "cell_type": "code",
   "execution_count": 11,
   "id": "88edba0b",
   "metadata": {},
   "outputs": [
    {
     "data": {
      "text/html": [
       "20769.927705197"
      ],
      "text/latex": [
       "20769.927705197"
      ],
      "text/markdown": [
       "20769.927705197"
      ],
      "text/plain": [
       "[1] 20769.93"
      ]
     },
     "metadata": {},
     "output_type": "display_data"
    }
   ],
   "source": [
    "2 * (sum(dpois(x = testing_set$ClaimNb, lambda = testing_set$ClaimNb, log = TRUE)) -\n",
    "    sum(dpois(x = testing_set$ClaimNb, lambda = predict(m.ridge.0.cv, newx = x_test,\n",
    "        newoffset = log(testing_set$Exposure), s = m.ridge.0.cv$lambda.min, type = \"response\"),\n",
    "        log = TRUE)))"
   ]
  },
  {
   "cell_type": "code",
   "execution_count": 12,
   "id": "ee195601",
   "metadata": {},
   "outputs": [
    {
     "data": {
      "text/html": [
       "20769.5785835634"
      ],
      "text/latex": [
       "20769.5785835634"
      ],
      "text/markdown": [
       "20769.5785835634"
      ],
      "text/plain": [
       "[1] 20769.58"
      ]
     },
     "metadata": {},
     "output_type": "display_data"
    }
   ],
   "source": [
    "2 * (sum(dpois(x = testing_set$ClaimNb, lambda = testing_set$ClaimNb, log = TRUE)) -\n",
    "    sum(dpois(x = testing_set$ClaimNb, lambda = predict(m.elasticnet.0.cv, newx = x_test,\n",
    "        newoffset = log(testing_set$Exposure), s = m.elasticnet.0.cv$lambda.min,\n",
    "        type = \"response\"), log = TRUE)))"
   ]
  },
  {
   "cell_type": "markdown",
   "id": "5d367924",
   "metadata": {},
   "source": [
    "# Experiment\n",
    "\n",
    "Let us construct the factors a bit differently. We will only use the variables DriverAge and CarAge for illustration here."
   ]
  },
  {
   "cell_type": "code",
   "execution_count": 13,
   "id": "5223f0b2",
   "metadata": {},
   "outputs": [],
   "source": [
    "driver_age_lst = c()\n",
    "for (age in (18:99)){\n",
    "    training_set[paste0(\"DriverAge_\", age)] = 1*(training_set$DriverAge <= age)\n",
    "    testing_set[paste0(\"DriverAge_\", age)] = 1*(testing_set$DriverAge <= age)\n",
    "    driver_age_lst = c(driver_age_lst, paste0(\"DriverAge_\", age))\n",
    "}\n",
    "\n",
    "car_age_lst = c()\n",
    "for (vehage in (0:25)){\n",
    "    training_set[paste0(\"CarAge_\", vehage)] = 1*(training_set$CarAge <= vehage)\n",
    "    testing_set[paste0(\"CarAge_\", vehage)] = 1*(testing_set$CarAge <= vehage)\n",
    "    car_age_lst = c(car_age_lst, paste0(\"CarAge_\", vehage))\n",
    "}\n",
    "\n",
    "density_lst = c()\n",
    "for (density in unique(quantile(training_set$Density, seq(0.01,0.99,0.01)))){\n",
    "    training_set[paste0(\"Density_\", density)] = 1*(training_set$Density <= density)\n",
    "    testing_set[paste0(\"Density_\", density)] = 1*(testing_set$Density <= density)\n",
    "    density_lst = c(density_lst, paste0(\"Density_\", density))\n",
    "}\n",
    "\n",
    "power_lst = c()\n",
    "levels = levels(ordered(training_set$Power))\n",
    "for (power in 1:length(unique(ordered(training_set$Power)))){\n",
    "    training_set[paste0(\"Power_\", power)] = 1*(ordered(training_set$Power) <= levels[power])\n",
    "    testing_set[paste0(\"Power_\", power)] = 1*(ordered(testing_set$Power) <= levels[power])\n",
    "    power_lst = c(power_lst, paste0(\"Power_\", power))\n",
    "}\n",
    "\n",
    "lst_vars = paste(paste(driver_age_lst, collapse=\" + \"), \n",
    "                 paste(car_age_lst, collapse=\" + \"), \n",
    "                 paste(density_lst, collapse=\" + \"), \n",
    "                 paste(power_lst, collapse=\" + \"), \n",
    "                 sep = \" + \")"
   ]
  },
  {
   "cell_type": "code",
   "execution_count": 14,
   "id": "df7d4f3e",
   "metadata": {},
   "outputs": [
    {
     "data": {
      "text/html": [
       "<table class=\"dataframe\">\n",
       "<caption>A matrix: 6 × 217 of type dbl</caption>\n",
       "<thead>\n",
       "\t<tr><th></th><th scope=col>DriverAge_18</th><th scope=col>DriverAge_19</th><th scope=col>DriverAge_20</th><th scope=col>DriverAge_21</th><th scope=col>DriverAge_22</th><th scope=col>DriverAge_23</th><th scope=col>DriverAge_24</th><th scope=col>DriverAge_25</th><th scope=col>DriverAge_26</th><th scope=col>DriverAge_27</th><th scope=col>...</th><th scope=col>Power_3</th><th scope=col>Power_4</th><th scope=col>Power_5</th><th scope=col>Power_6</th><th scope=col>Power_7</th><th scope=col>Power_8</th><th scope=col>Power_9</th><th scope=col>Power_10</th><th scope=col>Power_11</th><th scope=col>Power_12</th></tr>\n",
       "</thead>\n",
       "<tbody>\n",
       "\t<tr><th scope=row>2</th><td>0</td><td>0</td><td>0</td><td>0</td><td>0</td><td>0</td><td>0</td><td>0</td><td>0</td><td>0</td><td>...</td><td>0</td><td>1</td><td>1</td><td>1</td><td>1</td><td>1</td><td>1</td><td>1</td><td>1</td><td>1</td></tr>\n",
       "\t<tr><th scope=row>3</th><td>0</td><td>0</td><td>0</td><td>0</td><td>0</td><td>0</td><td>0</td><td>0</td><td>0</td><td>0</td><td>...</td><td>1</td><td>1</td><td>1</td><td>1</td><td>1</td><td>1</td><td>1</td><td>1</td><td>1</td><td>1</td></tr>\n",
       "\t<tr><th scope=row>4</th><td>0</td><td>0</td><td>0</td><td>0</td><td>0</td><td>0</td><td>0</td><td>0</td><td>0</td><td>0</td><td>...</td><td>1</td><td>1</td><td>1</td><td>1</td><td>1</td><td>1</td><td>1</td><td>1</td><td>1</td><td>1</td></tr>\n",
       "\t<tr><th scope=row>5</th><td>0</td><td>0</td><td>0</td><td>0</td><td>0</td><td>0</td><td>0</td><td>0</td><td>0</td><td>0</td><td>...</td><td>0</td><td>1</td><td>1</td><td>1</td><td>1</td><td>1</td><td>1</td><td>1</td><td>1</td><td>1</td></tr>\n",
       "\t<tr><th scope=row>6</th><td>0</td><td>0</td><td>0</td><td>0</td><td>0</td><td>0</td><td>0</td><td>0</td><td>0</td><td>0</td><td>...</td><td>0</td><td>1</td><td>1</td><td>1</td><td>1</td><td>1</td><td>1</td><td>1</td><td>1</td><td>1</td></tr>\n",
       "\t<tr><th scope=row>7</th><td>0</td><td>0</td><td>0</td><td>0</td><td>0</td><td>0</td><td>0</td><td>0</td><td>0</td><td>1</td><td>...</td><td>1</td><td>1</td><td>1</td><td>1</td><td>1</td><td>1</td><td>1</td><td>1</td><td>1</td><td>1</td></tr>\n",
       "</tbody>\n",
       "</table>\n"
      ],
      "text/latex": [
       "A matrix: 6 × 217 of type dbl\n",
       "\\begin{tabular}{r|lllllllllllllllllllll}\n",
       "  & DriverAge\\_18 & DriverAge\\_19 & DriverAge\\_20 & DriverAge\\_21 & DriverAge\\_22 & DriverAge\\_23 & DriverAge\\_24 & DriverAge\\_25 & DriverAge\\_26 & DriverAge\\_27 & ... & Power\\_3 & Power\\_4 & Power\\_5 & Power\\_6 & Power\\_7 & Power\\_8 & Power\\_9 & Power\\_10 & Power\\_11 & Power\\_12\\\\\n",
       "\\hline\n",
       "\t2 & 0 & 0 & 0 & 0 & 0 & 0 & 0 & 0 & 0 & 0 & ... & 0 & 1 & 1 & 1 & 1 & 1 & 1 & 1 & 1 & 1\\\\\n",
       "\t3 & 0 & 0 & 0 & 0 & 0 & 0 & 0 & 0 & 0 & 0 & ... & 1 & 1 & 1 & 1 & 1 & 1 & 1 & 1 & 1 & 1\\\\\n",
       "\t4 & 0 & 0 & 0 & 0 & 0 & 0 & 0 & 0 & 0 & 0 & ... & 1 & 1 & 1 & 1 & 1 & 1 & 1 & 1 & 1 & 1\\\\\n",
       "\t5 & 0 & 0 & 0 & 0 & 0 & 0 & 0 & 0 & 0 & 0 & ... & 0 & 1 & 1 & 1 & 1 & 1 & 1 & 1 & 1 & 1\\\\\n",
       "\t6 & 0 & 0 & 0 & 0 & 0 & 0 & 0 & 0 & 0 & 0 & ... & 0 & 1 & 1 & 1 & 1 & 1 & 1 & 1 & 1 & 1\\\\\n",
       "\t7 & 0 & 0 & 0 & 0 & 0 & 0 & 0 & 0 & 0 & 1 & ... & 1 & 1 & 1 & 1 & 1 & 1 & 1 & 1 & 1 & 1\\\\\n",
       "\\end{tabular}\n"
      ],
      "text/markdown": [
       "\n",
       "A matrix: 6 × 217 of type dbl\n",
       "\n",
       "| <!--/--> | DriverAge_18 | DriverAge_19 | DriverAge_20 | DriverAge_21 | DriverAge_22 | DriverAge_23 | DriverAge_24 | DriverAge_25 | DriverAge_26 | DriverAge_27 | ... | Power_3 | Power_4 | Power_5 | Power_6 | Power_7 | Power_8 | Power_9 | Power_10 | Power_11 | Power_12 |\n",
       "|---|---|---|---|---|---|---|---|---|---|---|---|---|---|---|---|---|---|---|---|---|---|\n",
       "| 2 | 0 | 0 | 0 | 0 | 0 | 0 | 0 | 0 | 0 | 0 | ... | 0 | 1 | 1 | 1 | 1 | 1 | 1 | 1 | 1 | 1 |\n",
       "| 3 | 0 | 0 | 0 | 0 | 0 | 0 | 0 | 0 | 0 | 0 | ... | 1 | 1 | 1 | 1 | 1 | 1 | 1 | 1 | 1 | 1 |\n",
       "| 4 | 0 | 0 | 0 | 0 | 0 | 0 | 0 | 0 | 0 | 0 | ... | 1 | 1 | 1 | 1 | 1 | 1 | 1 | 1 | 1 | 1 |\n",
       "| 5 | 0 | 0 | 0 | 0 | 0 | 0 | 0 | 0 | 0 | 0 | ... | 0 | 1 | 1 | 1 | 1 | 1 | 1 | 1 | 1 | 1 |\n",
       "| 6 | 0 | 0 | 0 | 0 | 0 | 0 | 0 | 0 | 0 | 0 | ... | 0 | 1 | 1 | 1 | 1 | 1 | 1 | 1 | 1 | 1 |\n",
       "| 7 | 0 | 0 | 0 | 0 | 0 | 0 | 0 | 0 | 0 | 1 | ... | 1 | 1 | 1 | 1 | 1 | 1 | 1 | 1 | 1 | 1 |\n",
       "\n"
      ],
      "text/plain": [
       "  DriverAge_18 DriverAge_19 DriverAge_20 DriverAge_21 DriverAge_22 DriverAge_23\n",
       "2 0            0            0            0            0            0           \n",
       "3 0            0            0            0            0            0           \n",
       "4 0            0            0            0            0            0           \n",
       "5 0            0            0            0            0            0           \n",
       "6 0            0            0            0            0            0           \n",
       "7 0            0            0            0            0            0           \n",
       "  DriverAge_24 DriverAge_25 DriverAge_26 DriverAge_27 ... Power_3 Power_4\n",
       "2 0            0            0            0            ... 0       1      \n",
       "3 0            0            0            0            ... 1       1      \n",
       "4 0            0            0            0            ... 1       1      \n",
       "5 0            0            0            0            ... 0       1      \n",
       "6 0            0            0            0            ... 0       1      \n",
       "7 0            0            0            1            ... 1       1      \n",
       "  Power_5 Power_6 Power_7 Power_8 Power_9 Power_10 Power_11 Power_12\n",
       "2 1       1       1       1       1       1        1        1       \n",
       "3 1       1       1       1       1       1        1        1       \n",
       "4 1       1       1       1       1       1        1        1       \n",
       "5 1       1       1       1       1       1        1        1       \n",
       "6 1       1       1       1       1       1        1        1       \n",
       "7 1       1       1       1       1       1        1        1       "
      ]
     },
     "metadata": {},
     "output_type": "display_data"
    }
   ],
   "source": [
    "ptn=Sys.time()\n",
    "model_exp_x = model.matrix(as.formula(paste(\"ClaimNb ~ 0  + \", \n",
    "                                            lst_vars, \n",
    "                                            sep=\"\")),\n",
    "                           data=training_set)\n",
    "\n",
    "head(model_exp_x)"
   ]
  },
  {
   "cell_type": "code",
   "execution_count": 15,
   "id": "af5d14c1",
   "metadata": {},
   "outputs": [
    {
     "data": {
      "text/plain": [
       "Time difference of 7.383376 mins"
      ]
     },
     "metadata": {},
     "output_type": "display_data"
    }
   ],
   "source": [
    "set.seed(542)\n",
    "folds = createFolds(training_set$ClaimNb, 5, list=FALSE)\n",
    "\n",
    "set.seed(58)\n",
    "m.lasso.1.cv = cv.glmnet(  model_exp_x, y = training_set$ClaimNb, \n",
    "                           offset = log(training_set$Exposure),\n",
    "                           family = \"poisson\",\n",
    "                           alpha = 1, #LASSO = 1, Ridge = 0,\n",
    "                           nfolds = 5,\n",
    "                           foldid = folds,\n",
    "                           maxit=10^4,\n",
    "                           nlambda = 25)\n",
    "\n",
    "\n",
    "ptn_1 = Sys.time() - ptn\n",
    "ptn_1"
   ]
  },
  {
   "cell_type": "code",
   "execution_count": 16,
   "id": "780e5760",
   "metadata": {},
   "outputs": [
    {
     "data": {
      "text/plain": [
       "\n",
       "Call:  cv.glmnet(x = model_exp_x, y = training_set$ClaimNb, offset = log(training_set$Exposure),      nfolds = 5, foldid = folds, family = \"poisson\", alpha = 1,      maxit = 10^4, nlambda = 25) \n",
       "\n",
       "Measure: Poisson Deviance \n",
       "\n",
       "      Lambda Index Measure       SE Nonzero\n",
       "min 0.000379     9  0.2523 0.001820      49\n",
       "1se 0.003787     3  0.2538 0.001851      10"
      ]
     },
     "metadata": {},
     "output_type": "display_data"
    }
   ],
   "source": [
    "m.lasso.1.cv"
   ]
  },
  {
   "cell_type": "code",
   "execution_count": 17,
   "id": "5e106e9f",
   "metadata": {
    "scrolled": true
   },
   "outputs": [
    {
     "data": {
      "text/plain": [
       "218 x 1 sparse Matrix of class \"dgCMatrix\"\n",
       "                         s1\n",
       "(Intercept)   -2.6881967110\n",
       "DriverAge_18   0.1230383584\n",
       "DriverAge_19   0.2425459500\n",
       "DriverAge_20   0.3468576743\n",
       "DriverAge_21   0.0081852836\n",
       "DriverAge_22   0.1919444916\n",
       "DriverAge_23   0.1115035954\n",
       "DriverAge_24   0.1334220842\n",
       "DriverAge_25   .           \n",
       "DriverAge_26   0.2385793758\n",
       "DriverAge_27   .           \n",
       "DriverAge_28   0.0063266606\n",
       "DriverAge_29   0.0884926007\n",
       "DriverAge_30   .           \n",
       "DriverAge_31   0.0330756231\n",
       "DriverAge_32   .           \n",
       "DriverAge_33   .           \n",
       "DriverAge_34   .           \n",
       "DriverAge_35   .           \n",
       "DriverAge_36   .           \n",
       "DriverAge_37   .           \n",
       "DriverAge_38   .           \n",
       "DriverAge_39   .           \n",
       "DriverAge_40   .           \n",
       "DriverAge_41  -0.0139173282\n",
       "DriverAge_42  -0.0452490010\n",
       "DriverAge_43  -0.0048463049\n",
       "DriverAge_44   .           \n",
       "DriverAge_45   .           \n",
       "DriverAge_46   .           \n",
       "DriverAge_47   .           \n",
       "DriverAge_48   .           \n",
       "DriverAge_49   .           \n",
       "DriverAge_50   .           \n",
       "DriverAge_51   0.0142488466\n",
       "DriverAge_52   .           \n",
       "DriverAge_53   0.0473966312\n",
       "DriverAge_54   0.0867331457\n",
       "DriverAge_55   .           \n",
       "DriverAge_56   .           \n",
       "DriverAge_57   .           \n",
       "DriverAge_58   .           \n",
       "DriverAge_59   .           \n",
       "DriverAge_60   .           \n",
       "DriverAge_61   .           \n",
       "DriverAge_62   0.0212773459\n",
       "DriverAge_63   0.0152644944\n",
       "DriverAge_64   .           \n",
       "DriverAge_65   .           \n",
       "DriverAge_66   .           \n",
       "DriverAge_67   .           \n",
       "DriverAge_68   .           \n",
       "DriverAge_69   .           \n",
       "DriverAge_70   .           \n",
       "DriverAge_71   .           \n",
       "DriverAge_72   .           \n",
       "DriverAge_73   .           \n",
       "DriverAge_74  -0.0203627755\n",
       "DriverAge_75   .           \n",
       "DriverAge_76   .           \n",
       "DriverAge_77   .           \n",
       "DriverAge_78   .           \n",
       "DriverAge_79   .           \n",
       "DriverAge_80   .           \n",
       "DriverAge_81   .           \n",
       "DriverAge_82  -0.0028710836\n",
       "DriverAge_83   .           \n",
       "DriverAge_84   .           \n",
       "DriverAge_85  -0.0453411877\n",
       "DriverAge_86   .           \n",
       "DriverAge_87   .           \n",
       "DriverAge_88  -0.1156017796\n",
       "DriverAge_89   .           \n",
       "DriverAge_90   .           \n",
       "DriverAge_91   0.1600934560\n",
       "DriverAge_92   .           \n",
       "DriverAge_93   .           \n",
       "DriverAge_94   .           \n",
       "DriverAge_95   .           \n",
       "DriverAge_96   .           \n",
       "DriverAge_97   .           \n",
       "DriverAge_98   .           \n",
       "DriverAge_99   .           \n",
       "CarAge_0       .           \n",
       "CarAge_1       .           \n",
       "CarAge_2       .           \n",
       "CarAge_3      -0.0412367870\n",
       "CarAge_4       .           \n",
       "CarAge_5       .           \n",
       "CarAge_6       .           \n",
       "CarAge_7       .           \n",
       "CarAge_8       .           \n",
       "CarAge_9       .           \n",
       "CarAge_10      .           \n",
       "CarAge_11      .           \n",
       "CarAge_12      0.1249058005\n",
       "CarAge_13      .           \n",
       "CarAge_14      0.0553587798\n",
       "CarAge_15      .           \n",
       "CarAge_16      .           \n",
       "CarAge_17      0.1305474560\n",
       "CarAge_18      .           \n",
       "CarAge_19      .           \n",
       "CarAge_20      .           \n",
       "CarAge_21      0.0034407096\n",
       "CarAge_22      .           \n",
       "CarAge_23      .           \n",
       "CarAge_24      .           \n",
       "CarAge_25      .           \n",
       "Density_10     0.0250248791\n",
       "Density_11     .           \n",
       "Density_13     .           \n",
       "Density_15     .           \n",
       "Density_17     .           \n",
       "Density_19    -0.1046584112\n",
       "Density_22     .           \n",
       "Density_24     .           \n",
       "Density_26     .           \n",
       "Density_28     .           \n",
       "Density_30     .           \n",
       "Density_32     .           \n",
       "Density_34     .           \n",
       "Density_37     .           \n",
       "Density_40    -0.0691068227\n",
       "Density_43     .           \n",
       "Density_44     .           \n",
       "Density_48     .           \n",
       "Density_50     .           \n",
       "Density_51     .           \n",
       "Density_55     .           \n",
       "Density_57    -0.0355121844\n",
       "Density_60    -0.0015025919\n",
       "Density_64     .           \n",
       "Density_67     .           \n",
       "Density_73     .           \n",
       "Density_79     .           \n",
       "Density_83     .           \n",
       "Density_88     .           \n",
       "Density_91     .           \n",
       "Density_95     .           \n",
       "Density_102    .           \n",
       "Density_105    .           \n",
       "Density_110   -0.0202492526\n",
       "Density_117    .           \n",
       "Density_125    .           \n",
       "Density_133    .           \n",
       "Density_142    .           \n",
       "Density_149    .           \n",
       "Density_159    .           \n",
       "Density_169    .           \n",
       "Density_182    .           \n",
       "Density_192    .           \n",
       "Density_204   -0.0527680685\n",
       "Density_218    .           \n",
       "Density_229    .           \n",
       "Density_243    .           \n",
       "Density_264    .           \n",
       "Density_282    .           \n",
       "Density_288    .           \n",
       "Density_298    .           \n",
       "Density_329    .           \n",
       "Density_359    .           \n",
       "Density_394   -0.0714800408\n",
       "Density_405   -0.0320320494\n",
       "Density_408    .           \n",
       "Density_451    .           \n",
       "Density_473    .           \n",
       "Density_503    .           \n",
       "Density_557    .           \n",
       "Density_612    .           \n",
       "Density_644    .           \n",
       "Density_713    .           \n",
       "Density_741   -0.0078728044\n",
       "Density_796   -0.0944469716\n",
       "Density_851   -0.0152366937\n",
       "Density_957    .           \n",
       "Density_1052  -0.0013819343\n",
       "Density_1055   .           \n",
       "Density_1165   .           \n",
       "Density_1284   .           \n",
       "Density_1313   .           \n",
       "Density_1329   .           \n",
       "Density_1410   .           \n",
       "Density_1500   .           \n",
       "Density_1765   .           \n",
       "Density_1943  -0.0730819011\n",
       "Density_2103   .           \n",
       "Density_2411   .           \n",
       "Density_2663   .           \n",
       "Density_2906   .           \n",
       "Density_3060   .           \n",
       "Density_3368   .           \n",
       "Density_3541   .           \n",
       "Density_3866   .           \n",
       "Density_4087   .           \n",
       "Density_4116   .           \n",
       "Density_4128   .           \n",
       "Density_4348   .           \n",
       "Density_4496   .           \n",
       "Density_5376   .           \n",
       "Density_6257   .           \n",
       "Density_6864   .           \n",
       "Density_8023  -0.0009601506\n",
       "Density_10477  .           \n",
       "Density_17140 -0.0458907286\n",
       "Density_27000  .           \n",
       "Power_1       -0.1273518546\n",
       "Power_2        .           \n",
       "Power_3        .           \n",
       "Power_4       -0.0463346564\n",
       "Power_5       -0.0241069746\n",
       "Power_6       -0.0130266934\n",
       "Power_7        .           \n",
       "Power_8        .           \n",
       "Power_9        .           \n",
       "Power_10       .           \n",
       "Power_11       .           \n",
       "Power_12       .           "
      ]
     },
     "metadata": {},
     "output_type": "display_data"
    }
   ],
   "source": [
    "coef(m.lasso.1.cv, s = \"lambda.min\")"
   ]
  },
  {
   "cell_type": "code",
   "execution_count": 18,
   "id": "f950e689",
   "metadata": {},
   "outputs": [
    {
     "ename": "ERROR",
     "evalue": "Error in predict.glmnet(object$glmnet.fit, newx, s = lambda, ...): The number of variables in newx must be 217\n",
     "output_type": "error",
     "traceback": [
      "Error in predict.glmnet(object$glmnet.fit, newx, s = lambda, ...): The number of variables in newx must be 217\nTraceback:\n",
      "1. predict(m.lasso.1.cv, as.matrix(subset(plotdata, select = -c(DriverAge, \n .     CarAge, Density, Exposure))), newoffset = 0, type = \"response\", \n .     s = m.lasso.1.cv$lambda.min)",
      "2. predict.cv.glmnet(m.lasso.1.cv, as.matrix(subset(plotdata, select = -c(DriverAge, \n .     CarAge, Density, Exposure))), newoffset = 0, type = \"response\", \n .     s = m.lasso.1.cv$lambda.min)",
      "3. predict(object$glmnet.fit, newx, s = lambda, ...)",
      "4. predict.fishnet(object$glmnet.fit, newx, s = lambda, ...)",
      "5. NextMethod(\"predict\")",
      "6. predict.glmnet(object$glmnet.fit, newx, s = lambda, ...)",
      "7. stop(paste0(\"The number of variables in newx must be \", p))"
     ]
    }
   ],
   "source": [
    "plotdata = expand.grid(DriverAge = 18:99, \n",
    "                       CarAge = 0:25, \n",
    "                       Density = unique(quantile(training_set$Density, seq(0.01,0.99,0.01))),\n",
    "                       Exposure = 1)\n",
    "\n",
    "\n",
    "for (age in (18:99)){\n",
    "    plotdata[paste0(\"DriverAge_\", age)] = 1*(plotdata$DriverAge <= age)\n",
    "}\n",
    "for (vehage in (0:25)){\n",
    "    plotdata[paste0(\"CarAge_\", vehage)] = 1*(plotdata$CarAge <= vehage)\n",
    "}\n",
    "for (density in unique(sort(plotdata$Density))){\n",
    "    plotdata[paste0(\"Density_\", density)] = 1*(plotdata$Density <= density)\n",
    "}\n",
    "\n",
    "plotdata['prediction'] = predict(m.lasso.1.cv, \n",
    "                                 as.matrix(subset(plotdata, select = -c(DriverAge, CarAge,Density, Exposure))),\n",
    "                                 newoffset = 0, \n",
    "                                 type=\"response\", \n",
    "                                 s = m.lasso.1.cv$lambda.min)\n"
   ]
  },
  {
   "cell_type": "code",
   "execution_count": null,
   "id": "17e39334",
   "metadata": {},
   "outputs": [],
   "source": [
    "require(ggplot2)\n",
    "ggplot(plotdata %>% group_by(DriverAge) %>% summarise(prediction = mean(prediction)), \n",
    "       aes(x=DriverAge, y=prediction)) + geom_point() + geom_line() + theme_bw() + \n",
    "        scale_y_continuous(labels = scales::label_percent(accuracy = 0.02))"
   ]
  },
  {
   "cell_type": "code",
   "execution_count": null,
   "id": "bf32afa5",
   "metadata": {},
   "outputs": [],
   "source": [
    "ggplot(plotdata %>% group_by(CarAge) %>% summarise(prediction = mean(prediction)), \n",
    "       aes(x=CarAge, y=prediction)) + geom_point() + geom_line() + theme_bw()+\n",
    "scale_y_continuous(labels = scales::label_percent(accuracy = 0.02))"
   ]
  },
  {
   "cell_type": "code",
   "execution_count": null,
   "id": "9a1ce493",
   "metadata": {},
   "outputs": [],
   "source": [
    "ggplot(plotdata %>% group_by(Density) %>% summarise(prediction = mean(prediction)), \n",
    "       aes(x=Density, y=prediction)) + geom_point() + geom_line() + theme_bw()+\n",
    "scale_y_continuous(labels = scales::label_percent(accuracy = 0.02))"
   ]
  },
  {
   "cell_type": "code",
   "execution_count": null,
   "id": "5bad1fe3",
   "metadata": {},
   "outputs": [],
   "source": [
    "s = coef(m.lasso.1.cv, s = \"lambda.min\")\n",
    "driver_age_breaks = c()\n",
    "car_age_breaks = c()\n",
    "density_breaks = c()\n",
    "for (col in names(which(s[,1] != 0))){\n",
    "    if (grepl(\"DriverAge_\", col)){\n",
    "         driver_age_breaks = c(driver_age_breaks, as.numeric(unlist(strsplit(col, \"_\"))[2]))\n",
    "    }\n",
    "    if (grepl(\"CarAge_\", col)){\n",
    "         car_age_breaks = c(car_age_breaks, as.numeric(unlist(strsplit(col, \"_\"))[2]))\n",
    "    }\n",
    "    if (grepl(\"Density_\", col)){\n",
    "         density_breaks = c(density_breaks, as.numeric(unlist(strsplit(col, \"_\"))[2]))\n",
    "    }\n",
    "}\n",
    "\n",
    "# Define a data preprocessing with these breaks\n",
    "\n",
    "data_prep = recipe(ClaimNb ~ DriverAge + CarAge + Power + Gas + Region + Brand + Density + Exposure, data = training_set) %>%\n",
    "    step_relevel(Power, ref_level = \"d\") %>%\n",
    "    step_relevel(Gas, ref_level = \"Regular\") %>%\n",
    "    step_relevel(Region, ref_level = \"Centre\") %>%\n",
    "    step_relevel(Brand, ref_level = \"Renault, Nissan or Citroen\") %>%\n",
    "    step_mutate(DriverAge = cut(DriverAge, breaks = c(-Inf, driver_age_breaks, Inf))) %>%\n",
    "    step_mutate(CarAge = cut(CarAge, breaks = c(-Inf, car_age_breaks, Inf))) %>%\n",
    "    step_mutate(Density = cut(Density, breaks = c(-Inf, density_breaks, Inf))) %>%\n",
    "    step_mutate(Power = forcats::fct_collapse(Power, \n",
    "                                                 \"d-e-f\" = c(\"d\", \"e\", \"f\"),\n",
    "                                                 \"j-k-l-m-n-o\" = c(\"j\", \"k\", \"l\", \"m\", \"n\", \"o\")\n",
    "                                                )) %>%\n",
    "    prep()"
   ]
  },
  {
   "cell_type": "code",
   "execution_count": null,
   "id": "72c0b241",
   "metadata": {
    "scrolled": false
   },
   "outputs": [],
   "source": [
    "m_glm = glm(ClaimNb ~ offset(log(Exposure)) + Power + Brand + Gas + Region + DriverAge + CarAge + Density, \n",
    "   data = data_prep %>% bake(training_set),\n",
    "   family=poisson(link=log))\n",
    "summary(m_glm)"
   ]
  },
  {
   "cell_type": "code",
   "execution_count": null,
   "id": "2ae71bff",
   "metadata": {},
   "outputs": [],
   "source": [
    "2 * (sum(dpois(x = testing_set$ClaimNb, lambda = testing_set$ClaimNb,\n",
    "    log = TRUE)) - sum(dpois(x = testing_set$ClaimNb, lambda = predict(m_glm, data_prep %>% bake(testing_set), type=\"response\"), log=TRUE)))"
   ]
  }
 ],
 "metadata": {
  "kernelspec": {
   "display_name": "R",
   "language": "R",
   "name": "ir"
  },
  "language_info": {
   "codemirror_mode": "r",
   "file_extension": ".r",
   "mimetype": "text/x-r-source",
   "name": "R",
   "pygments_lexer": "r",
   "version": "4.1.3"
  }
 },
 "nbformat": 4,
 "nbformat_minor": 5
}
