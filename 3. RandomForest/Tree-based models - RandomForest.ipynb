{
 "cells": [
  {
   "cell_type": "code",
   "execution_count": 1,
   "id": "402ce8af",
   "metadata": {},
   "outputs": [
    {
     "name": "stderr",
     "output_type": "stream",
     "text": [
      "Le chargement a nécessité le package : rpart\n",
      "\n",
      "Le chargement a nécessité le package : rpart.plot\n",
      "\n",
      "Le chargement a nécessité le package : arrow\n",
      "\n",
      "\n",
      "Attachement du package : 'arrow'\n",
      "\n",
      "\n",
      "L'objet suivant est masqué depuis 'package:utils':\n",
      "\n",
      "    timestamp\n",
      "\n",
      "\n",
      "Le chargement a nécessité le package : caret\n",
      "\n",
      "Le chargement a nécessité le package : ggplot2\n",
      "\n",
      "Le chargement a nécessité le package : lattice\n",
      "\n",
      "Le chargement a nécessité le package : rattle\n",
      "\n",
      "Le chargement a nécessité le package : tibble\n",
      "\n",
      "Le chargement a nécessité le package : bitops\n",
      "\n",
      "Rattle: A free graphical interface for data science with R.\n",
      "Version 5.5.1 Copyright (c) 2006-2021 Togaware Pty Ltd.\n",
      "Entrez 'rattle()' pour secouer, faire vibrer, et faire défiler vos données.\n",
      "\n"
     ]
    }
   ],
   "source": [
    "# require(\"CASdatasets\") - Not necessary, as we saved the data as parquet file\n",
    "if (!require(\"rpart\")) install.packages(\"rpart\")\n",
    "if (!require(\"rpart.plot\")) install.packages(\"rpart.plot\")\n",
    "if (!require(\"arrow\")) install.packages(\"arrow\")\n",
    "if (!require(\"caret\")) install.packages(\"caret\", dependencies=TRUE)\n",
    "if (!require(\"ggplot2\")) install.packages(\"ggplot2\")\n",
    "if (!require(\"rattle\")) install.packages(\"rattle\")\n",
    "\n",
    "\n",
    "require(\"rpart\")\n",
    "require(\"rpart.plot\")\n",
    "require(\"arrow\")\n",
    "require(\"caret\")\n",
    "require(\"ggplot2\")\n",
    "require(\"rattle\")\n",
    "\n",
    "\n",
    "\n",
    "options(repr.plot.width = 8, repr.plot.height = 6, repr.plot.res = 150);\n",
    "\n",
    "start_time <- Sys.time()"
   ]
  },
  {
   "cell_type": "markdown",
   "id": "c6a927cc",
   "metadata": {},
   "source": [
    "# Random Forest on Count Data\n",
    "\n",
    "Let us first install the random forest package for count data, called **rfCountData**. Note that Rtools is required on Windows."
   ]
  },
  {
   "cell_type": "code",
   "execution_count": 2,
   "id": "5c72379b",
   "metadata": {},
   "outputs": [
    {
     "name": "stderr",
     "output_type": "stream",
     "text": [
      "Le chargement a nécessité le package : devtools\n",
      "\n",
      "Le chargement a nécessité le package : usethis\n",
      "\n",
      "Skipping install of 'rfCountData' from a github remote, the SHA1 (d9334631) has not changed since last install.\n",
      "  Use `force = TRUE` to force installation\n",
      "\n",
      "Le chargement a nécessité le package : rfCountData\n",
      "\n",
      "rfCountData 0.3.0\n",
      "\n",
      "\n",
      "Attachement du package : 'rfCountData'\n",
      "\n",
      "\n",
      "L'objet suivant est masqué depuis 'package:rattle':\n",
      "\n",
      "    importance\n",
      "\n",
      "\n",
      "Le chargement a nécessité le package : tidyr\n",
      "\n"
     ]
    }
   ],
   "source": [
    "# If 401 error, uncomment the following line:\n",
    "Sys.unsetenv(\"GITHUB_PAT\")\n",
    "if (!require(devtools)) install.packages(\"devtools\")\n",
    "devtools::install_github(\"fpechon/rfCountData\")\n",
    "\n",
    "\n",
    "# require(\"CASdatasets\")\n",
    "require(\"rfCountData\")\n",
    "require(\"caret\")\n",
    "require(\"tidyr\")\n",
    "require(\"arrow\")"
   ]
  },
  {
   "cell_type": "markdown",
   "id": "80e622c2",
   "metadata": {},
   "source": [
    "Let us load the data from the previously saved parquet file."
   ]
  },
  {
   "cell_type": "code",
   "execution_count": 3,
   "id": "a7d2ce3b",
   "metadata": {},
   "outputs": [],
   "source": [
    "dataset = read_parquet(file = \"../data/dataset.parquet\")"
   ]
  },
  {
   "cell_type": "markdown",
   "id": "6beb5b75",
   "metadata": {},
   "source": [
    "Similarly as in the previous session, we will split into a training and testing set. We are using the same seed to obtain identical training/testing sets across the various sessions."
   ]
  },
  {
   "cell_type": "code",
   "execution_count": 4,
   "id": "719e9d2e",
   "metadata": {},
   "outputs": [],
   "source": [
    "set.seed(21)\n",
    "in_training = createDataPartition(dataset$ClaimNb, times = 1, p = 0.8, list = FALSE)\n",
    "training_set = dataset[in_training, ]\n",
    "testing_set = dataset[-in_training, ]"
   ]
  },
  {
   "cell_type": "markdown",
   "id": "ef047ca3",
   "metadata": {},
   "source": [
    "The package **randomForest** allows to perform regression and classification. However, the split criterion in the regression case is based on the MSE, which may not be relevant for count data. Moreover, it did not allow the inclusion of an offset to take into account the different exposures of the policyholders.\n",
    "\n",
    "The package **rfCountData** tries to correct these issues. It is to be used only on count data.\n",
    "\n",
    "The use of the package is similar to the randomForest. Here, the main function is called rfPoisson."
   ]
  },
  {
   "cell_type": "code",
   "execution_count": 5,
   "id": "56f89eab",
   "metadata": {},
   "outputs": [
    {
     "name": "stdout",
     "output_type": "stream",
     "text": [
      "     | OOB (1 tree) | OOB (forest) |\n",
      "Tree |Loss Function |Loss Function |\n",
      "   1 |     0.254973 |     0.254973 |\n",
      "   2 |     0.258401 |     0.255019 |\n",
      "   3 |     0.251483 |     0.254255 |\n",
      "   4 |     0.254614 |     0.254435 |\n",
      "   5 |     0.254218 |     0.254314 |\n",
      "   6 |     0.252501 |     0.254248 |\n",
      "   7 |     0.256266 |     0.254309 |\n",
      "   8 |     0.252822 |      0.25431 |\n",
      "   9 |     0.256663 |     0.254329 |\n",
      "  10 |     0.255303 |     0.254301 |\n",
      "  11 |      0.25503 |     0.254225 |\n",
      "  12 |     0.254794 |     0.254125 |\n",
      "  13 |     0.255032 |     0.254155 |\n",
      "  14 |      0.25252 |     0.254125 |\n",
      "  15 |     0.257642 |     0.254151 |\n",
      "  16 |     0.255552 |     0.254158 |\n",
      "  17 |     0.254268 |     0.254183 |\n",
      "  18 |     0.252687 |     0.254151 |\n",
      "  19 |     0.255848 |     0.254156 |\n",
      "  20 |     0.253972 |     0.254148 |\n",
      "  21 |     0.254031 |     0.254133 |\n",
      "  22 |     0.250106 |     0.254113 |\n",
      "  23 |     0.256625 |     0.254104 |\n",
      "  24 |     0.255553 |       0.2541 |\n",
      "  25 |     0.256271 |     0.254098 |\n",
      "  26 |     0.252102 |     0.254097 |\n",
      "  27 |     0.256593 |     0.254094 |\n",
      "  28 |     0.253519 |     0.254085 |\n",
      "  29 |     0.249068 |     0.254084 |\n",
      "  30 |     0.253884 |     0.254089 |\n",
      "  31 |      0.26052 |     0.254085 |\n",
      "  32 |     0.259369 |     0.254087 |\n",
      "  33 |     0.255713 |     0.254071 |\n",
      "  34 |     0.256941 |     0.254066 |\n",
      "  35 |     0.252201 |     0.254069 |\n",
      "  36 |     0.252465 |     0.254061 |\n",
      "  37 |     0.255849 |     0.254063 |\n",
      "  38 |     0.259079 |     0.254063 |\n",
      "  39 |     0.253001 |     0.254053 |\n",
      "  40 |     0.253127 |     0.254049 |\n",
      "  41 |     0.251338 |     0.254046 |\n",
      "  42 |     0.255071 |     0.254038 |\n",
      "  43 |     0.252882 |     0.254032 |\n",
      "  44 |      0.25723 |     0.254029 |\n",
      "  45 |     0.258332 |     0.254024 |\n",
      "  46 |      0.25365 |      0.25403 |\n",
      "  47 |     0.255825 |     0.254031 |\n",
      "  48 |     0.254643 |     0.254032 |\n",
      "  49 |     0.257209 |     0.254026 |\n",
      "  50 |     0.256454 |     0.254017 |\n"
     ]
    }
   ],
   "source": [
    "set.seed(5) # For reproducibility\n",
    "m0_rf = rfPoisson(x = training_set[,c(\"DriverAge\", \"CarAge\")],\n",
    "                  offset = log(training_set$Exposure),\n",
    "                  y = training_set$ClaimNb,\n",
    "                  ntree = 50, # Number of trees in the forest\n",
    "                  nodesize = 4000, # Minimum number of observations in each leaf\n",
    "                  mtry=2, # Number of variables drawn at each node\n",
    "                  importance=TRUE,\n",
    "                  keep.inbag = TRUE,\n",
    "                  do.trace=TRUE)"
   ]
  },
  {
   "cell_type": "code",
   "execution_count": 6,
   "id": "ad4be0c4",
   "metadata": {},
   "outputs": [],
   "source": [
    "?rfPoisson"
   ]
  },
  {
   "cell_type": "markdown",
   "id": "04029863",
   "metadata": {},
   "source": [
    "## Hyperparameters\n",
    "\n",
    "In a random forest, we can play around with the following parameters\n",
    "\n",
    "- ntree: the number of trees of the forest\n",
    "- mtry: the number of variables randomly sampled as candidates at each split\n",
    "- nodesize : Number of cases in the terminal nodes (= leaves).\n",
    "- maxnodes : Maximum number of terminal nodes trees in the forest can have\n",
    "\n",
    "We also have some parameters related to the sampling done for each tree:\n",
    "\n",
    "- replace: Are the sampling of cases with or without replacement\n",
    "- sampsize: Size of the sampled cases"
   ]
  },
  {
   "cell_type": "markdown",
   "id": "1adcf8c2",
   "metadata": {},
   "source": [
    "## A note on Out-of-bag (OOB)\n",
    "\n",
    "In average, we expect more or less 36.788% observations to be OOB (why ?). We can check if we obtained similar number of OOB. Let us compute on tree number 1, how many times each observation has been drawn."
   ]
  },
  {
   "cell_type": "code",
   "execution_count": 7,
   "id": "445e0488",
   "metadata": {},
   "outputs": [
    {
     "data": {
      "text/plain": [
       ".\n",
       "    0     1     2     3     4     5     6     7     8 \n",
       "0.368 0.367 0.185 0.061 0.015 0.003 0.001 0.000 0.000 "
      ]
     },
     "metadata": {},
     "output_type": "display_data"
    }
   ],
   "source": [
    "m0_rf$inbag[,1] %>% \n",
    "  table() %>% \n",
    "  prop.table %>% \n",
    "  round(3)"
   ]
  },
  {
   "cell_type": "markdown",
   "id": "43cfb474",
   "metadata": {},
   "source": [
    "Similarly on tree number 2:"
   ]
  },
  {
   "cell_type": "code",
   "execution_count": 8,
   "id": "588d677b",
   "metadata": {},
   "outputs": [
    {
     "data": {
      "text/plain": [
       ".\n",
       "    0     1     2     3     4     5     6     7     8 \n",
       "0.367 0.370 0.183 0.061 0.015 0.003 0.001 0.000 0.000 "
      ]
     },
     "metadata": {},
     "output_type": "display_data"
    }
   ],
   "source": [
    "m0_rf$inbag[,2] %>% \n",
    "  table() %>% \n",
    "  prop.table %>% \n",
    "  round(3)"
   ]
  },
  {
   "cell_type": "markdown",
   "id": "acfbcc0e",
   "metadata": {},
   "source": [
    "At which point has every observation been OOB in at least one bootstrap sample (one tree) ?"
   ]
  },
  {
   "cell_type": "code",
   "execution_count": 9,
   "id": "f537fa18",
   "metadata": {},
   "outputs": [
    {
     "data": {
      "text/html": [
       "29"
      ],
      "text/latex": [
       "29"
      ],
      "text/markdown": [
       "29"
      ],
      "text/plain": [
       "[1] 29"
      ]
     },
     "metadata": {},
     "output_type": "display_data"
    }
   ],
   "source": [
    "# Cumulative product (will be 0 once the policy has been OOB for the first time)\n",
    "OOB_analysis = apply(m0_rf$inbag, 1, cumprod) \n",
    "# OOB_analysis is a 50 x n matrix. On each row, we take the sum. The first row\n",
    "# with a sum = 0 means that all observations have been OOB at least once.\n",
    "which.min(apply(OOB_analysis, 1, sum))"
   ]
  },
  {
   "cell_type": "markdown",
   "id": "1d87c56a",
   "metadata": {},
   "source": [
    "It can even be showed that for $ \\lim_{ntree \\rightarrow \\infty} OOBE = \\text{LLO-CV} $ the  converges to the LOO-CV error estimate (leave one out cross validation) which is unbiased but with higher variance with respect to k-fold CV with k<n. (see Hastie, T., Tibshirani, R., Friedman, J. (2001). The Elements of Statistical Learning.)\n",
    "\n",
    "Therefore, one could use the Out-of-bag error to find the optimal hyperparameters of the random forest."
   ]
  },
  {
   "cell_type": "markdown",
   "id": "1fa2b95f",
   "metadata": {},
   "source": [
    "## Dependence plot\n",
    "\n",
    "If we want some idea of the marginal effect of the variables, we can use the partial dependence plots"
   ]
  },
  {
   "cell_type": "code",
   "execution_count": 10,
   "id": "417c6c52",
   "metadata": {},
   "outputs": [
    {
     "data": {
      "image/png": "[encoded data removed]",
      "text/plain": [
       "plot without title"
      ]
     },
     "metadata": {
      "image/png": {
       "height": 450,
       "width": 600
      }
     },
     "output_type": "display_data"
    }
   ],
   "source": [
    "par(mfrow = c(1, 2))\n",
    "partialPlot(m0_rf, training_set, offset = log(training_set$Exposure), x.var = \"DriverAge\")"
   ]
  },
  {
   "cell_type": "code",
   "execution_count": 11,
   "id": "07640aca",
   "metadata": {},
   "outputs": [
    {
     "data": {
      "image/png": "[encoded data removed]",
      "text/plain": [
       "plot without title"
      ]
     },
     "metadata": {
      "image/png": {
       "height": 450,
       "width": 600
      }
     },
     "output_type": "display_data"
    }
   ],
   "source": [
    "partialPlot(m0_rf, training_set, offset = log(training_set$Exposure), x.var = \"CarAge\")\n"
   ]
  },
  {
   "cell_type": "markdown",
   "id": "50bb0bd3",
   "metadata": {},
   "source": [
    "## Variable Importance\n",
    "\n",
    "We can extract the variable importance. The importance is computed using permutations. Basically, for each variable at a time, a shuffle is performed. The increase of the OOB error is then used as importance metric."
   ]
  },
  {
   "cell_type": "code",
   "execution_count": 12,
   "id": "6ba818cd",
   "metadata": {},
   "outputs": [
    {
     "data": {
      "text/html": [
       "<table class=\"dataframe\">\n",
       "<caption>A matrix: 2 × 1 of type dbl</caption>\n",
       "<thead>\n",
       "\t<tr><th></th><th scope=col>%IncLossFunction</th></tr>\n",
       "</thead>\n",
       "<tbody>\n",
       "\t<tr><th scope=row>DriverAge</th><td>0.0048500723</td></tr>\n",
       "\t<tr><th scope=row>CarAge</th><td>0.0007017537</td></tr>\n",
       "</tbody>\n",
       "</table>\n"
      ],
      "text/latex": [
       "A matrix: 2 × 1 of type dbl\n",
       "\\begin{tabular}{r|l}\n",
       "  & \\%IncLossFunction\\\\\n",
       "\\hline\n",
       "\tDriverAge & 0.0048500723\\\\\n",
       "\tCarAge & 0.0007017537\\\\\n",
       "\\end{tabular}\n"
      ],
      "text/markdown": [
       "\n",
       "A matrix: 2 × 1 of type dbl\n",
       "\n",
       "| <!--/--> | %IncLossFunction |\n",
       "|---|---|\n",
       "| DriverAge | 0.0048500723 |\n",
       "| CarAge | 0.0007017537 |\n",
       "\n"
      ],
      "text/plain": [
       "          %IncLossFunction\n",
       "DriverAge 0.0048500723    \n",
       "CarAge    0.0007017537    "
      ]
     },
     "metadata": {},
     "output_type": "display_data"
    }
   ],
   "source": [
    "importance(m0_rf)"
   ]
  },
  {
   "cell_type": "markdown",
   "id": "1e502ebe",
   "metadata": {},
   "source": [
    "## Deviance\n",
    "\n",
    "We can see the deviance (on the training_set) as a function of the number of trees. After a few iterations, the error will stabilize."
   ]
  },
  {
   "cell_type": "code",
   "execution_count": 13,
   "id": "add723a5",
   "metadata": {},
   "outputs": [
    {
     "data": {
      "image/png": "[encoded data removed]",
      "text/plain": [
       "plot without title"
      ]
     },
     "metadata": {
      "image/png": {
       "height": 450,
       "width": 600
      }
     },
     "output_type": "display_data"
    }
   ],
   "source": [
    "plot(m0_rf)"
   ]
  },
  {
   "cell_type": "markdown",
   "id": "e5dec8c0",
   "metadata": {},
   "source": [
    "For the sake of comparison, let’s decrease the nodesize to 2500, and let mtry to 2 and increase the number of trees.\n",
    "\n"
   ]
  },
  {
   "cell_type": "code",
   "execution_count": 14,
   "id": "9c6128b1",
   "metadata": {},
   "outputs": [
    {
     "name": "stdout",
     "output_type": "stream",
     "text": [
      "     | OOB (1 tree) | OOB (forest) |\n",
      "Tree |Loss Function |Loss Function |\n",
      "   1 |     0.255425 |     0.255425 |\n",
      "   2 |     0.258837 |     0.255434 |\n",
      "   3 |     0.251976 |     0.254612 |\n",
      "   4 |     0.255408 |     0.254765 |\n",
      "   5 |     0.254517 |     0.254574 |\n",
      "   6 |     0.253401 |     0.254543 |\n",
      "   7 |     0.257201 |     0.254582 |\n",
      "   8 |     0.253392 |       0.2546 |\n",
      "   9 |     0.256922 |     0.254564 |\n",
      "  10 |     0.255514 |     0.254499 |\n",
      "  11 |     0.255216 |     0.254406 |\n",
      "  12 |     0.255001 |     0.254289 |\n",
      "  13 |     0.255943 |     0.254361 |\n",
      "  14 |     0.253414 |     0.254324 |\n",
      "  15 |      0.25776 |     0.254338 |\n",
      "  16 |     0.256643 |     0.254348 |\n",
      "  17 |     0.254443 |     0.254327 |\n",
      "  18 |      0.25273 |     0.254295 |\n",
      "  19 |     0.256177 |     0.254302 |\n",
      "  20 |     0.254574 |     0.254287 |\n",
      "  21 |     0.254419 |     0.254258 |\n",
      "  22 |     0.250441 |     0.254246 |\n",
      "  23 |     0.256611 |     0.254242 |\n",
      "  24 |      0.25671 |      0.25424 |\n",
      "  25 |     0.257349 |     0.254238 |\n",
      "  26 |     0.253257 |     0.254226 |\n",
      "  27 |     0.257355 |     0.254221 |\n",
      "  28 |     0.255009 |     0.254227 |\n",
      "  29 |     0.249279 |     0.254216 |\n",
      "  30 |     0.254891 |     0.254213 |\n",
      "  31 |     0.260842 |     0.254205 |\n",
      "  32 |      0.25975 |     0.254204 |\n",
      "  33 |     0.256421 |     0.254193 |\n",
      "  34 |     0.257794 |     0.254189 |\n",
      "  35 |     0.252417 |     0.254188 |\n",
      "  36 |      0.25279 |     0.254184 |\n",
      "  37 |     0.256463 |     0.254183 |\n",
      "  38 |     0.259105 |     0.254186 |\n",
      "  39 |     0.252912 |     0.254172 |\n",
      "  40 |     0.253559 |     0.254168 |\n",
      "  41 |     0.252687 |     0.254167 |\n",
      "  42 |     0.256185 |     0.254164 |\n",
      "  43 |     0.253619 |      0.25416 |\n",
      "  44 |     0.257458 |     0.254159 |\n",
      "  45 |     0.259795 |     0.254158 |\n",
      "  46 |     0.254444 |     0.254161 |\n",
      "  47 |     0.256104 |     0.254157 |\n",
      "  48 |     0.254562 |     0.254157 |\n",
      "  49 |       0.2582 |     0.254151 |\n",
      "  50 |     0.256553 |     0.254137 |\n",
      "  51 |     0.255702 |     0.254135 |\n",
      "  52 |     0.256003 |      0.25413 |\n",
      "  53 |     0.254251 |     0.254124 |\n",
      "  54 |     0.256149 |     0.254131 |\n",
      "  55 |       0.2507 |     0.254137 |\n",
      "  56 |     0.253072 |      0.25414 |\n",
      "  57 |     0.250638 |     0.254136 |\n",
      "  58 |     0.250953 |     0.254133 |\n",
      "  59 |     0.255249 |     0.254124 |\n",
      "  60 |     0.252897 |     0.254123 |\n",
      "  61 |     0.253346 |     0.254121 |\n",
      "  62 |     0.255994 |     0.254121 |\n",
      "  63 |      0.25418 |      0.25412 |\n",
      "  64 |      0.25274 |     0.254116 |\n",
      "  65 |     0.253679 |     0.254117 |\n",
      "  66 |     0.253035 |     0.254121 |\n",
      "  67 |     0.257514 |     0.254119 |\n",
      "  68 |     0.253406 |     0.254113 |\n",
      "  69 |     0.250956 |     0.254115 |\n",
      "  70 |     0.256815 |     0.254115 |\n",
      "  71 |     0.256614 |     0.254117 |\n",
      "  72 |      0.25535 |     0.254119 |\n",
      "  73 |     0.254979 |     0.254117 |\n",
      "  74 |     0.254287 |     0.254116 |\n",
      "  75 |     0.253254 |     0.254116 |\n",
      "  76 |     0.254716 |     0.254116 |\n",
      "  77 |     0.259042 |     0.254116 |\n",
      "  78 |     0.255438 |     0.254118 |\n",
      "  79 |     0.252617 |     0.254117 |\n",
      "  80 |     0.254706 |     0.254115 |\n",
      "  81 |     0.257212 |     0.254116 |\n",
      "  82 |     0.257351 |     0.254117 |\n",
      "  83 |     0.253211 |     0.254115 |\n",
      "  84 |     0.257929 |     0.254115 |\n",
      "  85 |     0.257271 |     0.254114 |\n",
      "  86 |     0.253895 |     0.254114 |\n",
      "  87 |     0.256018 |     0.254115 |\n",
      "  88 |     0.257323 |     0.254114 |\n",
      "  89 |      0.25529 |     0.254113 |\n",
      "  90 |     0.255199 |     0.254112 |\n",
      "  91 |     0.251921 |     0.254112 |\n",
      "  92 |     0.252816 |     0.254112 |\n",
      "  93 |     0.254084 |      0.25411 |\n",
      "  94 |     0.253852 |     0.254111 |\n",
      "  95 |     0.256022 |     0.254109 |\n",
      "  96 |     0.253559 |      0.25411 |\n",
      "  97 |      0.25743 |     0.254112 |\n",
      "  98 |     0.255646 |     0.254113 |\n",
      "  99 |     0.256371 |      0.25411 |\n",
      " 100 |     0.255045 |      0.25411 |\n"
     ]
    }
   ],
   "source": [
    "set.seed(5)\n",
    "m1_rf = rfPoisson(x = training_set[, c(\"DriverAge\", \"CarAge\")], offset = log(training_set$Exposure),\n",
    "    y = training_set$ClaimNb, ntree = 100, nodesize = 2500, mtry = 2, importance = TRUE,\n",
    "    do.trace = TRUE)"
   ]
  },
  {
   "cell_type": "markdown",
   "id": "363598fe",
   "metadata": {},
   "source": [
    "We can again see the error (mean deviance) as a function of the number of trees"
   ]
  },
  {
   "cell_type": "code",
   "execution_count": 15,
   "id": "fd84bd9a",
   "metadata": {},
   "outputs": [
    {
     "data": {
      "image/png": "[encoded data removed]",
      "text/plain": [
       "plot without title"
      ]
     },
     "metadata": {
      "image/png": {
       "height": 450,
       "width": 600
      }
     },
     "output_type": "display_data"
    }
   ],
   "source": [
    "plot(m1_rf)"
   ]
  },
  {
   "cell_type": "code",
   "execution_count": 16,
   "id": "61ef0b12",
   "metadata": {},
   "outputs": [
    {
     "data": {
      "text/html": [
       "<table class=\"dataframe\">\n",
       "<caption>A matrix: 2 × 1 of type dbl</caption>\n",
       "<thead>\n",
       "\t<tr><th></th><th scope=col>%IncLossFunction</th></tr>\n",
       "</thead>\n",
       "<tbody>\n",
       "\t<tr><th scope=row>DriverAge</th><td>0.0048666932</td></tr>\n",
       "\t<tr><th scope=row>CarAge</th><td>0.0008093661</td></tr>\n",
       "</tbody>\n",
       "</table>\n"
      ],
      "text/latex": [
       "A matrix: 2 × 1 of type dbl\n",
       "\\begin{tabular}{r|l}\n",
       "  & \\%IncLossFunction\\\\\n",
       "\\hline\n",
       "\tDriverAge & 0.0048666932\\\\\n",
       "\tCarAge & 0.0008093661\\\\\n",
       "\\end{tabular}\n"
      ],
      "text/markdown": [
       "\n",
       "A matrix: 2 × 1 of type dbl\n",
       "\n",
       "| <!--/--> | %IncLossFunction |\n",
       "|---|---|\n",
       "| DriverAge | 0.0048666932 |\n",
       "| CarAge | 0.0008093661 |\n",
       "\n"
      ],
      "text/plain": [
       "          %IncLossFunction\n",
       "DriverAge 0.0048666932    \n",
       "CarAge    0.0008093661    "
      ]
     },
     "metadata": {},
     "output_type": "display_data"
    }
   ],
   "source": [
    "importance(m1_rf)"
   ]
  },
  {
   "cell_type": "markdown",
   "id": "9644b865",
   "metadata": {},
   "source": [
    "Finally, we can compute the deviance on the testing set"
   ]
  },
  {
   "cell_type": "code",
   "execution_count": 17,
   "id": "fb2e70fb",
   "metadata": {},
   "outputs": [
    {
     "data": {
      "text/html": [
       "20611.3302741962"
      ],
      "text/latex": [
       "20611.3302741962"
      ],
      "text/markdown": [
       "20611.3302741962"
      ],
      "text/plain": [
       "[1] 20611.33"
      ]
     },
     "metadata": {},
     "output_type": "display_data"
    }
   ],
   "source": [
    "2 * (sum(dpois(x = testing_set$ClaimNb, lambda = testing_set$ClaimNb, log = TRUE)) -\n",
    "    sum(dpois(x = testing_set$ClaimNb, lambda = predict(m1_rf, testing_set[, c(\"DriverAge\",\n",
    "        \"CarAge\")], log(testing_set$Exposure)), log = TRUE)))"
   ]
  },
  {
   "cell_type": "markdown",
   "id": "6ed8efe1",
   "metadata": {},
   "source": [
    "At this point, we only used two variables, and the mtry parameter was set to 2. This means, that for each tree, and for each node, we drew 2 variables … out of 2: the random sampling of features did not really take place. When mtry = # variables, we are essentially constructing **bagged trees** …\n",
    "\n",
    "Obviously, random forests are supposed to work with a greater amount of variables. By default, mtry will be **a third** of the total number of features.\n",
    "\n",
    "If we had set mtry to 1, we would have constructed each node with one of the variables and this one would have been chosen randomly. The ‘split’ point would however been selected using the loss function.\n",
    "\n",
    "We can give it go and try with mtry = 1."
   ]
  },
  {
   "cell_type": "code",
   "execution_count": 18,
   "id": "8011d2f6",
   "metadata": {},
   "outputs": [
    {
     "name": "stdout",
     "output_type": "stream",
     "text": [
      "     | OOB (1 tree) | OOB (forest) |\n",
      "Tree |Loss Function |Loss Function |\n",
      "   1 |     0.257456 |     0.257456 |\n",
      "   2 |     0.252383 |     0.254238 |\n",
      "   3 |     0.258713 |     0.254828 |\n",
      "   4 |     0.255986 |     0.254727 |\n",
      "   5 |     0.254311 |     0.254247 |\n",
      "   6 |     0.257323 |     0.253937 |\n",
      "   7 |     0.255851 |     0.254421 |\n",
      "   8 |     0.251224 |       0.2544 |\n",
      "   9 |     0.250433 |     0.254278 |\n",
      "  10 |     0.256591 |     0.254355 |\n",
      "  11 |     0.257084 |     0.254287 |\n",
      "  12 |     0.253652 |     0.254239 |\n",
      "  13 |     0.252985 |     0.254275 |\n",
      "  14 |     0.253399 |     0.254292 |\n",
      "  15 |     0.255514 |     0.254204 |\n",
      "  16 |     0.253015 |     0.254122 |\n",
      "  17 |     0.252445 |       0.2541 |\n",
      "  18 |     0.256582 |     0.254091 |\n",
      "  19 |     0.255866 |     0.254054 |\n",
      "  20 |     0.253915 |     0.254047 |\n",
      "  21 |     0.252414 |     0.254027 |\n",
      "  22 |     0.255331 |     0.254028 |\n",
      "  23 |     0.253187 |     0.254039 |\n",
      "  24 |     0.258752 |     0.254036 |\n",
      "  25 |     0.253572 |     0.254037 |\n",
      "  26 |     0.251911 |     0.254034 |\n",
      "  27 |     0.259773 |     0.254027 |\n",
      "  28 |     0.252388 |     0.254037 |\n",
      "  29 |     0.255861 |     0.254036 |\n",
      "  30 |     0.256772 |     0.254035 |\n",
      "  31 |     0.252957 |      0.25403 |\n",
      "  32 |     0.258185 |     0.254031 |\n",
      "  33 |     0.255262 |     0.254027 |\n",
      "  34 |     0.254162 |     0.254025 |\n",
      "  35 |     0.256296 |     0.254026 |\n",
      "  36 |      0.25391 |     0.254017 |\n",
      "  37 |     0.254733 |     0.254023 |\n",
      "  38 |      0.25475 |     0.254017 |\n",
      "  39 |     0.258755 |     0.254022 |\n",
      "  40 |     0.255085 |     0.254012 |\n",
      "  41 |     0.257364 |     0.254002 |\n",
      "  42 |      0.25602 |        0.254 |\n",
      "  43 |     0.254543 |     0.253999 |\n",
      "  44 |     0.253497 |     0.253993 |\n",
      "  45 |     0.256324 |     0.253988 |\n",
      "  46 |     0.253242 |      0.25399 |\n",
      "  47 |      0.25384 |     0.253985 |\n",
      "  48 |     0.255257 |     0.253982 |\n",
      "  49 |     0.254625 |     0.253986 |\n",
      "  50 |     0.258525 |     0.253981 |\n",
      "  51 |     0.254506 |     0.253977 |\n",
      "  52 |     0.260268 |     0.253977 |\n",
      "  53 |     0.254544 |     0.253973 |\n",
      "  54 |     0.252565 |     0.253973 |\n",
      "  55 |     0.256824 |     0.253965 |\n",
      "  56 |     0.257648 |     0.253969 |\n",
      "  57 |     0.257388 |     0.253962 |\n",
      "  58 |     0.254635 |      0.25396 |\n",
      "  59 |      0.25588 |     0.253956 |\n",
      "  60 |     0.258799 |     0.253953 |\n",
      "  61 |     0.255945 |     0.253946 |\n",
      "  62 |     0.256125 |     0.253942 |\n",
      "  63 |     0.253051 |     0.253943 |\n",
      "  64 |     0.252744 |     0.253941 |\n",
      "  65 |      0.25127 |     0.253942 |\n",
      "  66 |     0.254442 |      0.25394 |\n",
      "  67 |     0.256004 |      0.25394 |\n",
      "  68 |     0.253503 |     0.253941 |\n",
      "  69 |     0.258404 |      0.25394 |\n",
      "  70 |     0.258239 |     0.253939 |\n",
      "  71 |     0.258562 |     0.253945 |\n",
      "  72 |     0.257421 |     0.253945 |\n",
      "  73 |     0.253599 |     0.253942 |\n",
      "  74 |     0.255888 |     0.253945 |\n",
      "  75 |      0.26264 |     0.253947 |\n",
      "  76 |     0.257035 |     0.253948 |\n",
      "  77 |     0.255471 |     0.253951 |\n",
      "  78 |     0.255086 |     0.253952 |\n",
      "  79 |     0.255129 |     0.253957 |\n",
      "  80 |     0.253851 |     0.253956 |\n",
      "  81 |     0.255991 |     0.253957 |\n",
      "  82 |     0.256007 |     0.253955 |\n",
      "  83 |     0.253421 |     0.253952 |\n",
      "  84 |     0.257517 |     0.253951 |\n",
      "  85 |     0.255551 |     0.253949 |\n",
      "  86 |     0.256195 |     0.253954 |\n",
      "  87 |     0.254221 |     0.253953 |\n",
      "  88 |     0.255258 |     0.253951 |\n",
      "  89 |     0.252953 |     0.253951 |\n",
      "  90 |     0.253031 |      0.25395 |\n",
      "  91 |     0.252684 |     0.253946 |\n",
      "  92 |     0.256805 |     0.253947 |\n",
      "  93 |     0.255825 |     0.253947 |\n",
      "  94 |     0.255395 |      0.25395 |\n",
      "  95 |     0.256165 |     0.253949 |\n",
      "  96 |     0.256768 |     0.253947 |\n",
      "  97 |     0.249641 |     0.253947 |\n",
      "  98 |     0.251506 |     0.253946 |\n",
      "  99 |     0.260108 |     0.253947 |\n",
      " 100 |      0.25546 |     0.253944 |\n"
     ]
    }
   ],
   "source": [
    "set.seed(8)\n",
    "m2_rf = rfPoisson(x = training_set[, c(\"DriverAge\", \"CarAge\")], offset = log(training_set$Exposure),\n",
    "    y = training_set$ClaimNb, ntree = 100, nodesize = 2500, mtry = 1, importance = TRUE,\n",
    "    do.trace = TRUE)"
   ]
  },
  {
   "cell_type": "markdown",
   "id": "f5913d5d",
   "metadata": {},
   "source": [
    "Let us take a look at the variable importance."
   ]
  },
  {
   "cell_type": "code",
   "execution_count": 19,
   "id": "f8e6f6d9",
   "metadata": {},
   "outputs": [
    {
     "data": {
      "text/html": [
       "<table class=\"dataframe\">\n",
       "<caption>A matrix: 2 × 1 of type dbl</caption>\n",
       "<thead>\n",
       "\t<tr><th></th><th scope=col>%IncLossFunction</th></tr>\n",
       "</thead>\n",
       "<tbody>\n",
       "\t<tr><th scope=row>DriverAge</th><td>0.0046968329</td></tr>\n",
       "\t<tr><th scope=row>CarAge</th><td>0.0007813552</td></tr>\n",
       "</tbody>\n",
       "</table>\n"
      ],
      "text/latex": [
       "A matrix: 2 × 1 of type dbl\n",
       "\\begin{tabular}{r|l}\n",
       "  & \\%IncLossFunction\\\\\n",
       "\\hline\n",
       "\tDriverAge & 0.0046968329\\\\\n",
       "\tCarAge & 0.0007813552\\\\\n",
       "\\end{tabular}\n"
      ],
      "text/markdown": [
       "\n",
       "A matrix: 2 × 1 of type dbl\n",
       "\n",
       "| <!--/--> | %IncLossFunction |\n",
       "|---|---|\n",
       "| DriverAge | 0.0046968329 |\n",
       "| CarAge | 0.0007813552 |\n",
       "\n"
      ],
      "text/plain": [
       "          %IncLossFunction\n",
       "DriverAge 0.0046968329    \n",
       "CarAge    0.0007813552    "
      ]
     },
     "metadata": {},
     "output_type": "display_data"
    }
   ],
   "source": [
    "importance(m2_rf)"
   ]
  },
  {
   "cell_type": "code",
   "execution_count": 20,
   "id": "c003fc75",
   "metadata": {},
   "outputs": [
    {
     "data": {
      "text/html": [
       "20597.8627792424"
      ],
      "text/latex": [
       "20597.8627792424"
      ],
      "text/markdown": [
       "20597.8627792424"
      ],
      "text/plain": [
       "[1] 20597.86"
      ]
     },
     "metadata": {},
     "output_type": "display_data"
    }
   ],
   "source": [
    "2 * (sum(dpois(x = testing_set$ClaimNb, lambda = testing_set$ClaimNb, log = TRUE)) -\n",
    "    sum(dpois(x = testing_set$ClaimNb, lambda = predict(m2_rf, testing_set[, c(\"DriverAge\",\n",
    "        \"CarAge\")], log(testing_set$Exposure)), log = TRUE)))"
   ]
  },
  {
   "cell_type": "markdown",
   "id": "5b67285f",
   "metadata": {},
   "source": [
    "# Use all the variables\n",
    "\n",
    "Some variables are factors, others are numerical variables. We can directly construct our random forest. We will set **mtry = floor(7/3) = 2** (default value).\n",
    "\n"
   ]
  },
  {
   "cell_type": "code",
   "execution_count": 21,
   "id": "638a297e",
   "metadata": {},
   "outputs": [
    {
     "name": "stdout",
     "output_type": "stream",
     "text": [
      "     | OOB (1 tree) | OOB (forest) |\n",
      "Tree |Loss Function |Loss Function |\n",
      "   1 |     0.253678 |     0.253678 |\n",
      "   2 |     0.250882 |     0.252763 |\n",
      "   3 |     0.253752 |      0.25314 |\n",
      "   4 |     0.254749 |     0.253318 |\n",
      "   5 |     0.252189 |     0.253149 |\n",
      "   6 |     0.254484 |     0.252996 |\n",
      "   7 |     0.254361 |     0.253028 |\n",
      "   8 |     0.251722 |      0.25286 |\n",
      "   9 |     0.254173 |     0.252857 |\n",
      "  10 |     0.256132 |     0.252742 |\n",
      "  11 |     0.254712 |      0.25267 |\n",
      "  12 |       0.2563 |     0.252695 |\n",
      "  13 |     0.252418 |     0.252583 |\n",
      "  14 |     0.250281 |     0.252526 |\n",
      "  15 |     0.252693 |     0.252554 |\n",
      "  16 |     0.257495 |     0.252504 |\n",
      "  17 |     0.255899 |     0.252496 |\n",
      "  18 |     0.253853 |     0.252497 |\n",
      "  19 |     0.257495 |     0.252488 |\n",
      "  20 |     0.252996 |     0.252457 |\n",
      "  21 |      0.25576 |     0.252431 |\n",
      "  22 |     0.256235 |     0.252402 |\n",
      "  23 |     0.256207 |     0.252381 |\n",
      "  24 |     0.256501 |     0.252329 |\n",
      "  25 |      0.25488 |     0.252312 |\n",
      "  26 |     0.250068 |     0.252311 |\n",
      "  27 |     0.253308 |     0.252286 |\n",
      "  28 |      0.25085 |     0.252292 |\n",
      "  29 |     0.256819 |     0.252286 |\n",
      "  30 |     0.253138 |     0.252281 |\n",
      "  31 |     0.254759 |     0.252264 |\n",
      "  32 |     0.254524 |     0.252244 |\n",
      "  33 |     0.256254 |     0.252239 |\n",
      "  34 |     0.249563 |     0.252219 |\n",
      "  35 |     0.254658 |     0.252214 |\n",
      "  36 |     0.252596 |     0.252203 |\n",
      "  37 |      0.24944 |     0.252186 |\n",
      "  38 |     0.252983 |     0.252183 |\n",
      "  39 |      0.25635 |     0.252191 |\n",
      "  40 |     0.253785 |     0.252185 |\n",
      "  41 |     0.252247 |     0.252182 |\n",
      "  42 |     0.250562 |     0.252175 |\n",
      "  43 |     0.252855 |     0.252169 |\n",
      "  44 |     0.255397 |     0.252179 |\n",
      "  45 |     0.253664 |     0.252173 |\n",
      "  46 |      0.25959 |      0.25219 |\n",
      "  47 |     0.250661 |     0.252173 |\n",
      "  48 |     0.252929 |     0.252174 |\n",
      "  49 |     0.257483 |     0.252168 |\n",
      "  50 |     0.252355 |     0.252167 |\n",
      "  51 |     0.252834 |     0.252158 |\n",
      "  52 |     0.256102 |     0.252152 |\n",
      "  53 |     0.251658 |     0.252153 |\n",
      "  54 |     0.251964 |     0.252143 |\n",
      "  55 |     0.255898 |     0.252137 |\n",
      "  56 |     0.257761 |     0.252133 |\n",
      "  57 |     0.256498 |     0.252133 |\n",
      "  58 |     0.252212 |     0.252125 |\n",
      "  59 |     0.253976 |     0.252129 |\n",
      "  60 |     0.249746 |     0.252126 |\n",
      "  61 |     0.254497 |     0.252123 |\n",
      "  62 |     0.255959 |     0.252124 |\n",
      "  63 |     0.257654 |     0.252129 |\n",
      "  64 |     0.254015 |     0.252122 |\n",
      "  65 |     0.256094 |     0.252122 |\n",
      "  66 |     0.251778 |     0.252115 |\n",
      "  67 |     0.253783 |     0.252106 |\n",
      "  68 |      0.25599 |       0.2521 |\n",
      "  69 |     0.257423 |     0.252097 |\n",
      "  70 |     0.256096 |     0.252101 |\n",
      "  71 |     0.253913 |     0.252092 |\n",
      "  72 |     0.254295 |     0.252095 |\n",
      "  73 |     0.252626 |     0.252092 |\n",
      "  74 |     0.253072 |     0.252089 |\n",
      "  75 |     0.256212 |     0.252089 |\n",
      "  76 |     0.254962 |     0.252092 |\n",
      "  77 |     0.248311 |     0.252086 |\n",
      "  78 |     0.252447 |     0.252085 |\n",
      "  79 |     0.258181 |     0.252089 |\n",
      "  80 |     0.253802 |     0.252082 |\n",
      "  81 |     0.254612 |     0.252081 |\n",
      "  82 |     0.254412 |     0.252079 |\n",
      "  83 |     0.254769 |     0.252077 |\n",
      "  84 |     0.251126 |     0.252076 |\n",
      "  85 |     0.254519 |     0.252077 |\n",
      "  86 |     0.254522 |     0.252074 |\n",
      "  87 |     0.254689 |     0.252081 |\n",
      "  88 |     0.256365 |     0.252077 |\n",
      "  89 |     0.254923 |      0.25207 |\n",
      "  90 |     0.253133 |     0.252072 |\n",
      "  91 |     0.250892 |     0.252073 |\n",
      "  92 |     0.253058 |     0.252073 |\n",
      "  93 |     0.251615 |     0.252068 |\n",
      "  94 |     0.249735 |     0.252068 |\n",
      "  95 |     0.257793 |     0.252068 |\n",
      "  96 |     0.256009 |     0.252067 |\n",
      "  97 |     0.252526 |     0.252069 |\n",
      "  98 |     0.257823 |     0.252076 |\n",
      "  99 |     0.253102 |      0.25207 |\n",
      " 100 |     0.253947 |      0.25207 |\n"
     ]
    }
   ],
   "source": [
    "set.seed(5)\n",
    "m4_rf = rfPoisson(x = training_set[, c(\"Power\", \"CarAge\", \"DriverAge\", \"Brand\", \"Gas\",\n",
    "    \"Region\", \"Density\")], offset = log(training_set$Exposure), y = training_set$ClaimNb,\n",
    "    ntree = 100, nodesize = 2500, mtry = 2, importance = TRUE, do.trace = TRUE)"
   ]
  },
  {
   "cell_type": "markdown",
   "id": "4cf40ea5",
   "metadata": {},
   "source": [
    "When a variable is a factor (not ordered), at each node, the average claim frequency for each level will be computed. Then, the levels will be sorted based on these claim frequencies, and a splitting among these sorted levels will be identified. If a variable a an ordered factor, the splitting point will be done on the ‘natural’ ordering of the levels, similarly to how a numerical variable is split."
   ]
  },
  {
   "cell_type": "code",
   "execution_count": 22,
   "id": "b15b54f9",
   "metadata": {},
   "outputs": [
    {
     "data": {
      "image/png": "[encoded data removed]",
      "text/plain": [
       "plot without title"
      ]
     },
     "metadata": {
      "image/png": {
       "height": 450,
       "width": 600
      }
     },
     "output_type": "display_data"
    }
   ],
   "source": [
    "plot(m4_rf)"
   ]
  },
  {
   "cell_type": "code",
   "execution_count": 23,
   "id": "738c913e",
   "metadata": {},
   "outputs": [
    {
     "data": {
      "image/png": "[encoded data removed]",
      "text/plain": [
       "plot without title"
      ]
     },
     "metadata": {
      "image/png": {
       "height": 450,
       "width": 600
      }
     },
     "output_type": "display_data"
    }
   ],
   "source": [
    "plotdata = as.data.frame(importance(m4_rf))\n",
    "names(plotdata) = \"importance\"\n",
    "plotdata$var = rownames(plotdata)\n",
    "\n",
    "ggplot(plotdata,aes(x =reorder(var,importance), y=importance)) + geom_bar(stat='identity')+coord_flip()+\n",
    "  scale_x_discrete(name=\"Variable\")"
   ]
  },
  {
   "cell_type": "markdown",
   "id": "a8acd343",
   "metadata": {},
   "source": [
    "Let us set the power variable as being **ordered** (Power will therefore be treated like a numerical variable) and reduce to 25 trees, only to allow a live demonstration."
   ]
  },
  {
   "cell_type": "code",
   "execution_count": 24,
   "id": "4b8fe5f9",
   "metadata": {},
   "outputs": [
    {
     "name": "stdout",
     "output_type": "stream",
     "text": [
      "     | OOB (1 tree) | OOB (forest) |\n",
      "Tree |Loss Function |Loss Function |\n",
      "   1 |     0.252944 |     0.252944 |\n",
      "   2 |     0.250967 |     0.252326 |\n",
      "   3 |     0.254465 |     0.252911 |\n",
      "   4 |     0.254149 |     0.253392 |\n",
      "   5 |     0.252165 |     0.253336 |\n",
      "   6 |      0.25252 |     0.252949 |\n",
      "   7 |     0.253915 |     0.252975 |\n",
      "   8 |      0.25127 |     0.252687 |\n",
      "   9 |     0.254466 |     0.252746 |\n",
      "  10 |     0.256558 |     0.252748 |\n",
      "  11 |     0.253905 |     0.252633 |\n",
      "  12 |     0.256715 |     0.252561 |\n",
      "  13 |     0.252875 |     0.252432 |\n",
      "  14 |     0.250058 |     0.252395 |\n",
      "  15 |     0.253584 |     0.252405 |\n",
      "  16 |      0.25761 |     0.252356 |\n",
      "  17 |     0.255958 |     0.252334 |\n",
      "  18 |      0.25315 |     0.252336 |\n",
      "  19 |     0.257933 |     0.252325 |\n",
      "  20 |     0.253017 |     0.252307 |\n",
      "  21 |     0.255431 |     0.252281 |\n",
      "  22 |     0.255845 |     0.252255 |\n",
      "  23 |     0.256721 |     0.252257 |\n",
      "  24 |     0.257061 |     0.252246 |\n",
      "  25 |     0.255371 |      0.25222 |\n"
     ]
    }
   ],
   "source": [
    "training_set$Power_ordered = as.ordered(training_set$Power)\n",
    "testing_set$Power_ordered = as.ordered(testing_set$Power)\n",
    "\n",
    "\n",
    "set.seed(5)\n",
    "m5_rf = rfPoisson(x = training_set[,c(\"Power_ordered\",\"CarAge\",\"DriverAge\",\"Brand\",\"Gas\",\"Region\",\"Density\")],\n",
    "                  offset = log(training_set$Exposure),\n",
    "                  y = training_set$ClaimNb,\n",
    "                  ntree = 25,\n",
    "                  nodesize = 2500,\n",
    "                  mtry=2,\n",
    "                  importance=TRUE,\n",
    "                  do.trace=TRUE)"
   ]
  },
  {
   "cell_type": "code",
   "execution_count": 25,
   "id": "ecf72d37",
   "metadata": {},
   "outputs": [
    {
     "data": {
      "image/png": "[encoded data removed]",
      "text/plain": [
       "plot without title"
      ]
     },
     "metadata": {
      "image/png": {
       "height": 450,
       "width": 600
      }
     },
     "output_type": "display_data"
    }
   ],
   "source": [
    "plotdata = as.data.frame(importance(m5_rf))\n",
    "names(plotdata) = \"importance\"\n",
    "plotdata$var = rownames(plotdata)\n",
    "\n",
    "ggplot(plotdata,aes(x =reorder(var,importance), y=importance)) + geom_bar(stat='identity')+coord_flip()+\n",
    "  scale_x_discrete(name=\"Variable\")"
   ]
  },
  {
   "cell_type": "markdown",
   "id": "aee79aa7",
   "metadata": {},
   "source": [
    "The Power variable now appears to have some importance (to be checked, though, with more trees)."
   ]
  },
  {
   "cell_type": "markdown",
   "id": "31934c82",
   "metadata": {},
   "source": [
    "## Cross-Validation\n",
    "\n",
    "We could rely on cross-validation to find the optimal hyper parameters, instead of Out-of-bag error. \n",
    "\n",
    "Ideally, we would construct a grid of possible hyperparameters. For instance, we could choose a set of possible values for *nodesize* and for *mtry*. Then, run the cross-validation on each of the possible cases.\n",
    "\n",
    "However, due to time limitation of this live demo, we are only going to compare two different mtry parameter (due to the time limitation).\n",
    "\n",
    "We will fasten the learning process by parallelizing the learning of the different forest on the different folds.\n",
    "\n",
    "For mtry = 3 and nodesize = 10000,\n"
   ]
  },
  {
   "cell_type": "code",
   "execution_count": 26,
   "id": "5bf69f93",
   "metadata": {},
   "outputs": [
    {
     "name": "stderr",
     "output_type": "stream",
     "text": [
      "Le chargement a nécessité le package : parallel\n",
      "\n"
     ]
    }
   ],
   "source": [
    "set.seed(6)\n",
    "folds = createFolds(training_set$ClaimNb, k = 5)\n",
    "require(parallel)"
   ]
  },
  {
   "cell_type": "code",
   "execution_count": 27,
   "id": "6bddc8bf",
   "metadata": {},
   "outputs": [],
   "source": [
    "cl = makeCluster(5)\n",
    "clusterExport(cl, \"training_set\")\n",
    "set.seed(859)\n",
    "res0 = parLapply(cl, folds, function(X) {\n",
    "    require(rfCountData)\n",
    "    m_cv = rfPoisson(x = training_set[-X, c(\"Power_ordered\", \"CarAge\", \"DriverAge\",\n",
    "        \"Brand\", \"Gas\", \"Region\", \"Density\")], offset = log(training_set[-X, ]$Exposure),\n",
    "        y = training_set[-X, ]$ClaimNb, xtest = training_set[X, c(\"Power_ordered\",\n",
    "            \"CarAge\", \"DriverAge\", \"Brand\", \"Gas\", \"Region\", \"Density\")], offsettest = log(training_set[X,\n",
    "            ]$Exposure), ytest = training_set[X, ]$ClaimNb, ntree = 100, nodesize = 10000,\n",
    "        mtry = 3, importance = TRUE, do.trace = FALSE, keep.forest = FALSE)\n",
    "    pred = m_cv$test$predicted\n",
    "    2 * (sum(dpois(x = training_set[X, ]$ClaimNb, lambda = training_set[X, ]$ClaimNb,\n",
    "        log = TRUE)) - sum(dpois(x = training_set[X, ]$ClaimNb, lambda = pred, log = TRUE)))/nrow(training_set[X,\n",
    "        ])\n",
    "})\n",
    "stopCluster(cl)"
   ]
  },
  {
   "cell_type": "markdown",
   "id": "32b3bcf2",
   "metadata": {},
   "source": [
    "For mtry = 5 and nodesize = 10000,\n",
    "\n"
   ]
  },
  {
   "cell_type": "code",
   "execution_count": 28,
   "id": "82f8ab7b",
   "metadata": {},
   "outputs": [],
   "source": [
    "set.seed(6)\n",
    "folds = createFolds(training_set$ClaimNb, k = 5)\n",
    "require(parallel)\n",
    "cl = makeCluster(5)\n",
    "clusterExport(cl, \"training_set\")\n",
    "set.seed(256)\n",
    "res1 = parLapply(cl, folds, function(X) {\n",
    "    require(rfCountData)\n",
    "    m_cv = rfPoisson(x = training_set[-X, c(\"Power_ordered\", \"CarAge\", \"DriverAge\",\n",
    "        \"Brand\", \"Gas\", \"Region\", \"Density\")], offset = log(training_set[-X, ]$Exposure),\n",
    "        y = training_set[-X, ]$ClaimNb, xtest = training_set[X, c(\"Power_ordered\",\n",
    "            \"CarAge\", \"DriverAge\", \"Brand\", \"Gas\", \"Region\", \"Density\")], offsettest = log(training_set[X,\n",
    "            ]$Exposure), ytest = training_set[X, ]$ClaimNb, ntree = 100, nodesize = 10000,\n",
    "        mtry = 5, importance = TRUE, do.trace = FALSE, keep.forest = FALSE)\n",
    "    pred = m_cv$test$predicted\n",
    "    2 * (sum(dpois(x = training_set[X, ]$ClaimNb, lambda = training_set[X, ]$ClaimNb,\n",
    "        log = TRUE)) - sum(dpois(x = training_set[X, ]$ClaimNb, lambda = pred, log = TRUE)))/nrow(training_set[X,\n",
    "        ])\n",
    "})\n",
    "stopCluster(cl)"
   ]
  },
  {
   "cell_type": "markdown",
   "id": "8f0d0741",
   "metadata": {},
   "source": [
    "We obtain the following results:"
   ]
  },
  {
   "cell_type": "code",
   "execution_count": 29,
   "id": "ef3a86b5",
   "metadata": {},
   "outputs": [
    {
     "data": {
      "text/html": [
       "<style>\n",
       ".list-inline {list-style: none; margin:0; padding: 0}\n",
       ".list-inline>li {display: inline-block}\n",
       ".list-inline>li:not(:last-child)::after {content: \"\\00b7\"; padding: 0 .5ex}\n",
       "</style>\n",
       "<ol class=list-inline><li>0.252365199293278</li><li>0.252334789759229</li></ol>\n"
      ],
      "text/latex": [
       "\\begin{enumerate*}\n",
       "\\item 0.252365199293278\n",
       "\\item 0.252334789759229\n",
       "\\end{enumerate*}\n"
      ],
      "text/markdown": [
       "1. 0.252365199293278\n",
       "2. 0.252334789759229\n",
       "\n",
       "\n"
      ],
      "text/plain": [
       "[1] 0.2523652 0.2523348"
      ]
     },
     "metadata": {},
     "output_type": "display_data"
    }
   ],
   "source": [
    "apply(cbind(unlist(res0), unlist(res1)), 2, mean)"
   ]
  },
  {
   "cell_type": "markdown",
   "id": "5c78659b",
   "metadata": {},
   "source": [
    "We could also have tried different nodesize values. Due to time limitation, we will compare them using OOB error.\n",
    "\n",
    "Let us now construct the whole forest on the whole training_set with the optimal mtry = 3.\n",
    "\n"
   ]
  },
  {
   "cell_type": "code",
   "execution_count": 30,
   "id": "872d5819",
   "metadata": {},
   "outputs": [
    {
     "name": "stdout",
     "output_type": "stream",
     "text": [
      "     | OOB (1 tree) | OOB (forest) |   Test set   |\n",
      "Tree |Loss Function |Loss Function |Loss Function |\n",
      "   1 |     0.251576 |     0.251576 |     0.250529 |\n",
      "   2 |     0.253316 |       0.2528 |     0.249736 |\n",
      "   3 |     0.257191 |     0.253251 |     0.249471 |\n",
      "   4 |     0.251813 |     0.253115 |     0.249375 |\n",
      "   5 |      0.25794 |     0.253314 |      0.24922 |\n",
      "   6 |     0.256251 |     0.253157 |     0.249222 |\n",
      "   7 |     0.254984 |     0.253222 |     0.249155 |\n",
      "   8 |     0.254975 |     0.253428 |     0.249183 |\n",
      "   9 |     0.251809 |     0.253186 |     0.249101 |\n",
      "  10 |     0.251829 |     0.252963 |     0.249084 |\n",
      "  11 |     0.253822 |     0.252864 |     0.249108 |\n",
      "  12 |      0.25576 |     0.252755 |     0.249086 |\n",
      "  13 |     0.251545 |     0.252716 |     0.249085 |\n",
      "  14 |     0.251005 |     0.252541 |     0.249066 |\n",
      "  15 |     0.254899 |     0.252581 |     0.249084 |\n",
      "  16 |     0.250148 |     0.252538 |      0.24908 |\n",
      "  17 |     0.258254 |      0.25247 |      0.24908 |\n",
      "  18 |      0.24968 |     0.252458 |     0.249043 |\n",
      "  19 |     0.254269 |     0.252461 |     0.249054 |\n",
      "  20 |     0.254354 |      0.25243 |     0.249052 |\n",
      "  21 |     0.253298 |     0.252405 |     0.249031 |\n",
      "  22 |      0.25146 |     0.252383 |     0.249037 |\n",
      "  23 |     0.253074 |      0.25238 |     0.249031 |\n",
      "  24 |     0.256621 |     0.252388 |     0.249039 |\n",
      "  25 |     0.253466 |     0.252382 |     0.249051 |\n",
      "  26 |     0.248913 |     0.252396 |     0.249054 |\n",
      "  27 |     0.257236 |     0.252394 |     0.249045 |\n",
      "  28 |     0.254123 |     0.252388 |     0.249049 |\n",
      "  29 |     0.253353 |     0.252379 |     0.249036 |\n",
      "  30 |     0.253825 |     0.252386 |     0.249046 |\n",
      "  31 |     0.254321 |     0.252396 |      0.24905 |\n",
      "  32 |     0.249316 |     0.252368 |     0.249035 |\n",
      "  33 |     0.254432 |     0.252362 |     0.249041 |\n",
      "  34 |     0.254096 |     0.252348 |      0.24904 |\n",
      "  35 |     0.253127 |     0.252352 |     0.249039 |\n",
      "  36 |     0.254215 |     0.252344 |     0.249052 |\n",
      "  37 |     0.257404 |     0.252348 |     0.249046 |\n",
      "  38 |     0.251476 |     0.252355 |     0.249058 |\n",
      "  39 |     0.253681 |     0.252343 |     0.249057 |\n",
      "  40 |     0.253885 |     0.252338 |     0.249035 |\n",
      "  41 |     0.249585 |     0.252328 |     0.249043 |\n",
      "  42 |     0.251552 |     0.252324 |     0.249038 |\n",
      "  43 |     0.255635 |     0.252329 |     0.249028 |\n",
      "  44 |     0.252636 |     0.252329 |     0.249021 |\n",
      "  45 |     0.259647 |     0.252326 |     0.249017 |\n",
      "  46 |      0.25373 |     0.252321 |      0.24902 |\n",
      "  47 |     0.257763 |     0.252315 |      0.24902 |\n",
      "  48 |     0.253179 |     0.252304 |     0.249009 |\n",
      "  49 |     0.248581 |      0.25231 |     0.249005 |\n",
      "  50 |     0.250709 |     0.252306 |     0.248999 |\n",
      "  51 |     0.253185 |     0.252308 |     0.248992 |\n",
      "  52 |     0.253858 |     0.252314 |     0.248992 |\n",
      "  53 |     0.258357 |      0.25231 |      0.24899 |\n",
      "  54 |     0.250164 |     0.252307 |     0.248994 |\n",
      "  55 |     0.250371 |     0.252298 |     0.248985 |\n",
      "  56 |     0.252385 |     0.252296 |     0.248989 |\n",
      "  57 |     0.250401 |      0.25229 |     0.248986 |\n",
      "  58 |     0.255715 |     0.252284 |     0.248982 |\n",
      "  59 |     0.254109 |      0.25228 |     0.248977 |\n",
      "  60 |     0.252146 |     0.252275 |     0.248967 |\n",
      "  61 |     0.246936 |     0.252277 |     0.248967 |\n",
      "  62 |     0.252865 |     0.252277 |     0.248969 |\n",
      "  63 |     0.255394 |     0.252284 |     0.248975 |\n",
      "  64 |     0.250547 |     0.252285 |     0.248984 |\n",
      "  65 |     0.253127 |     0.252285 |     0.248989 |\n",
      "  66 |     0.254565 |     0.252288 |     0.248993 |\n",
      "  67 |     0.255252 |     0.252285 |     0.248994 |\n",
      "  68 |     0.253307 |     0.252288 |     0.249005 |\n",
      "  69 |     0.255058 |     0.252287 |     0.249009 |\n",
      "  70 |     0.253653 |     0.252284 |     0.249007 |\n",
      "  71 |     0.250006 |     0.252282 |     0.249003 |\n",
      "  72 |      0.25252 |     0.252285 |     0.248997 |\n",
      "  73 |     0.257539 |     0.252284 |     0.248997 |\n",
      "  74 |     0.251575 |     0.252287 |     0.248993 |\n",
      "  75 |     0.256603 |     0.252282 |     0.248988 |\n",
      "  76 |     0.253501 |     0.252276 |     0.248983 |\n",
      "  77 |     0.253394 |     0.252281 |     0.248983 |\n",
      "  78 |     0.254358 |      0.25228 |     0.248978 |\n",
      "  79 |     0.249085 |     0.252281 |     0.248978 |\n",
      "  80 |     0.260866 |     0.252285 |     0.248974 |\n",
      "  81 |     0.251798 |     0.252286 |     0.248974 |\n",
      "  82 |     0.254853 |      0.25228 |     0.248975 |\n",
      "  83 |      0.25264 |      0.25228 |     0.248977 |\n",
      "  84 |     0.252977 |     0.252279 |     0.248974 |\n",
      "  85 |     0.253947 |      0.25228 |     0.248974 |\n",
      "  86 |     0.249918 |     0.252277 |      0.24897 |\n",
      "  87 |     0.255531 |     0.252275 |     0.248972 |\n",
      "  88 |     0.252098 |     0.252271 |     0.248975 |\n",
      "  89 |     0.251677 |     0.252267 |     0.248977 |\n",
      "  90 |     0.253643 |     0.252265 |     0.248972 |\n",
      "  91 |     0.252664 |     0.252261 |     0.248974 |\n",
      "  92 |     0.251424 |     0.252258 |     0.248977 |\n",
      "  93 |      0.25579 |     0.252258 |     0.248982 |\n",
      "  94 |       0.2541 |     0.252258 |     0.248982 |\n",
      "  95 |     0.253264 |     0.252256 |     0.248981 |\n",
      "  96 |     0.255602 |     0.252257 |     0.248979 |\n",
      "  97 |     0.251689 |      0.25226 |     0.248982 |\n",
      "  98 |      0.25009 |     0.252259 |     0.248983 |\n",
      "  99 |     0.252007 |     0.252261 |     0.248986 |\n",
      " 100 |      0.25444 |     0.252263 |     0.248988 |\n"
     ]
    }
   ],
   "source": [
    "set.seed(43)\n",
    "m_final_1 = rfPoisson(x = training_set[, c(\"Power_ordered\", \"CarAge\", \"DriverAge\",\n",
    "    \"Brand\", \"Gas\", \"Region\", \"Density\")], offset = log(training_set$Exposure), y = training_set$ClaimNb,\n",
    "    xtest = testing_set[, c(\"Power_ordered\", \"CarAge\", \"DriverAge\", \"Brand\", \"Gas\",\n",
    "        \"Region\", \"Density\")], offsettest = log(testing_set$Exposure), ytest = testing_set$ClaimNb,\n",
    "    ntree = 100, nodesize = 10000, mtry = 3, importance = TRUE, do.trace = TRUE,\n",
    "    keep.forest = TRUE)\n"
   ]
  },
  {
   "cell_type": "code",
   "execution_count": 31,
   "id": "770340c6",
   "metadata": {},
   "outputs": [
    {
     "data": {
      "image/png": "[encoded data removed]",
      "text/plain": [
       "plot without title"
      ]
     },
     "metadata": {
      "image/png": {
       "height": 450,
       "width": 600
      }
     },
     "output_type": "display_data"
    }
   ],
   "source": [
    "plot(m_final_1)"
   ]
  },
  {
   "cell_type": "markdown",
   "id": "b036f997",
   "metadata": {},
   "source": [
    "We can compare with a higher nodesize.."
   ]
  },
  {
   "cell_type": "code",
   "execution_count": 32,
   "id": "3810eaed",
   "metadata": {},
   "outputs": [
    {
     "name": "stdout",
     "output_type": "stream",
     "text": [
      "     | OOB (1 tree) | OOB (forest) |   Test set   |\n",
      "Tree |Loss Function |Loss Function |Loss Function |\n",
      "   1 |     0.251886 |     0.251886 |     0.251133 |\n",
      "   2 |     0.253126 |     0.252785 |     0.249883 |\n",
      "   3 |     0.257479 |     0.253368 |     0.249676 |\n",
      "   4 |     0.251614 |     0.253143 |      0.24962 |\n",
      "   5 |     0.260599 |     0.252911 |     0.249343 |\n",
      "   6 |     0.254547 |     0.252996 |     0.249314 |\n",
      "   7 |     0.253893 |     0.252944 |     0.249225 |\n",
      "   8 |     0.251638 |     0.252817 |     0.249221 |\n",
      "   9 |     0.251182 |     0.252852 |     0.249191 |\n",
      "  10 |     0.251417 |     0.252864 |     0.249195 |\n",
      "  11 |     0.253968 |     0.252823 |      0.24924 |\n",
      "  12 |     0.254901 |     0.252856 |     0.249236 |\n",
      "  13 |     0.252157 |     0.252733 |      0.24925 |\n",
      "  14 |     0.252668 |     0.252745 |      0.24928 |\n",
      "  15 |      0.25399 |     0.252669 |      0.24928 |\n",
      "  16 |      0.25186 |     0.252648 |     0.249259 |\n",
      "  17 |     0.258936 |     0.252685 |     0.249285 |\n",
      "  18 |     0.252113 |     0.252652 |      0.24929 |\n",
      "  19 |     0.252426 |     0.252646 |     0.249271 |\n",
      "  20 |     0.251668 |     0.252633 |     0.249283 |\n",
      "  21 |      0.25851 |     0.252674 |     0.249247 |\n",
      "  22 |     0.254237 |     0.252656 |     0.249238 |\n",
      "  23 |     0.253252 |     0.252647 |     0.249241 |\n",
      "  24 |     0.257009 |     0.252625 |     0.249252 |\n",
      "  25 |     0.252553 |     0.252619 |     0.249261 |\n",
      "  26 |     0.252213 |     0.252609 |     0.249248 |\n",
      "  27 |     0.254516 |     0.252602 |     0.249241 |\n",
      "  28 |     0.254442 |     0.252595 |     0.249239 |\n",
      "  29 |     0.254707 |     0.252599 |     0.249243 |\n",
      "  30 |     0.252834 |     0.252579 |     0.249226 |\n",
      "  31 |     0.253473 |     0.252584 |     0.249234 |\n",
      "  32 |     0.254572 |     0.252571 |      0.24924 |\n",
      "  33 |     0.249403 |     0.252561 |     0.249236 |\n",
      "  34 |     0.253061 |     0.252545 |     0.249222 |\n",
      "  35 |      0.25503 |     0.252538 |     0.249232 |\n",
      "  36 |     0.253388 |     0.252533 |     0.249242 |\n",
      "  37 |     0.253114 |     0.252534 |     0.249249 |\n",
      "  38 |     0.254656 |     0.252537 |     0.249256 |\n",
      "  39 |     0.247839 |     0.252523 |     0.249248 |\n",
      "  40 |     0.256067 |     0.252523 |     0.249238 |\n",
      "  41 |     0.252224 |     0.252528 |     0.249253 |\n",
      "  42 |     0.252815 |     0.252514 |     0.249263 |\n",
      "  43 |     0.255772 |     0.252505 |     0.249253 |\n",
      "  44 |     0.256837 |     0.252512 |     0.249272 |\n",
      "  45 |     0.252172 |     0.252516 |      0.24927 |\n",
      "  46 |      0.25565 |     0.252518 |     0.249278 |\n",
      "  47 |     0.252005 |      0.25252 |      0.24929 |\n",
      "  48 |     0.251793 |     0.252522 |     0.249293 |\n",
      "  49 |     0.253576 |     0.252517 |     0.249286 |\n",
      "  50 |     0.256785 |     0.252519 |     0.249286 |\n",
      "  51 |     0.252195 |     0.252516 |     0.249285 |\n",
      "  52 |     0.256147 |     0.252515 |     0.249292 |\n",
      "  53 |     0.254208 |     0.252513 |     0.249294 |\n",
      "  54 |     0.254607 |     0.252513 |     0.249294 |\n",
      "  55 |     0.253036 |     0.252513 |     0.249295 |\n",
      "  56 |     0.253231 |     0.252504 |     0.249285 |\n",
      "  57 |     0.250612 |       0.2525 |     0.249281 |\n",
      "  58 |     0.252317 |     0.252497 |     0.249286 |\n",
      "  59 |     0.252004 |     0.252494 |     0.249278 |\n",
      "  60 |     0.254915 |     0.252498 |     0.249278 |\n",
      "  61 |     0.253731 |     0.252488 |     0.249271 |\n",
      "  62 |     0.252477 |     0.252486 |     0.249261 |\n",
      "  63 |     0.248306 |     0.252486 |     0.249263 |\n",
      "  64 |     0.252824 |     0.252481 |     0.249259 |\n",
      "  65 |     0.256352 |     0.252486 |     0.249262 |\n",
      "  66 |     0.252051 |     0.252486 |     0.249264 |\n",
      "  67 |     0.251481 |     0.252491 |     0.249271 |\n",
      "  68 |     0.256635 |     0.252494 |     0.249277 |\n",
      "  69 |     0.253693 |     0.252494 |     0.249277 |\n",
      "  70 |     0.253855 |     0.252494 |     0.249282 |\n",
      "  71 |     0.259145 |     0.252499 |     0.249278 |\n",
      "  72 |     0.253437 |       0.2525 |     0.249277 |\n",
      "  73 |     0.253344 |     0.252498 |     0.249272 |\n",
      "  74 |     0.250617 |     0.252499 |     0.249269 |\n",
      "  75 |     0.256355 |     0.252498 |     0.249269 |\n",
      "  76 |      0.25222 |     0.252498 |     0.249269 |\n",
      "  77 |     0.253562 |     0.252499 |      0.24927 |\n",
      "  78 |     0.253212 |     0.252495 |      0.24927 |\n",
      "  79 |     0.255911 |     0.252495 |     0.249273 |\n",
      "  80 |     0.251098 |     0.252492 |      0.24927 |\n",
      "  81 |     0.256556 |     0.252491 |     0.249278 |\n",
      "  82 |     0.254536 |     0.252494 |     0.249284 |\n",
      "  83 |     0.250076 |     0.252488 |     0.249283 |\n",
      "  84 |     0.257786 |     0.252489 |     0.249279 |\n",
      "  85 |     0.253769 |     0.252487 |     0.249281 |\n",
      "  86 |     0.254267 |     0.252488 |     0.249279 |\n",
      "  87 |     0.251744 |     0.252483 |     0.249272 |\n",
      "  88 |     0.256225 |     0.252483 |     0.249274 |\n",
      "  89 |     0.256893 |      0.25248 |     0.249268 |\n",
      "  90 |      0.25307 |     0.252488 |     0.249278 |\n",
      "  91 |     0.253685 |     0.252484 |     0.249273 |\n",
      "  92 |     0.252977 |     0.252479 |     0.249269 |\n",
      "  93 |     0.255728 |     0.252482 |     0.249268 |\n",
      "  94 |     0.254504 |     0.252481 |     0.249267 |\n",
      "  95 |     0.255003 |     0.252477 |     0.249264 |\n",
      "  96 |     0.249979 |     0.252474 |     0.249263 |\n",
      "  97 |     0.250788 |     0.252472 |     0.249263 |\n",
      "  98 |     0.251404 |     0.252474 |     0.249265 |\n",
      "  99 |     0.249957 |     0.252472 |     0.249263 |\n",
      " 100 |     0.254902 |     0.252472 |     0.249256 |\n"
     ]
    }
   ],
   "source": [
    "set.seed(43)\n",
    "m_final_2 = rfPoisson(x = training_set[, c(\"Power_ordered\", \"CarAge\", \"DriverAge\",\n",
    "    \"Brand\", \"Gas\", \"Region\", \"Density\")], offset = log(training_set$Exposure), y = training_set$ClaimNb,\n",
    "    xtest = testing_set[, c(\"Power_ordered\", \"CarAge\", \"DriverAge\", \"Brand\", \"Gas\",\n",
    "        \"Region\", \"Density\")], offsettest = log(testing_set$Exposure), ytest = testing_set$ClaimNb,\n",
    "    ntree = 100, nodesize = 15000, mtry = 3, importance = TRUE, do.trace = TRUE,\n",
    "    keep.forest = TRUE)\n"
   ]
  },
  {
   "cell_type": "code",
   "execution_count": 33,
   "id": "a92dc88b",
   "metadata": {},
   "outputs": [
    {
     "data": {
      "image/png": "[encoded data removed]",
      "text/plain": [
       "plot without title"
      ]
     },
     "metadata": {
      "image/png": {
       "height": 450,
       "width": 600
      }
     },
     "output_type": "display_data"
    }
   ],
   "source": [
    "plot(m_final_2)"
   ]
  },
  {
   "cell_type": "markdown",
   "id": "07eabd9a",
   "metadata": {},
   "source": [
    "… and with a lower nodesize."
   ]
  },
  {
   "cell_type": "code",
   "execution_count": 34,
   "id": "f81bebe8",
   "metadata": {},
   "outputs": [
    {
     "name": "stdout",
     "output_type": "stream",
     "text": [
      "     | OOB (1 tree) | OOB (forest) |   Test set   |\n",
      "Tree |Loss Function |Loss Function |Loss Function |\n",
      "   1 |     0.252022 |     0.252022 |     0.250815 |\n",
      "   2 |      0.25376 |     0.253335 |     0.250591 |\n",
      "   3 |     0.257685 |     0.253645 |     0.250088 |\n",
      "   4 |      0.25104 |     0.253176 |     0.249703 |\n",
      "   5 |     0.257808 |     0.253199 |     0.249435 |\n",
      "   6 |     0.256514 |     0.253074 |     0.249265 |\n",
      "   7 |     0.254637 |     0.253118 |     0.249118 |\n",
      "   8 |     0.255074 |     0.253313 |     0.249117 |\n",
      "   9 |     0.252071 |     0.253217 |     0.249069 |\n",
      "  10 |     0.253328 |      0.25305 |     0.249052 |\n",
      "  11 |     0.252583 |     0.252918 |     0.249097 |\n",
      "  12 |     0.253055 |     0.252864 |     0.249112 |\n",
      "  13 |     0.252531 |     0.252708 |     0.249101 |\n",
      "  14 |     0.251127 |      0.25254 |     0.249096 |\n",
      "  15 |     0.254285 |     0.252538 |     0.249095 |\n",
      "  16 |     0.251453 |     0.252497 |     0.249053 |\n",
      "  17 |     0.257876 |     0.252434 |      0.24902 |\n",
      "  18 |     0.252899 |     0.252398 |     0.249017 |\n",
      "  19 |     0.255527 |     0.252376 |     0.248988 |\n",
      "  20 |     0.252829 |     0.252332 |     0.248967 |\n",
      "  21 |     0.249572 |     0.252275 |     0.248931 |\n",
      "  22 |     0.251612 |     0.252264 |     0.248937 |\n",
      "  23 |     0.254398 |      0.25228 |       0.2489 |\n",
      "  24 |     0.254414 |     0.252256 |     0.248896 |\n",
      "  25 |     0.253647 |     0.252244 |     0.248913 |\n",
      "  26 |      0.24834 |     0.252231 |     0.248925 |\n",
      "  27 |     0.257387 |     0.252209 |     0.248925 |\n",
      "  28 |     0.253171 |     0.252207 |      0.24892 |\n",
      "  29 |     0.255362 |     0.252185 |     0.248897 |\n",
      "  30 |       0.2521 |     0.252188 |     0.248868 |\n",
      "  31 |     0.258441 |     0.252163 |     0.248869 |\n",
      "  32 |     0.252537 |     0.252155 |     0.248852 |\n",
      "  33 |     0.254213 |     0.252151 |     0.248854 |\n",
      "  34 |     0.254862 |     0.252165 |     0.248849 |\n",
      "  35 |      0.25597 |     0.252169 |     0.248846 |\n",
      "  36 |     0.254958 |     0.252147 |     0.248853 |\n",
      "  37 |     0.255117 |     0.252138 |      0.24884 |\n",
      "  38 |     0.252473 |     0.252123 |     0.248827 |\n",
      "  39 |     0.256205 |     0.252121 |     0.248824 |\n",
      "  40 |     0.252378 |     0.252123 |     0.248824 |\n",
      "  41 |     0.255045 |     0.252124 |     0.248827 |\n",
      "  42 |     0.254665 |     0.252118 |     0.248831 |\n",
      "  43 |     0.251531 |     0.252126 |     0.248845 |\n",
      "  44 |     0.250597 |     0.252116 |     0.248844 |\n",
      "  45 |      0.25043 |     0.252123 |     0.248845 |\n",
      "  46 |     0.251343 |     0.252131 |     0.248847 |\n",
      "  47 |     0.252169 |     0.252132 |     0.248847 |\n",
      "  48 |     0.257428 |     0.252131 |     0.248858 |\n",
      "  49 |     0.253215 |     0.252139 |     0.248859 |\n",
      "  50 |     0.255452 |     0.252136 |     0.248862 |\n",
      "  51 |     0.253079 |     0.252127 |     0.248863 |\n",
      "  52 |     0.253999 |     0.252124 |     0.248869 |\n",
      "  53 |     0.250864 |     0.252117 |     0.248867 |\n",
      "  54 |     0.257803 |     0.252118 |     0.248863 |\n",
      "  55 |     0.254791 |     0.252114 |     0.248856 |\n",
      "  56 |     0.255509 |     0.252112 |     0.248857 |\n",
      "  57 |     0.253138 |     0.252107 |     0.248846 |\n",
      "  58 |     0.252269 |     0.252098 |     0.248835 |\n",
      "  59 |     0.254782 |     0.252095 |     0.248832 |\n",
      "  60 |     0.253356 |     0.252092 |     0.248831 |\n",
      "  61 |     0.252584 |     0.252085 |     0.248828 |\n",
      "  62 |     0.252088 |     0.252079 |     0.248821 |\n",
      "  63 |     0.250096 |     0.252075 |     0.248817 |\n",
      "  64 |     0.257376 |     0.252071 |     0.248811 |\n",
      "  65 |     0.253081 |     0.252076 |     0.248808 |\n",
      "  66 |     0.249972 |     0.252076 |     0.248803 |\n",
      "  67 |     0.250634 |     0.252068 |       0.2488 |\n",
      "  68 |     0.254519 |     0.252074 |     0.248811 |\n",
      "  69 |     0.251586 |     0.252071 |     0.248814 |\n",
      "  70 |     0.251075 |     0.252073 |     0.248817 |\n",
      "  71 |      0.25315 |     0.252072 |     0.248808 |\n",
      "  72 |     0.251393 |     0.252073 |     0.248802 |\n",
      "  73 |     0.251345 |     0.252073 |     0.248797 |\n",
      "  74 |     0.253342 |     0.252063 |     0.248796 |\n",
      "  75 |     0.253117 |     0.252063 |     0.248796 |\n",
      "  76 |     0.254793 |     0.252059 |     0.248794 |\n",
      "  77 |     0.253865 |      0.25206 |       0.2488 |\n",
      "  78 |     0.253593 |     0.252057 |     0.248798 |\n",
      "  79 |     0.253049 |     0.252059 |     0.248798 |\n",
      "  80 |     0.251903 |     0.252057 |     0.248799 |\n",
      "  81 |     0.252041 |     0.252056 |     0.248794 |\n",
      "  82 |     0.251321 |     0.252057 |     0.248795 |\n",
      "  83 |     0.253593 |     0.252063 |     0.248797 |\n",
      "  84 |     0.249622 |     0.252066 |     0.248801 |\n",
      "  85 |     0.255822 |     0.252064 |     0.248795 |\n",
      "  86 |     0.253343 |     0.252058 |     0.248793 |\n",
      "  87 |     0.250391 |     0.252056 |     0.248797 |\n",
      "  88 |     0.254307 |     0.252054 |     0.248792 |\n",
      "  89 |     0.252345 |     0.252053 |     0.248792 |\n",
      "  90 |     0.254746 |     0.252051 |     0.248794 |\n",
      "  91 |     0.253154 |     0.252049 |     0.248798 |\n",
      "  92 |     0.253585 |     0.252047 |     0.248795 |\n",
      "  93 |     0.252664 |     0.252041 |     0.248789 |\n",
      "  94 |     0.255564 |     0.252044 |     0.248781 |\n",
      "  95 |     0.252927 |     0.252044 |     0.248778 |\n",
      "  96 |     0.252334 |     0.252044 |     0.248781 |\n",
      "  97 |      0.25336 |     0.252044 |     0.248782 |\n",
      "  98 |      0.24961 |     0.252042 |     0.248783 |\n",
      "  99 |     0.254343 |     0.252045 |     0.248781 |\n",
      " 100 |     0.256108 |     0.252042 |     0.248782 |\n"
     ]
    }
   ],
   "source": [
    "set.seed(43)\n",
    "m_final_3 = rfPoisson(x = training_set[, c(\"Power_ordered\", \"CarAge\", \"DriverAge\",\n",
    "    \"Brand\", \"Gas\", \"Region\", \"Density\")], offset = log(training_set$Exposure), y = training_set$ClaimNb,\n",
    "    xtest = testing_set[, c(\"Power_ordered\", \"CarAge\", \"DriverAge\", \"Brand\", \"Gas\",\n",
    "        \"Region\", \"Density\")], offsettest = log(testing_set$Exposure), ytest = testing_set$ClaimNb,\n",
    "    ntree = 100, nodesize = 5000, mtry = 3, importance = TRUE, do.trace = TRUE, keep.forest = TRUE)"
   ]
  },
  {
   "cell_type": "code",
   "execution_count": 35,
   "id": "2a183321",
   "metadata": {},
   "outputs": [
    {
     "data": {
      "image/png": "[encoded data removed]",
      "text/plain": [
       "plot without title"
      ]
     },
     "metadata": {
      "image/png": {
       "height": 450,
       "width": 600
      }
     },
     "output_type": "display_data"
    }
   ],
   "source": [
    "plot(m_final_3)"
   ]
  },
  {
   "cell_type": "markdown",
   "id": "e261d1ac",
   "metadata": {},
   "source": [
    "We conclude with the usual mean deviance on the testing_set"
   ]
  },
  {
   "cell_type": "code",
   "execution_count": 36,
   "id": "989e1e41",
   "metadata": {},
   "outputs": [
    {
     "data": {
      "text/html": [
       "20459.8658727473"
      ],
      "text/latex": [
       "20459.8658727473"
      ],
      "text/markdown": [
       "20459.8658727473"
      ],
      "text/plain": [
       "[1] 20459.87"
      ]
     },
     "metadata": {},
     "output_type": "display_data"
    }
   ],
   "source": [
    "pred = predict(m_final_1, testing_set[,c(\"Power_ordered\",\"CarAge\",\"DriverAge\",\"Brand\",\"Gas\",\"Region\",\"Density\")], offset = log(testing_set$Exposure))\n",
    "2*(sum(dpois(x = testing_set$ClaimNb, lambda = testing_set$ClaimNb,log=TRUE))-\n",
    "  sum(dpois(x = testing_set$ClaimNb, lambda = pred,\n",
    "            log=TRUE)))"
   ]
  },
  {
   "cell_type": "code",
   "execution_count": 37,
   "id": "91638ecc",
   "metadata": {},
   "outputs": [
    {
     "data": {
      "text/html": [
       "20481.8482882072"
      ],
      "text/latex": [
       "20481.8482882072"
      ],
      "text/markdown": [
       "20481.8482882072"
      ],
      "text/plain": [
       "[1] 20481.85"
      ]
     },
     "metadata": {},
     "output_type": "display_data"
    }
   ],
   "source": [
    "pred = predict(m_final_2, testing_set[,c(\"Power_ordered\",\"CarAge\",\"DriverAge\",\"Brand\",\"Gas\",\"Region\",\"Density\")], offset = log(testing_set$Exposure))\n",
    "2*(sum(dpois(x = testing_set$ClaimNb, lambda = testing_set$ClaimNb,log=TRUE))-\n",
    "  sum(dpois(x = testing_set$ClaimNb, lambda = pred,\n",
    "            log=TRUE)))"
   ]
  },
  {
   "cell_type": "code",
   "execution_count": 38,
   "id": "9d279df0",
   "metadata": {},
   "outputs": [
    {
     "data": {
      "text/html": [
       "20442.93944435"
      ],
      "text/latex": [
       "20442.93944435"
      ],
      "text/markdown": [
       "20442.93944435"
      ],
      "text/plain": [
       "[1] 20442.94"
      ]
     },
     "metadata": {},
     "output_type": "display_data"
    }
   ],
   "source": [
    "pred = predict(m_final_3, testing_set[,c(\"Power_ordered\",\"CarAge\",\"DriverAge\",\"Brand\",\"Gas\",\"Region\",\"Density\")], offset = log(testing_set$Exposure))\n",
    "2*(sum(dpois(x = testing_set$ClaimNb, lambda = testing_set$ClaimNb,log=TRUE))-\n",
    "  sum(dpois(x = testing_set$ClaimNb, lambda = pred,\n",
    "            log=TRUE)))"
   ]
  },
  {
   "cell_type": "code",
   "execution_count": 39,
   "id": "7d606829",
   "metadata": {},
   "outputs": [],
   "source": [
    "end_time <- Sys.time()"
   ]
  },
  {
   "cell_type": "code",
   "execution_count": 40,
   "id": "23863473",
   "metadata": {},
   "outputs": [
    {
     "data": {
      "text/plain": [
       "Time difference of 38.25909 mins"
      ]
     },
     "metadata": {},
     "output_type": "display_data"
    }
   ],
   "source": [
    "end_time - start_time"
   ]
  }
 ],
 "metadata": {
  "kernelspec": {
   "display_name": "R",
   "language": "R",
   "name": "ir"
  },
  "language_info": {
   "codemirror_mode": "r",
   "file_extension": ".r",
   "mimetype": "text/x-r-source",
   "name": "R",
   "pygments_lexer": "r",
   "version": "4.1.3"
  }
 },
 "nbformat": 4,
 "nbformat_minor": 5
}
