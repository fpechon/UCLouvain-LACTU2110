{
 "cells": [
  {
   "cell_type": "markdown",
   "id": "2e95a9c3",
   "metadata": {},
   "source": [
    "# Brief Introduction to R and Descriptive Analysis of the Dataset\n",
    "\n",
    "In this document, we will briefly introduce R and installing all the required packages for this course. A descriptive analysis of the dataset is then operated.\n",
    "\n",
    "## Installing the required packages\n",
    "\n",
    "The following commands will load the package if they are already installed. If they are not yet installed, they will be installed and loaded afterwards. Note that for Windows users, Rtools is required for some packages (e.g., CASdatasets). This list may not be exhaustive and other packages may be required in other notebooks."
   ]
  },
  {
   "cell_type": "code",
   "execution_count": null,
   "id": "673ce8fb",
   "metadata": {},
   "outputs": [],
   "source": [
    "if (!require(\"xts\")) install.packages(\"xts\")\n",
    "if (!require(\"sp\")) install.packages(\"sp\")\n",
    "if (!require(\"CASdatasets\")) install.packages(\"CASdatasets\", repos = \"http://cas.uqam.ca/pub/\", type=\"source\")\n",
    "if (!require(\"caret\")) install.packages(\"caret\")\n",
    "if (!require(\"ggplot2\")) install.packages(\"ggplot2\")\n",
    "if (!require(\"mgcv\")) install.packages(\"mgcv\")\n",
    "if (!require(\"dplyr\")) install.packages(\"dplyr\")\n",
    "if (!require(\"gridExtra\")) install.packages(\"gridExtra\")\n",
    "if (!require(\"visreg\")) install.packages(\"visreg\")\n",
    "if (!require(\"MASS\")) install.packages(\"MASS\")\n",
    "if (!require(\"plotrix\")) install.packages(\"plotrix\")\n",
    "if (!require(\"rgeos\")) install.packages(\"rgeos\")\n",
    "if (!require(\"rgdal\")) install.packages(\"rgdal\")\n",
    "if (!require(\"xtable\")) install.packages(\"xtable\")\n",
    "if (!require(\"maptools\")) install.packages(\"maptools\")\n",
    "if (!require(\"scales\")) install.packages(\"scales\")\n",
    "if (!require(\"broom\")) install.packages(\"broom\")\n",
    "if (!require(\"stringi\")) install.packages(\"stringi\")\n",
    "if (!require(\"arrow\")) install.packages(\"arrow\")\n",
    "\n",
    "\n",
    "require(\"CASdatasets\")\n",
    "require(\"ggplot2\")\n",
    "require(\"mgcv\")\n",
    "require(\"caret\")\n",
    "require(\"gridExtra\")\n",
    "require(\"dplyr\")\n",
    "require(\"visreg\")\n",
    "require(\"MASS\")\n",
    "require(\"plotrix\")\n",
    "require(\"rgdal\")\n",
    "require(\"rgeos\")\n",
    "require(\"xtable\")\n",
    "require(\"maptools\")\n",
    "require(\"scales\")\n",
    "require(\"broom\")\n",
    "require(\"stringi\")\n",
    "require(\"arrow\");"
   ]
  },
  {
   "cell_type": "markdown",
   "id": "6b8e2032",
   "metadata": {},
   "source": [
    "In this jupyter notebook, we will use the following options to set the width and height of our plots."
   ]
  },
  {
   "cell_type": "code",
   "execution_count": null,
   "id": "f21d613a",
   "metadata": {},
   "outputs": [],
   "source": [
    "options(repr.plot.width = 8, repr.plot.height = 4, repr.plot.res = 250)"
   ]
  },
  {
   "cell_type": "markdown",
   "id": "c4e8ec93",
   "metadata": {},
   "source": [
    "## Getting started with the dataset\n",
    "### Loading the dataset\n",
    "\n",
    "We will now load a dataset from the **CASdatasets** package. In case you were not able to install the **CASdatasets** package, we also provide a parquet file of the dataset (see more on that below).\n",
    "\n",
    "We can simply load the dataset with the following command:"
   ]
  },
  {
   "cell_type": "code",
   "execution_count": null,
   "id": "18493d3c",
   "metadata": {},
   "outputs": [],
   "source": [
    "data(\"freMTPLfreq\")"
   ]
  },
  {
   "cell_type": "markdown",
   "id": "45ac2e21",
   "metadata": {},
   "source": [
    "To keep it simple and illustrative, we will only keep a subset of this dataset. Each line corresponds to a policy. We will restrict ourself to the policies covering a vehicle aged between 0 and 25 years. Also, we will only keep policies that were covered for a maximum of one year.\n",
    "\n",
    "We will use the **tidyverse** univers in this course, as it can be easier to read (and writing clear code is important!). Subsetting can be done with the **filter** function."
   ]
  },
  {
   "cell_type": "code",
   "execution_count": null,
   "id": "0bf64636",
   "metadata": {},
   "outputs": [],
   "source": [
    "dataset = freMTPLfreq %>% filter(Exposure<=1 & Exposure >= 0 & CarAge<=25)"
   ]
  },
  {
   "cell_type": "markdown",
   "id": "2192f183",
   "metadata": {},
   "source": [
    "Note the *pipe* operator which allows to chain operations. We could also have written the following. We check that we obtain the same result with the **all.equal(dataset, dataset_alternative)** function. To save some memory we then remove the alternative dataset."
   ]
  },
  {
   "cell_type": "code",
   "execution_count": null,
   "id": "c0e2f3e3",
   "metadata": {},
   "outputs": [],
   "source": [
    "dataset_alternative = freMTPLfreq %>% \n",
    "                                filter(Exposure <= 1) %>% \n",
    "                                filter(Exposure >= 0) %>% \n",
    "                                filter(CarAge<=25)\n",
    "\n",
    "sprintf(\"Are the two datasets equal ? %s\", ifelse(all.equal(dataset, dataset_alternative), \"Yes\", \"No\"))\n",
    "rm(dataset_alternative)"
   ]
  },
  {
   "cell_type": "code",
   "execution_count": null,
   "id": "8dbcee48",
   "metadata": {},
   "outputs": [],
   "source": [
    "write_parquet(dataset, sink = \"../data/dataset.parquet\", compression = \"gzip\")"
   ]
  },
  {
   "cell_type": "markdown",
   "id": "dc5f5261",
   "metadata": {},
   "source": [
    "We will save the dataset into a *parquet* file, so we don't need to load the CASdatasets package anymore and filter the data."
   ]
  },
  {
   "cell_type": "markdown",
   "id": "ea087b83",
   "metadata": {},
   "source": [
    "For those that could not install this package, now is the time to load the provided *parquet* file."
   ]
  },
  {
   "cell_type": "code",
   "execution_count": null,
   "id": "56bc9d63",
   "metadata": {},
   "outputs": [],
   "source": [
    "dataset = read_parquet(file = \"../data/dataset.parquet\")"
   ]
  },
  {
   "cell_type": "markdown",
   "id": "c5d741d5",
   "metadata": {},
   "source": [
    "### Checking the dataset\n",
    "\n",
    "We can check that the dataset is correctly loaded with the following functions.A good idea is to check whether the dataset has been loaded correctly. To do this, the following tools can be used:\n",
    "\n",
    " - **head** allows to visualize the first 6 lines of the dataset."
   ]
  },
  {
   "cell_type": "code",
   "execution_count": null,
   "id": "adb3dd3e",
   "metadata": {},
   "outputs": [],
   "source": [
    "head(dataset)"
   ]
  },
  {
   "cell_type": "markdown",
   "id": "bf974079",
   "metadata": {},
   "source": [
    "- **str** allows to see the format of the different variables. We will typically distinguish numerical variables (real numbers or integers) and factors (categorical data)."
   ]
  },
  {
   "cell_type": "code",
   "execution_count": null,
   "id": "dc5fac21",
   "metadata": {},
   "outputs": [],
   "source": [
    "str(dataset)"
   ]
  },
  {
   "cell_type": "markdown",
   "id": "5c724aba",
   "metadata": {},
   "source": [
    "- **summary** allows to compute for each variable some summary statistics."
   ]
  },
  {
   "cell_type": "code",
   "execution_count": null,
   "id": "aa8d4a6a",
   "metadata": {},
   "outputs": [],
   "source": [
    "summary(dataset)"
   ]
  },
  {
   "cell_type": "markdown",
   "id": "e113eba5",
   "metadata": {},
   "source": [
    "If one needs some **help** on a function, typing a question mark and the name of the function in the console opens the help file of the function. For instance,"
   ]
  },
  {
   "cell_type": "code",
   "execution_count": null,
   "id": "5cfe57e8",
   "metadata": {},
   "outputs": [],
   "source": [
    "?head"
   ]
  },
  {
   "cell_type": "markdown",
   "id": "bea3ab9b",
   "metadata": {},
   "source": [
    "## Descriptive Analysis of the dataset\n",
    "\n",
    "We will now proceed with a descriptive analysis of this dataset. We will now have a descriptive analysis of the portfolio. The different variables available are"
   ]
  },
  {
   "cell_type": "code",
   "execution_count": null,
   "id": "af03dad8",
   "metadata": {},
   "outputs": [],
   "source": [
    "names(dataset)"
   ]
  },
  {
   "cell_type": "markdown",
   "id": "205e17c4",
   "metadata": {},
   "source": [
    "### PolicyID\n",
    "The variable *PolicyID* related to a unique identifier of the policy. We can check that every policy appears only once in the dataset"
   ]
  },
  {
   "cell_type": "code",
   "execution_count": null,
   "id": "e6f88f2e",
   "metadata": {},
   "outputs": [],
   "source": [
    "length(unique(dataset$PolicyID)) == nrow(dataset)"
   ]
  },
  {
   "cell_type": "markdown",
   "id": "97b434ed",
   "metadata": {},
   "source": [
    "Another possibility is to check the frequency of each *PolicyID* using the function *table*. The result is a table that shows for each *PolicyID* the corresponding number of lines in the dataset. We can then use a second time the function *table* in this result to show the frequency. We expect to have only **ones** (with possibily zeros), meaning each *PolicyID* has a unique line."
   ]
  },
  {
   "cell_type": "code",
   "execution_count": null,
   "id": "5bf6199c",
   "metadata": {},
   "outputs": [],
   "source": [
    "table(table(dataset$PolicyID))"
   ]
  },
  {
   "cell_type": "markdown",
   "id": "0e23847c",
   "metadata": {},
   "source": [
    "**To what corresponds the 0 ?** \n",
    "\n",
    "It appears that in this dataset the variable *PolicyID* is a **factor**. A factor variable has different *levels*. It appears that some PolicyID may be missing here (removed from the dataset, probably when we filtered out some policies). It is as if we had a 3-level categorical variable, for instance, color of a car, which takes three possible values: red, blue, gray, but in our dataset, we would only have red and blue cars. Gray would still be a level, but with no observation (i.e. no row) corresponding to a gray car.\n",
    "\n",
    "To remove unused levels, we can use on the function **droplevels**."
   ]
  },
  {
   "cell_type": "markdown",
   "id": "fe3dc875",
   "metadata": {},
   "source": [
    "### Exposure in month\n",
    "The Exposure reveals the fraction of the year during which the policyholder is in the portfolio. \n",
    "We can compute the total exposure by summing the policyholders' exposures. \n",
    "Here we find:"
   ]
  },
  {
   "cell_type": "code",
   "execution_count": null,
   "id": "e32fd1f0",
   "metadata": {},
   "outputs": [],
   "source": [
    "sprintf(\"%s years\",scales::number(sum(dataset$Exposure), accuracy = 0.1))"
   ]
  },
  {
   "cell_type": "markdown",
   "id": "6e1169fa",
   "metadata": {},
   "source": [
    "We can show the number of months of exposure on a table. The function *cut* allows to categorize (bin) a numerical variable. We can specify where to 'break' and give a name to each level using the *labels* argument. The output is a factor variable."
   ]
  },
  {
   "cell_type": "code",
   "execution_count": null,
   "id": "a01e9d54",
   "metadata": {},
   "outputs": [],
   "source": [
    "table_exposures = table(cut(dataset$Exposure, breaks = seq(from = 0, to = 1,by = 1/12), labels = 1:12))\n",
    "table_exposures"
   ]
  },
  {
   "cell_type": "markdown",
   "id": "6e9ed761",
   "metadata": {},
   "source": [
    "Using the function *prop.table*, it is possible to represent this information in relative terms show the number of months of exposure on a table."
   ]
  },
  {
   "cell_type": "code",
   "execution_count": null,
   "id": "c468218d",
   "metadata": {},
   "outputs": [],
   "source": [
    "Exposures_prop = prop.table(table_exposures)\n",
    "round(Exposures_prop, 4)*100"
   ]
  },
  {
   "cell_type": "markdown",
   "id": "d2a78ad7",
   "metadata": {},
   "source": [
    "Alternatively, we can use a barplot, using **ggplot2** !"
   ]
  },
  {
   "cell_type": "code",
   "execution_count": null,
   "id": "51eaf5d2",
   "metadata": {},
   "outputs": [],
   "source": [
    "ggplot(dataset)+geom_bar(aes(x=cut(Exposure,\n",
    "                                   breaks = seq(from = 0, to = 1,by = 1/12), labels = 1:12))) + \n",
    "  scale_x_discrete(name = \"Number of months\") + \n",
    "  scale_y_continuous(name = \"Number of Policies\", label = label_number()) + \n",
    "  ggtitle(\"Exposure in months\")"
   ]
  },
  {
   "cell_type": "markdown",
   "id": "72199122",
   "metadata": {},
   "source": [
    "What if we also want to show the percentage on the bars ?"
   ]
  },
  {
   "cell_type": "code",
   "execution_count": null,
   "id": "7f9132b0",
   "metadata": {},
   "outputs": [],
   "source": [
    "ggplot(dataset, aes(x=cut(Exposure, breaks = seq(from = 0, to = 1,by = 1/12), labels = 1:12), \n",
    "                    label = scales::percent(prop.table(stat(count)), accuracy = 0.1)))+\n",
    "  geom_bar() + \n",
    "  geom_text(stat = 'count',\n",
    "            vjust = -0.5,\n",
    "            size = 3) +\n",
    "  scale_x_discrete(name = \"Number of months\") + \n",
    "  scale_y_continuous(name = \"Number of Policies\", \n",
    "                     label = label_number()) + \n",
    "  ggtitle(\"Exposure in months\")"
   ]
  },
  {
   "cell_type": "markdown",
   "id": "ac535b62",
   "metadata": {},
   "source": [
    "Note that a barplot is used to plot factor variables (categorical variables). In our case, we categorized the variable Exposure using the function *cut*. If we do not want to categorize this variable, we should use a histogram. We can specify the number of bins (= 12) or the binwidth (= 1/12)."
   ]
  },
  {
   "cell_type": "code",
   "execution_count": null,
   "id": "b17c584c",
   "metadata": {},
   "outputs": [],
   "source": [
    "ggplot(dataset, aes(x=Exposure))+geom_histogram(binwidth =1/12, fill='gray', color='white') +\n",
    "  scale_x_continuous(name = \"Exposure in fraction of years\", breaks=seq(0,1,1/12), labels = round(seq(0,1,1/12), 3))+\n",
    "  scale_y_continuous(name = 'Number of Polices', labels = label_number()) + \n",
    "  ggtitle(\"Exposure in fraction of years\")"
   ]
  },
  {
   "cell_type": "markdown",
   "id": "5df5e76a",
   "metadata": {},
   "source": [
    "If you are not familiar with ggplot, I could recommend this cheat-sheet: https://github.com/rstudio/cheatsheets/blob/main/data-visualization-2.1.pdf"
   ]
  },
  {
   "cell_type": "markdown",
   "id": "0f0beb83",
   "metadata": {},
   "source": [
    "### Number of claim : ClaimNb\n"
   ]
  },
  {
   "cell_type": "code",
   "execution_count": null,
   "id": "8be8012f",
   "metadata": {},
   "outputs": [],
   "source": [
    "ggplot(dataset, aes(x=ClaimNb))+\n",
    "  geom_bar()+\n",
    "  geom_label(stat='count', \n",
    "             aes(label =  percent(prop.table(after_stat(count)), \n",
    "                                     accuracy = 0.01)),\n",
    "             vjust = 0.5)+\n",
    "  scale_x_continuous(name = \"Number of Claims\")+\n",
    "  scale_y_continuous(name = \"Number of Polices\", \n",
    "                     labels = label_number())+\n",
    "  ggtitle(\"Proportion of policies by number of claims\")"
   ]
  },
  {
   "cell_type": "markdown",
   "id": "4b3423ba",
   "metadata": {},
   "source": [
    "We can compute the average claim frequency in this portfolio, taking into account the different exposures."
   ]
  },
  {
   "cell_type": "code",
   "execution_count": null,
   "id": "c0430fc1",
   "metadata": {},
   "outputs": [],
   "source": [
    "scales::percent(sum(dataset$ClaimNb) / sum(dataset$Exposure), accuracy = 0.01)"
   ]
  },
  {
   "cell_type": "markdown",
   "id": "f0575ae0",
   "metadata": {},
   "source": [
    "Let us now look at the other variables."
   ]
  },
  {
   "cell_type": "markdown",
   "id": "900d4255",
   "metadata": {},
   "source": [
    "### Power\n",
    "\n",
    "The variable **Power** is a categorized variable, related to the power of the car. The levels of the variable are ordered categorically.\n",
    "We can see the different **levels** of a **factor** by using the function *level* in R:"
   ]
  },
  {
   "cell_type": "code",
   "execution_count": null,
   "id": "09f8c35a",
   "metadata": {},
   "outputs": [],
   "source": [
    "levels(dataset$Power)"
   ]
  },
  {
   "cell_type": "raw",
   "id": "e575212f",
   "metadata": {},
   "source": [
    "We can see the number of observations in each level of the variable, by using the function *table*."
   ]
  },
  {
   "cell_type": "code",
   "execution_count": null,
   "id": "675c6306",
   "metadata": {},
   "outputs": [],
   "source": [
    "table(dataset$Power)"
   ]
  },
  {
   "cell_type": "markdown",
   "id": "580bf500",
   "metadata": {},
   "source": [
    "Remember however, that in insurance, exposures may differ from one policyholder to another. Hence, the table above, does NOT measure the exposure in each level of the variable *Power*. We can use the functions *group_by* and *summarise* from package **dplyr** to give us the exposure in each level of the variable.\n",
    "\n",
    "Check out the cheatsheet https://github.com/rstudio/cheatsheets/blob/main/data-transformation.pdf"
   ]
  },
  {
   "cell_type": "code",
   "execution_count": null,
   "id": "daf41da5",
   "metadata": {},
   "outputs": [],
   "source": [
    "Power.summary = dataset %>% group_by(Power) %>% summarise(totalExposure = sum(Exposure),\n",
    "                                                          Number.Observations = length(Exposure))\n",
    "Power.summary"
   ]
  },
  {
   "cell_type": "markdown",
   "id": "193a6006",
   "metadata": {},
   "source": [
    "We can show this on a plot as well:"
   ]
  },
  {
   "cell_type": "code",
   "execution_count": null,
   "id": "d4494a09",
   "metadata": {},
   "outputs": [],
   "source": [
    "ggplot(Power.summary, aes(x=Power, \n",
    "                          y=totalExposure, \n",
    "                          fill=Power, \n",
    "                          color=Power, \n",
    "                          label=scales::number(totalExposure))) + \n",
    "  geom_bar(stat=\"identity\")+\n",
    "  geom_text(stat='identity',  vjust=-0.5)+\n",
    "  scale_y_continuous(name = \"Exposure in years\", labels = scales::number)+\n",
    "  scale_colour_discrete(guide = \"none\")+\n",
    "  scale_fill_discrete(guide=\"none\")"
   ]
  },
  {
   "cell_type": "markdown",
   "id": "d25774ef",
   "metadata": {},
   "source": [
    "Let us now look at the observed claim frequency in each level"
   ]
  },
  {
   "cell_type": "code",
   "execution_count": null,
   "id": "8e152003",
   "metadata": {},
   "outputs": [],
   "source": [
    "Power.summary = dataset %>% group_by(Power) %>% summarise(totalExposure = sum(Exposure),\n",
    "                                                          Number.Observations = length(Exposure),\n",
    "                                                          Number.Claims = sum(ClaimNb),\n",
    "                                                          Obs.Claim.Frequency = sum(ClaimNb)/sum(Exposure))\n",
    "Power.summary"
   ]
  },
  {
   "cell_type": "markdown",
   "id": "d36efc85",
   "metadata": {},
   "source": [
    "We can compute the ratio to the portfolio claim frequency and plot the claim frequencies."
   ]
  },
  {
   "cell_type": "code",
   "execution_count": null,
   "id": "e519e1dd",
   "metadata": {},
   "outputs": [],
   "source": [
    "portfolio.cf = sum(dataset$ClaimNb)/ sum(dataset$Exposure)\n",
    "# Can also be written as\n",
    "portfolio.cf = with(dataset, sum(ClaimNb)/sum(Exposure))\n",
    "\n",
    "ggplot(Power.summary, aes(x=Power, \n",
    "                          y=Obs.Claim.Frequency,\n",
    "                          color=Obs.Claim.Frequency,\n",
    "                          fill=Obs.Claim.Frequency,\n",
    "                          label = percent(Obs.Claim.Frequency, accuracy = 0.01))) + \n",
    "  geom_bar(stat='identity') + \n",
    "  geom_hline(aes(yintercept=portfolio.cf), color=\"black\", size= 2, linetype=\"dashed\", alpha = 0.33) +\n",
    "  geom_label(vjust=-0.21, fill=\"white\", alpha = 0.25)+\n",
    "  annotate(geom=\"text\", \n",
    "           x='m', y=portfolio.cf, \n",
    "           vjust=-0.5, \n",
    "           label=paste(\"Average claim freq. of portfolio: \", percent(portfolio.cf, accuracy = 0.01)), \n",
    "           color=\"black\")+\n",
    "  scale_y_continuous(name = \"Observed Claim Frequency\", labels = percent_format(accuracy = 0.01))+\n",
    "  theme(legend.position = 'none')"
   ]
  },
  {
   "cell_type": "markdown",
   "id": "c6ebbc43",
   "metadata": {},
   "source": [
    "### CarAge\n",
    "\n",
    "The vehicle age, in years. This is the first continuous variable that we encounter (although it only takes discrete values)."
   ]
  },
  {
   "cell_type": "code",
   "execution_count": null,
   "id": "cdaf138c",
   "metadata": {},
   "outputs": [],
   "source": [
    "ggplot(dataset, \n",
    "       aes(x=CarAge)) + geom_bar()  + \n",
    "  scale_x_continuous(name = \"Age of the Car\", breaks=seq(0,100,5))+\n",
    "  scale_y_continuous(name = \"Number of Polices\", labels=label_number())"
   ]
  },
  {
   "cell_type": "markdown",
   "id": "8c314607",
   "metadata": {},
   "source": [
    "Alternatively, we can use a histogram, with a binwidth of 1."
   ]
  },
  {
   "cell_type": "code",
   "execution_count": null,
   "id": "e7cce693",
   "metadata": {},
   "outputs": [],
   "source": [
    "ggplot(dataset, \n",
    "       aes(x=CarAge)) + geom_histogram(binwidth = 1, color = 'black', fill='white')  + \n",
    "  scale_x_continuous(name = \"Age of the Car\", breaks=seq(0,100,5))+\n",
    "  scale_y_continuous(name = \"Number of Polices\", labels=label_number())"
   ]
  },
  {
   "cell_type": "markdown",
   "id": "1e977d1f",
   "metadata": {},
   "source": [
    "Again, here, the exposures are not considered on the barplot/histogram. We can use **ddply** to correct this."
   ]
  },
  {
   "cell_type": "code",
   "execution_count": null,
   "id": "cb5a25d7",
   "metadata": {},
   "outputs": [],
   "source": [
    "CarAge.summary = dataset %>% group_by(CarAge) %>% summarise(totalExposure = sum(Exposure),\n",
    "                                                            Number.Observations = length(Exposure))\n",
    "CarAge.summary"
   ]
  },
  {
   "cell_type": "markdown",
   "id": "d5c30b11",
   "metadata": {},
   "source": [
    "Then, we can plot the data onto a barplot, as before."
   ]
  },
  {
   "cell_type": "code",
   "execution_count": null,
   "id": "88653178",
   "metadata": {},
   "outputs": [],
   "source": [
    "ggplot(CarAge.summary, aes(x=CarAge,\n",
    "                          y=totalExposure, \n",
    "                          fill=factor(CarAge), \n",
    "                          color=factor(CarAge), \n",
    "                          label=label_number(accuracy=1)(totalExposure))) + \n",
    "  geom_bar(stat=\"identity\")+\n",
    "  geom_text(stat='identity', color=\"black\", hjust=0.25, vjust=0.5,  angle=45, check_overlap=TRUE)+\n",
    "  scale_x_continuous(breaks = seq(0,100,5))+\n",
    "  scale_y_continuous(name = \"Exposure in years\", labels = label_number())+\n",
    "  theme(legend.position = 'none')"
   ]
  },
  {
   "cell_type": "markdown",
   "id": "04d99c07",
   "metadata": {},
   "source": [
    "We can see a large difference, specially for new cars, which makes sense ! Indeed, let us look at the Exposure for recent vehicles, using a boxplot for instance."
   ]
  },
  {
   "cell_type": "code",
   "execution_count": null,
   "id": "9ef72610",
   "metadata": {},
   "outputs": [],
   "source": [
    "ggplot(dataset%>% filter(CarAge<5), aes(x=CarAge, y=Exposure,  group=CarAge)) + \n",
    "  geom_boxplot() +\n",
    "  ggtitle(\"Exposure of recent cars\")"
   ]
  },
  {
   "cell_type": "markdown",
   "id": "6cc283f1",
   "metadata": {},
   "source": [
    "Let us now also compute the claim frequencies by age of car and plot them."
   ]
  },
  {
   "cell_type": "code",
   "execution_count": null,
   "id": "dd1f711c",
   "metadata": {},
   "outputs": [],
   "source": [
    "CarAge.summary = dataset %>% group_by(CarAge) %>% summarise(totalExposure = sum(Exposure), \n",
    "                                                             Number.Observations = length(Exposure), \n",
    "                                                             Number.Claims = sum(ClaimNb), \n",
    "                                                             Obs.Claim.Freq = sum(ClaimNb)/sum(Exposure))\n",
    "\n",
    "portfolio.cf = with(dataset, sum(ClaimNb)/ sum(Exposure))\n",
    "\n",
    "ggplot(CarAge.summary, aes(x=CarAge, \n",
    "                          y=Obs.Claim.Freq,\n",
    "                          label = percent(Obs.Claim.Freq, accuracy = 0.01))) + \n",
    "  geom_point() + geom_line()+\n",
    "  geom_hline(yintercept=portfolio.cf, color=\"black\", size= 2, linetype=\"dashed\", alpha = 0.33) +\n",
    "    annotate(geom=\"text\", \n",
    "           x=20, y=portfolio.cf, \n",
    "           vjust=-0.5, \n",
    "           label=paste(\"Average claim freq. of portfolio: \", percent(portfolio.cf, accuracy = 0.01)), \n",
    "           color=\"black\")+\n",
    "  scale_x_continuous(name = \"Age of the Car\", breaks=seq(0,100,5))+\n",
    "  scale_y_continuous(name = \"Observed Claim Frequency\", labels = percent_format(accuracy = 0.01))+\n",
    "  theme(legend.position = 'none')\n"
   ]
  },
  {
   "cell_type": "markdown",
   "id": "3f4f4680",
   "metadata": {},
   "source": [
    "### DriverAge\n",
    "Similarly to the Age of the Car, we can visualize the Age of the Drivers."
   ]
  },
  {
   "cell_type": "code",
   "execution_count": null,
   "id": "5c7571a6",
   "metadata": {},
   "outputs": [],
   "source": [
    "DriverAge.summary = dataset %>% group_by(DriverAge) %>% summarise(totalExposure = sum(Exposure), \n",
    "                                                                  Number.Observations = length(Exposure), \n",
    "                                                                  Number.Claims = sum(ClaimNb), \n",
    "                                                                  Obs.Claim.Freq = sum(ClaimNb)/sum(Exposure))\n",
    "head(DriverAge.summary,9)"
   ]
  },
  {
   "cell_type": "markdown",
   "id": "2c9cc9d2",
   "metadata": {},
   "source": [
    "We can show the Exposures by Age of the Driver..."
   ]
  },
  {
   "cell_type": "code",
   "execution_count": null,
   "id": "1fd28636",
   "metadata": {},
   "outputs": [],
   "source": [
    "ggplot(DriverAge.summary, aes(x=DriverAge, y=totalExposure)) + \n",
    "  geom_bar(stat='identity', width=0.8) + \n",
    "  scale_y_continuous(name=\"Exposure in years\", labels = label_number())+\n",
    "  scale_x_continuous(name=\"Age of the Driver\", breaks = seq(10,150,10))"
   ]
  },
  {
   "cell_type": "markdown",
   "id": "f8139d0d",
   "metadata": {},
   "source": [
    "... and the observed claim frequency by Age."
   ]
  },
  {
   "cell_type": "code",
   "execution_count": null,
   "id": "54524211",
   "metadata": {},
   "outputs": [],
   "source": [
    "ggplot(DriverAge.summary, aes(x=DriverAge, y=Obs.Claim.Freq)) + \n",
    "  geom_line()+geom_point()+\n",
    "  scale_y_continuous(name=\"Observed Claim Frequency\", labels = percent, breaks = seq(0,0.50,0.05))+\n",
    "  scale_x_continuous(name=\"Age of the Driver\", breaks = seq(10,150,10))"
   ]
  },
  {
   "cell_type": "markdown",
   "id": "9819158b",
   "metadata": {},
   "source": [
    "### Brand\n",
    "The variable **Brand** is a categorized variable, related to the brand of the car. \n",
    "We can see the different *levels* of a *factor* by using the function **level** in R:"
   ]
  },
  {
   "cell_type": "code",
   "execution_count": null,
   "id": "0d6201e5",
   "metadata": {},
   "outputs": [],
   "source": [
    "levels(dataset$Brand)"
   ]
  },
  {
   "cell_type": "code",
   "execution_count": null,
   "id": "3cacd523",
   "metadata": {},
   "outputs": [],
   "source": [
    "Brand.summary = dataset %>% group_by(Brand) %>% summarise(totalExposure = sum(Exposure), \n",
    "                                                          Number.Observations = length(Exposure), \n",
    "                                                          Number.Claims = sum(ClaimNb), \n",
    "                                                          Obs.Claim.Freq = sum(ClaimNb)/sum(Exposure))\n",
    "                                          \n",
    "Brand.summary"
   ]
  },
  {
   "cell_type": "code",
   "execution_count": null,
   "id": "783f6e88",
   "metadata": {},
   "outputs": [],
   "source": [
    "ggplot(Brand.summary, aes(x=reorder(Brand,totalExposure), \n",
    "                          y=totalExposure, \n",
    "                          fill=Brand,\n",
    "                          label = label_number()(totalExposure))) +\n",
    "  geom_bar(stat='identity') +\n",
    "  coord_flip()+guides(fill='none')+\n",
    "  scale_x_discrete(name = \"\") + \n",
    "  scale_y_continuous(\"Exposure in years\", labels = label_number(), expand = c(0.10, 0))+\n",
    "  geom_label()"
   ]
  },
  {
   "cell_type": "markdown",
   "id": "8216801f",
   "metadata": {},
   "source": [
    "Let us now look at the claim frequency by Brand of the car."
   ]
  },
  {
   "cell_type": "code",
   "execution_count": null,
   "id": "5f6c46fe",
   "metadata": {},
   "outputs": [],
   "source": [
    "ggplot(Brand.summary, aes(x=reorder(Brand,Obs.Claim.Freq), \n",
    "                          y=Obs.Claim.Freq, \n",
    "                          fill=Brand,\n",
    "                          label = percent(Obs.Claim.Freq, accuracy=0.1))) +\n",
    "  geom_bar(stat='identity') +\n",
    "  geom_label(hjust=+1.2)+\n",
    "  coord_flip()+guides(fill='none')+ ggtitle(\"Observed Claim Frequencies by Brand of the car\")+\n",
    "  scale_x_discrete(name = \"Brand\") + \n",
    "  scale_y_continuous(\"Observed claim Frequency\", labels = percent)"
   ]
  },
  {
   "cell_type": "markdown",
   "id": "7db0ce07",
   "metadata": {},
   "source": [
    "### Gas\n",
    "The variable *Gas* is a categorized variable, related to the fuel of the car. \n",
    "We can see the different *levels* of a *factor* by using the function **level** in R:"
   ]
  },
  {
   "cell_type": "code",
   "execution_count": null,
   "id": "39a831ec",
   "metadata": {},
   "outputs": [],
   "source": [
    "levels(dataset$Gas)"
   ]
  },
  {
   "cell_type": "code",
   "execution_count": null,
   "id": "5ab053be",
   "metadata": {},
   "outputs": [],
   "source": [
    "Gas.summary = dataset %>% group_by(Gas) %>% summarise(totalExposure = sum(Exposure), \n",
    "                                                      Number.Observations = length(Exposure), \n",
    "                                                      Number.Claims = sum(ClaimNb), \n",
    "                                                      Obs.Claim.Freq = sum(ClaimNb)/sum(Exposure))\n",
    "ggplot(Gas.summary, aes(x=Gas, y=totalExposure, fill=Gas, label = number(totalExposure))) + \n",
    "  geom_bar(stat=\"identity\") + \n",
    "  geom_label()+\n",
    "  guides(fill='none')+\n",
    "  scale_x_discrete(name = \"Fuel\")+\n",
    "  scale_y_continuous(name='Total Exposure (in years)', labels = number)"
   ]
  },
  {
   "cell_type": "markdown",
   "id": "2b499519",
   "metadata": {},
   "source": [
    "There seems to be a similar amount of Diesel and Regular gas vehicles in the portfolio.\n",
    "It is generally expected that Diesel have a higher claim frequency. Does this also hold on our dataset ?"
   ]
  },
  {
   "cell_type": "code",
   "execution_count": null,
   "id": "a1adc91c",
   "metadata": {},
   "outputs": [],
   "source": [
    "ggplot(Gas.summary, \n",
    "       aes(x=Gas, y=Obs.Claim.Freq, \n",
    "           fill=Gas, \n",
    "           label = percent(Obs.Claim.Freq))) + \n",
    "  geom_bar(stat=\"identity\") + \n",
    "  geom_label()+  guides(fill='none')+\n",
    "  scale_x_discrete(name = \"Fuel\") + \n",
    "  scale_y_continuous(\"Observed claim Frequency\", labels = percent)"
   ]
  },
  {
   "cell_type": "markdown",
   "id": "8ba2d3a8",
   "metadata": {},
   "source": [
    "### Region\n",
    "The variable *Region* is a categorized variable, related to the region of the place of residence. \n",
    "We can see the different *levels* of a *factor* by using the function **level** in R:"
   ]
  },
  {
   "cell_type": "code",
   "execution_count": null,
   "id": "48e5ce11",
   "metadata": {},
   "outputs": [],
   "source": [
    "levels(dataset$Region)"
   ]
  },
  {
   "cell_type": "markdown",
   "id": "a822dd03",
   "metadata": {},
   "source": [
    "What are the Exposures in each region ? What are the observed claim frequencies ?"
   ]
  },
  {
   "cell_type": "code",
   "execution_count": null,
   "id": "30bd80a8",
   "metadata": {},
   "outputs": [],
   "source": [
    "Region.summary = dataset %>% group_by(Region) %>% summarize(totalExposure = sum(Exposure), \n",
    "                                                           Number.Observations = length(Exposure), \n",
    "                                                           Number.Claims = sum(ClaimNb), \n",
    "                                                           Obs.Claim.Freq = sum(ClaimNb)/sum(Exposure))\n",
    "Region.summary"
   ]
  },
  {
   "cell_type": "markdown",
   "id": "433d037a",
   "metadata": {},
   "source": [
    "#### Creating Maps\n",
    "\n",
    "We can plot a map with the observed claim frequencies and the total Exposure.\n",
    "We first need to obtain the shape files (which contain the borders of each administrative area.)\n",
    "\n",
    "1. Download shapefile from  http://www.diva-gis.org/gData\n",
    "2. Extract all the files from the zip files, in a directory called shapefiles in your working directory"
   ]
  },
  {
   "cell_type": "code",
   "execution_count": null,
   "id": "bd762a82",
   "metadata": {},
   "outputs": [],
   "source": [
    "area <- rgdal::readOGR(\"shapefiles/FRA_adm1.shp\", use_iconv = TRUE, encoding = \"UTF-8\") # From http://www.diva-gis.org/gData\n",
    "\n",
    "# Note that the tidy function will remove the data.\n",
    "area_tidy = tidy(area) # package broom\n",
    "\n",
    "#Plot an \"empty\" map\n",
    "ggplot(area_tidy, aes(x = long, y = lat, group = group)) +\n",
    "  geom_polygon(color = \"black\", size = 0.1, fill = \"lightgrey\") +\n",
    "  coord_equal() + theme_void()"
   ]
  },
  {
   "cell_type": "markdown",
   "id": "832408e9",
   "metadata": {},
   "source": [
    "We are now going to include our data into the map"
   ]
  },
  {
   "cell_type": "code",
   "execution_count": null,
   "id": "5e1e8338",
   "metadata": {},
   "outputs": [],
   "source": [
    "#First we re-include the data (that disappeared with the tidy function)\n",
    "area$id <- row.names(area)\n",
    "area_tidy2 <- area_tidy %>% full_join(area@data, by=\"id\")\n",
    "\n",
    "# Because of accents ...\n",
    "area_tidy2$NAME_1 = stri_trans_general(str = area_tidy2$NAME_1, \n",
    "                   id = \"Latin-ASCII\")\n",
    "\n",
    "# Which computed data do we want ?\n",
    "data_to_add = Region.summary[,c(\"Region\", \"totalExposure\", \"Obs.Claim.Freq\")]\n",
    "# Merge it \n",
    "area_tidy2 <- area_tidy2 %>% full_join(data_to_add, by = c(\"NAME_1\" = \"Region\"))\n",
    "\n",
    "# Very important: Do not forget to sort by \"order\" variable.\n",
    "# area_tidy2 = area_tidy2[order(area_tidy2$order),]\n",
    "# Easier with dplyr:\n",
    "area_tidy2 = area_tidy2 %>% arrange(order)\n",
    "\n",
    "# Finally, plot the data: the claim frequencies\n",
    "p1 = ggplot(area_tidy2, aes(long, lat, group=group, fill = Obs.Claim.Freq)) + ggtitle(\"Observed Claim Frequencies\")+\n",
    "  geom_polygon(color=\"black\")+\n",
    "  scale_fill_gradient(low = \"green\", high = \"red\", name=\"Obs. Claim Freq.\")+\n",
    "xlab(\"Longitude\") + ylab(\"Latitude\") + theme_void()\n",
    "\n",
    "# and the exposures (on a log-scale)...\n",
    "p2 = ggplot(area_tidy2, aes(long, lat, group=group, fill = log(totalExposure))) + ggtitle(\"log Exposures in years\")+\n",
    "  geom_polygon(color=\"black\")+\n",
    "  scale_fill_gradient(low = \"green\", high = \"red\", name=\"log Exposure\")+\n",
    "xlab(\"Longitude\") + ylab(\"Latitude\") + theme_void()\n",
    "\n",
    "\n",
    "# Show them next to each other\n",
    "gridExtra::grid.arrange(p1, p2, ncol=2)"
   ]
  },
  {
   "cell_type": "markdown",
   "id": "1fbddd29",
   "metadata": {},
   "source": [
    "### Density\n",
    "The Density represents here the density of the population at the place of residence.\n",
    "Let us take a look at the densities in the dataset.\n"
   ]
  },
  {
   "cell_type": "code",
   "execution_count": null,
   "id": "355fb3a3",
   "metadata": {},
   "outputs": [],
   "source": [
    "summary(dataset$Density)\n",
    "ggplot(dataset, aes(Density)) + geom_histogram(bins=200)"
   ]
  },
  {
   "cell_type": "markdown",
   "id": "03b2f01e",
   "metadata": {},
   "source": [
    "Here, contrary to the age of the driver, or the age of the car, the density has lots of different values, as we can see below."
   ]
  },
  {
   "cell_type": "code",
   "execution_count": null,
   "id": "0a244804",
   "metadata": {},
   "outputs": [],
   "source": [
    "length(unique(dataset$Density))"
   ]
  },
  {
   "cell_type": "markdown",
   "id": "4001bb67",
   "metadata": {},
   "source": [
    "Let us still compute as before the summary statistics and plot them ..."
   ]
  },
  {
   "cell_type": "code",
   "execution_count": null,
   "id": "2b63f2a7",
   "metadata": {},
   "outputs": [],
   "source": [
    "Density.summary = dataset %>% group_by(Density) %>%\n",
    "                   summarise(totalExposure = sum(Exposure), \n",
    "                                Number.Observations = length(Exposure), \n",
    "                                Number.Claims = sum(ClaimNb), \n",
    "                                Obs.Claim.Freq = sum(ClaimNb)/sum(Exposure))\n",
    "ggplot(Density.summary, aes(x=Density, y=Obs.Claim.Freq)) + geom_point()"
   ]
  },
  {
   "cell_type": "markdown",
   "id": "b14d3095",
   "metadata": {},
   "source": [
    "... but realize it is impossible to see a trend. One way out is to categorize the variable. We will see later (GAM) that it is possible to estimate a smooth function, which avoid the arbitrary categorization.\n",
    "\n",
    "We can categorize the variable using the function *cut*."
   ]
  },
  {
   "cell_type": "code",
   "execution_count": null,
   "id": "9f89708e",
   "metadata": {},
   "outputs": [],
   "source": [
    "dataset$DensityCAT = cut(dataset$Density, breaks = quantile(dataset$Density, probs = seq(from = 0, to = 1, by=0.1)),\n",
    "                         include.lowest = TRUE)\n",
    "table(dataset$DensityCAT)\n",
    "levels(dataset$DensityCAT) <- LETTERS[1:10]"
   ]
  },
  {
   "cell_type": "markdown",
   "id": "a3e2df5c",
   "metadata": {},
   "source": [
    "Then, we can apply the same strategy as above."
   ]
  },
  {
   "cell_type": "code",
   "execution_count": null,
   "id": "7bfec92b",
   "metadata": {},
   "outputs": [],
   "source": [
    "Density.summary = dataset %>% group_by(DensityCAT) %>%\n",
    "                  summarise(totalExposure = sum(Exposure), \n",
    "                            Number.Observations = length(Exposure), \n",
    "                            Number.Claims = sum(ClaimNb), \n",
    "                            Obs.Claim.Freq = sum(ClaimNb)/sum(Exposure))\n",
    "\n",
    "ggplot(Density.summary, \n",
    "       aes(x=DensityCAT, \n",
    "           y=Obs.Claim.Freq, \n",
    "           fill=DensityCAT, \n",
    "           label = percent(Obs.Claim.Freq))) + \n",
    "  geom_bar(stat=\"identity\") + \n",
    "  geom_label()+  guides(fill='none')+\n",
    "  scale_x_discrete(name = \"Density\") + \n",
    "  scale_y_continuous(\"Observed claim Frequency\", labels = percent)"
   ]
  },
  {
   "cell_type": "markdown",
   "id": "00de90b7",
   "metadata": {},
   "source": [
    "## Interactions\n",
    "\n",
    "We can of course also dive into some interactions. For instance, we could analyse the effect of the car Age combined with the Fuel (Gas).\n",
    "\n",
    "### Fuel and Car Age"
   ]
  },
  {
   "cell_type": "code",
   "execution_count": null,
   "id": "e4bb8736",
   "metadata": {},
   "outputs": [],
   "source": [
    "CarAge.Fuel.summary = dataset %>% group_by(CarAge, Gas) %>% \n",
    "                      summarise(totalExposure = sum(Exposure),\n",
    "                                Number.Observations = length(Exposure),\n",
    "                                Number.Claims = sum(ClaimNb),\n",
    "                                Obs.Claim.Freq = sum(ClaimNb)/sum(Exposure))\n",
    "\n",
    "ggplot(CarAge.Fuel.summary, aes(x=CarAge, \n",
    "                                y=Obs.Claim.Freq)) + \n",
    "  facet_wrap(~Gas)+\n",
    "  geom_bar(stat=\"identity\") + \n",
    "  scale_x_continuous(name = \"Age of the Car\", breaks=seq(0,100,5))+\n",
    "  scale_y_continuous(name = \"Observed Claim Frequency\", labels = percent_format(accuracy = 0.01))+\n",
    "  theme(legend.position = 'none')"
   ]
  },
  {
   "cell_type": "markdown",
   "id": "a39fbad3",
   "metadata": {},
   "source": [
    "### Fuel and Driver Age\n",
    "\n",
    "We will illustrate another way to show this kind of data, by overlapping both bars."
   ]
  },
  {
   "cell_type": "code",
   "execution_count": null,
   "id": "09dedd42",
   "metadata": {},
   "outputs": [],
   "source": [
    "DriverAge.Fuel.summary = dataset %>% group_by(DriverAge, Gas) %>% \n",
    "                        summarize(Obs.Claim.Freq = sum(ClaimNb)/sum(Exposure))\n",
    "\n",
    "ggplot(data=DriverAge.Fuel.summary, aes(x=DriverAge, \n",
    "                                        y=Obs.Claim.Freq, \n",
    "                                        fill=Gas, \n",
    "                                        color=Gas, \n",
    "                                        alpha=Gas)) +\n",
    "  geom_bar(stat=\"identity\", position =\"identity\") +\n",
    "  scale_x_continuous(name = \"Age of the Driver\", breaks = seq(0,100,5))+\n",
    "  scale_y_continuous(name = \"Observed Claim Frequency\", labels = label_percent())+\n",
    "  scale_colour_manual(values=c(\"lightblue4\", \"red\")) +\n",
    "  scale_fill_manual(values=c(\"lightblue\", \"pink\")) +\n",
    "  scale_alpha_manual(values=c(.3, .8))+\n",
    "  theme_bw()"
   ]
  },
  {
   "cell_type": "markdown",
   "id": "a6ebfb32",
   "metadata": {},
   "source": [
    "# Useful Links\n",
    "\n",
    "- https://github.com/rstudio/cheatsheets/blob/main/data-transformation.pdf\n",
    "- https://github.com/rstudio/cheatsheets/blob/main/data-visualization-2.1.pdf"
   ]
  },
  {
   "cell_type": "code",
   "execution_count": null,
   "id": "56dc128c",
   "metadata": {},
   "outputs": [],
   "source": []
  }
 ],
 "metadata": {
  "kernelspec": {
   "display_name": "R",
   "language": "R",
   "name": "ir"
  },
  "language_info": {
   "codemirror_mode": "r",
   "file_extension": ".r",
   "mimetype": "text/x-r-source",
   "name": "R",
   "pygments_lexer": "r",
   "version": "4.1.3"
  }
 },
 "nbformat": 4,
 "nbformat_minor": 5
}
