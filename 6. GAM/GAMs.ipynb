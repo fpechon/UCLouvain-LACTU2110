{
 "cells": [
  {
   "cell_type": "markdown",
   "id": "ae4d9c32",
   "metadata": {},
   "source": [
    "# Generalized Additive Models"
   ]
  },
  {
   "cell_type": "markdown",
   "id": "7759b18d",
   "metadata": {},
   "source": [
    "## Loading the data and the packages\n",
    "\n",
    "First, the packages"
   ]
  },
  {
   "cell_type": "code",
   "execution_count": 1,
   "id": "ad0108a9",
   "metadata": {
    "scrolled": true
   },
   "outputs": [
    {
     "name": "stderr",
     "output_type": "stream",
     "text": [
      "Le chargement a nécessité le package : CASdatasets\n",
      "\n",
      "Le chargement a nécessité le package : xts\n",
      "\n",
      "Le chargement a nécessité le package : zoo\n",
      "\n",
      "\n",
      "Attachement du package : 'zoo'\n",
      "\n",
      "\n",
      "Les objets suivants sont masqués depuis 'package:base':\n",
      "\n",
      "    as.Date, as.Date.numeric\n",
      "\n",
      "\n",
      "Le chargement a nécessité le package : sp\n",
      "\n",
      "Le chargement a nécessité le package : mgcv\n",
      "\n",
      "Le chargement a nécessité le package : nlme\n",
      "\n",
      "This is mgcv 1.8-42. For overview type 'help(\"mgcv-package\")'.\n",
      "\n",
      "Le chargement a nécessité le package : caret\n",
      "\n",
      "Le chargement a nécessité le package : ggplot2\n",
      "\n",
      "Le chargement a nécessité le package : lattice\n",
      "\n",
      "Le chargement a nécessité le package : plyr\n",
      "\n",
      "Le chargement a nécessité le package : gridExtra\n",
      "\n",
      "Le chargement a nécessité le package : parallel\n",
      "\n",
      "Le chargement a nécessité le package : mgcViz\n",
      "\n",
      "Le chargement a nécessité le package : qgam\n",
      "\n",
      "Registered S3 method overwritten by 'GGally':\n",
      "  method from   \n",
      "  +.gg   ggplot2\n",
      "\n",
      "Registered S3 method overwritten by 'mgcViz':\n",
      "  method from  \n",
      "  +.gg   GGally\n",
      "\n",
      "\n",
      "Attachement du package : 'mgcViz'\n",
      "\n",
      "\n",
      "L'objet suivant est masqué depuis 'package:lattice':\n",
      "\n",
      "    qq\n",
      "\n",
      "\n",
      "Les objets suivants sont masqués depuis 'package:stats':\n",
      "\n",
      "    qqline, qqnorm, qqplot\n",
      "\n",
      "\n",
      "Le chargement a nécessité le package : arrow\n",
      "\n",
      "\n",
      "Attachement du package : 'arrow'\n",
      "\n",
      "\n",
      "L'objet suivant est masqué depuis 'package:utils':\n",
      "\n",
      "    timestamp\n",
      "\n",
      "\n",
      "Le chargement a nécessité le package : tidymodels\n",
      "\n",
      "-- \u001b[1mAttaching packages\u001b[22m ------------------------------------------------------------------------------ tidymodels 1.0.0 --\n",
      "\n",
      "\u001b[32mv\u001b[39m \u001b[34mbroom       \u001b[39m 1.0.4      \u001b[32mv\u001b[39m \u001b[34mrsample     \u001b[39m 1.1.1 \n",
      "\u001b[32mv\u001b[39m \u001b[34mdials       \u001b[39m 1.2.0      \u001b[32mv\u001b[39m \u001b[34mtibble      \u001b[39m 3.2.1 \n",
      "\u001b[32mv\u001b[39m \u001b[34mdplyr       \u001b[39m 1.1.1      \u001b[32mv\u001b[39m \u001b[34mtidyr       \u001b[39m 1.3.0 \n",
      "\u001b[32mv\u001b[39m \u001b[34minfer       \u001b[39m 1.0.4      \u001b[32mv\u001b[39m \u001b[34mtune        \u001b[39m 1.1.1 \n",
      "\u001b[32mv\u001b[39m \u001b[34mmodeldata   \u001b[39m 1.1.0      \u001b[32mv\u001b[39m \u001b[34mworkflows   \u001b[39m 1.1.3 \n",
      "\u001b[32mv\u001b[39m \u001b[34mparsnip     \u001b[39m 1.1.0      \u001b[32mv\u001b[39m \u001b[34mworkflowsets\u001b[39m 1.0.1 \n",
      "\u001b[32mv\u001b[39m \u001b[34mpurrr       \u001b[39m 1.0.1      \u001b[32mv\u001b[39m \u001b[34myardstick   \u001b[39m 1.1.0 \n",
      "\u001b[32mv\u001b[39m \u001b[34mrecipes     \u001b[39m 1.0.10     \n",
      "\n",
      "-- \u001b[1mConflicts\u001b[22m --------------------------------------------------------------------------------- tidymodels_conflicts() --\n",
      "\u001b[31mx\u001b[39m \u001b[34mdplyr\u001b[39m::\u001b[32marrange()\u001b[39m         masks \u001b[34mplyr\u001b[39m::arrange()\n",
      "\u001b[31mx\u001b[39m \u001b[34mrecipes\u001b[39m::\u001b[32mcheck()\u001b[39m         masks \u001b[34mqgam\u001b[39m::check()\n",
      "\u001b[31mx\u001b[39m \u001b[34mdplyr\u001b[39m::\u001b[32mcollapse()\u001b[39m        masks \u001b[34mnlme\u001b[39m::collapse()\n",
      "\u001b[31mx\u001b[39m \u001b[34mdplyr\u001b[39m::\u001b[32mcombine()\u001b[39m         masks \u001b[34mgridExtra\u001b[39m::combine()\n",
      "\u001b[31mx\u001b[39m \u001b[34mpurrr\u001b[39m::\u001b[32mcompact()\u001b[39m         masks \u001b[34mplyr\u001b[39m::compact()\n",
      "\u001b[31mx\u001b[39m \u001b[34mdplyr\u001b[39m::\u001b[32mcount()\u001b[39m           masks \u001b[34mplyr\u001b[39m::count()\n",
      "\u001b[31mx\u001b[39m \u001b[34mdplyr\u001b[39m::\u001b[32mdesc()\u001b[39m            masks \u001b[34mplyr\u001b[39m::desc()\n",
      "\u001b[31mx\u001b[39m \u001b[34mpurrr\u001b[39m::\u001b[32mdiscard()\u001b[39m         masks \u001b[34mscales\u001b[39m::discard()\n",
      "\u001b[31mx\u001b[39m \u001b[34mdplyr\u001b[39m::\u001b[32mfailwith()\u001b[39m        masks \u001b[34mplyr\u001b[39m::failwith()\n",
      "\u001b[31mx\u001b[39m \u001b[34mdplyr\u001b[39m::\u001b[32mfilter()\u001b[39m          masks \u001b[34mstats\u001b[39m::filter()\n",
      "\u001b[31mx\u001b[39m \u001b[34mdplyr\u001b[39m::\u001b[32mfirst()\u001b[39m           masks \u001b[34mxts\u001b[39m::first()\n",
      "\u001b[31mx\u001b[39m \u001b[34mdplyr\u001b[39m::\u001b[32mid()\u001b[39m              masks \u001b[34mplyr\u001b[39m::id()\n",
      "\u001b[31mx\u001b[39m \u001b[34mdplyr\u001b[39m::\u001b[32mlag()\u001b[39m             masks \u001b[34mstats\u001b[39m::lag()\n",
      "\u001b[31mx\u001b[39m \u001b[34mdplyr\u001b[39m::\u001b[32mlast()\u001b[39m            masks \u001b[34mxts\u001b[39m::last()\n",
      "\u001b[31mx\u001b[39m \u001b[34mpurrr\u001b[39m::\u001b[32mlift()\u001b[39m            masks \u001b[34mcaret\u001b[39m::lift()\n",
      "\u001b[31mx\u001b[39m \u001b[34mdplyr\u001b[39m::\u001b[32mmutate()\u001b[39m          masks \u001b[34mplyr\u001b[39m::mutate()\n",
      "\u001b[31mx\u001b[39m \u001b[34myardstick\u001b[39m::\u001b[32mprecision()\u001b[39m   masks \u001b[34mcaret\u001b[39m::precision()\n",
      "\u001b[31mx\u001b[39m \u001b[34myardstick\u001b[39m::\u001b[32mrecall()\u001b[39m      masks \u001b[34mcaret\u001b[39m::recall()\n",
      "\u001b[31mx\u001b[39m \u001b[34mdplyr\u001b[39m::\u001b[32mrename()\u001b[39m          masks \u001b[34mplyr\u001b[39m::rename()\n",
      "\u001b[31mx\u001b[39m \u001b[34myardstick\u001b[39m::\u001b[32msensitivity()\u001b[39m masks \u001b[34mcaret\u001b[39m::sensitivity()\n",
      "\u001b[31mx\u001b[39m \u001b[34myardstick\u001b[39m::\u001b[32mspecificity()\u001b[39m masks \u001b[34mcaret\u001b[39m::specificity()\n",
      "\u001b[31mx\u001b[39m \u001b[34mrecipes\u001b[39m::\u001b[32mstep()\u001b[39m          masks \u001b[34mstats\u001b[39m::step()\n",
      "\u001b[31mx\u001b[39m \u001b[34mdplyr\u001b[39m::\u001b[32msummarise()\u001b[39m       masks \u001b[34mplyr\u001b[39m::summarise()\n",
      "\u001b[31mx\u001b[39m \u001b[34mdplyr\u001b[39m::\u001b[32msummarize()\u001b[39m       masks \u001b[34mplyr\u001b[39m::summarize()\n",
      "\u001b[34m*\u001b[39m Use suppressPackageStartupMessages() to eliminate package startup messages\n",
      "\n"
     ]
    }
   ],
   "source": [
    "require(\"CASdatasets\") #Not needed if use of dataset.parquet\n",
    "require(\"mgcv\")\n",
    "require(\"caret\")\n",
    "require(\"plyr\")\n",
    "require(\"ggplot2\")\n",
    "require(\"gridExtra\")\n",
    "if (!require(\"parallel\")) install.packages(\"parallel\")\n",
    "if (!require(\"mgcViz\")) install.packages(\"mgcViz\")\n",
    "require(\"parallel\")\n",
    "require(\"mgcViz\")\n",
    "require(\"arrow\")\n",
    "require(\"tidymodels\")\n"
   ]
  },
  {
   "cell_type": "markdown",
   "id": "52f96e91",
   "metadata": {},
   "source": [
    "then, the data"
   ]
  },
  {
   "cell_type": "code",
   "execution_count": 2,
   "id": "1a90bd43",
   "metadata": {},
   "outputs": [],
   "source": [
    "dataset = read_parquet(file = \"../data/dataset.parquet\")"
   ]
  },
  {
   "cell_type": "markdown",
   "id": "84ce12f8",
   "metadata": {},
   "source": [
    "Checking that the data is loaded."
   ]
  },
  {
   "cell_type": "code",
   "execution_count": 3,
   "id": "b88b5fff",
   "metadata": {},
   "outputs": [
    {
     "name": "stdout",
     "output_type": "stream",
     "text": [
      "'data.frame':\t410864 obs. of  10 variables:\n",
      " $ PolicyID : Factor w/ 413169 levels \"1\",\"2\",\"3\",\"4\",..: 1 2 3 4 5 6 7 8 9 10 ...\n",
      " $ ClaimNb  : int  0 0 0 0 0 0 0 0 0 0 ...\n",
      " $ Exposure : num  0.09 0.84 0.52 0.45 0.15 0.75 0.81 0.05 0.76 0.34 ...\n",
      " $ Power    : Factor w/ 12 levels \"d\",\"e\",\"f\",\"g\",..: 4 4 3 3 4 4 1 1 1 6 ...\n",
      " $ CarAge   : int  0 0 2 2 0 0 1 0 9 0 ...\n",
      " $ DriverAge: int  46 46 38 38 41 41 27 27 23 44 ...\n",
      " $ Brand    : Factor w/ 7 levels \"Fiat\",\"Japanese (except Nissan) or Korean\",..: 2 2 2 2 2 2 2 2 1 2 ...\n",
      " $ Gas      : Factor w/ 2 levels \"Diesel\",\"Regular\": 1 1 2 2 1 1 2 2 2 2 ...\n",
      " $ Region   : Factor w/ 10 levels \"Aquitaine\",\"Basse-Normandie\",..: 1 1 8 8 9 9 1 1 8 6 ...\n",
      " $ Density  : int  76 76 3003 3003 60 60 695 695 7887 27000 ...\n"
     ]
    }
   ],
   "source": [
    "str(dataset)"
   ]
  },
  {
   "cell_type": "markdown",
   "id": "c49f13ad",
   "metadata": {},
   "source": [
    "# Outline of this session.\n",
    "\n",
    "- Illustration of the backfitting algorithm\n",
    "- Use of mgcv package\n",
    "- When using ‘manual backfitting’ can be useful\n"
   ]
  },
  {
   "cell_type": "markdown",
   "id": "f4ddc367",
   "metadata": {},
   "source": [
    "# Illustration of the backfitting algorithm\n",
    "\n",
    "## First iteration\n",
    "\n",
    "- First we start with a Poisson regression with only an intercept."
   ]
  },
  {
   "cell_type": "code",
   "execution_count": 4,
   "id": "0e659e0a",
   "metadata": {},
   "outputs": [
    {
     "data": {
      "text/html": [
       "<style>\n",
       ".list-inline {list-style: none; margin:0; padding: 0}\n",
       ".list-inline>li {display: inline-block}\n",
       ".list-inline>li:not(:last-child)::after {content: \"\\00b7\"; padding: 0 .5ex}\n",
       "</style>\n",
       "<ol class=list-inline><li>0.0063083008562306</li><li>0.0588774746581522</li><li>0.0364479605026657</li><li>0.031541504281153</li><li>0.0105138347603843</li><li>0.0525691738019216</li></ol>\n"
      ],
      "text/latex": [
       "\\begin{enumerate*}\n",
       "\\item 0.0063083008562306\n",
       "\\item 0.0588774746581522\n",
       "\\item 0.0364479605026657\n",
       "\\item 0.031541504281153\n",
       "\\item 0.0105138347603843\n",
       "\\item 0.0525691738019216\n",
       "\\end{enumerate*}\n"
      ],
      "text/markdown": [
       "1. 0.0063083008562306\n",
       "2. 0.0588774746581522\n",
       "3. 0.0364479605026657\n",
       "4. 0.031541504281153\n",
       "5. 0.0105138347603843\n",
       "6. 0.0525691738019216\n",
       "\n",
       "\n"
      ],
      "text/plain": [
       "[1] 0.006308301 0.058877475 0.036447961 0.031541504 0.010513835 0.052569174"
      ]
     },
     "metadata": {},
     "output_type": "display_data"
    }
   ],
   "source": [
    "autofit=dataset #Copy the data\n",
    "\n",
    "#Model with only an intercept\n",
    "require(mgcv) # Load package if not loaded yet.\n",
    "fit0<-gam(ClaimNb~1, data=autofit, family=poisson(), offset=log(Exposure))\n",
    "\n",
    "autofit$fit0=fit0$fitted.values\n",
    "head(autofit$fit0)"
   ]
  },
  {
   "cell_type": "markdown",
   "id": "e135bbe4",
   "metadata": {},
   "source": [
    "- We fit a model with the discrete variables. (e.g. model from the GLM session, or any other model for the illustration)"
   ]
  },
  {
   "cell_type": "code",
   "execution_count": 5,
   "id": "f4211812",
   "metadata": {},
   "outputs": [],
   "source": [
    "fit1<-gam(ClaimNb ~ offset(log(Exposure)) + Power  * Region +  Brand + Gas,\n",
    "         data = autofit,\n",
    "         family=poisson(link = log))\n",
    "autofit$fit1 = fit1$fitted.values"
   ]
  },
  {
   "cell_type": "markdown",
   "id": "304acf48",
   "metadata": {},
   "source": [
    "- Let us now consider a continuous covariate: CarAge"
   ]
  },
  {
   "cell_type": "code",
   "execution_count": 6,
   "id": "3fa34a1e",
   "metadata": {},
   "outputs": [
    {
     "data": {
      "text/html": [
       "<table class=\"dataframe\">\n",
       "<caption>A data.frame: 6 × 4</caption>\n",
       "<thead>\n",
       "\t<tr><th></th><th scope=col>CarAge</th><th scope=col>totalExposure</th><th scope=col>totalClaimObs</th><th scope=col>totalClaimExp</th></tr>\n",
       "\t<tr><th></th><th scope=col>&lt;int&gt;</th><th scope=col>&lt;dbl&gt;</th><th scope=col>&lt;int&gt;</th><th scope=col>&lt;dbl&gt;</th></tr>\n",
       "</thead>\n",
       "<tbody>\n",
       "\t<tr><th scope=row>1</th><td>0</td><td> 8710.903</td><td> 618</td><td> 621.9297</td></tr>\n",
       "\t<tr><th scope=row>2</th><td>1</td><td>18137.929</td><td>1311</td><td>1290.4246</td></tr>\n",
       "\t<tr><th scope=row>3</th><td>2</td><td>17347.019</td><td>1234</td><td>1230.6921</td></tr>\n",
       "\t<tr><th scope=row>4</th><td>3</td><td>15818.469</td><td>1101</td><td>1120.1672</td></tr>\n",
       "\t<tr><th scope=row>5</th><td>4</td><td>14966.334</td><td>1086</td><td>1057.8357</td></tr>\n",
       "\t<tr><th scope=row>6</th><td>5</td><td>14445.505</td><td>1019</td><td>1022.4781</td></tr>\n",
       "</tbody>\n",
       "</table>\n"
      ],
      "text/latex": [
       "A data.frame: 6 × 4\n",
       "\\begin{tabular}{r|llll}\n",
       "  & CarAge & totalExposure & totalClaimObs & totalClaimExp\\\\\n",
       "  & <int> & <dbl> & <int> & <dbl>\\\\\n",
       "\\hline\n",
       "\t1 & 0 &  8710.903 &  618 &  621.9297\\\\\n",
       "\t2 & 1 & 18137.929 & 1311 & 1290.4246\\\\\n",
       "\t3 & 2 & 17347.019 & 1234 & 1230.6921\\\\\n",
       "\t4 & 3 & 15818.469 & 1101 & 1120.1672\\\\\n",
       "\t5 & 4 & 14966.334 & 1086 & 1057.8357\\\\\n",
       "\t6 & 5 & 14445.505 & 1019 & 1022.4781\\\\\n",
       "\\end{tabular}\n"
      ],
      "text/markdown": [
       "\n",
       "A data.frame: 6 × 4\n",
       "\n",
       "| <!--/--> | CarAge &lt;int&gt; | totalExposure &lt;dbl&gt; | totalClaimObs &lt;int&gt; | totalClaimExp &lt;dbl&gt; |\n",
       "|---|---|---|---|---|\n",
       "| 1 | 0 |  8710.903 |  618 |  621.9297 |\n",
       "| 2 | 1 | 18137.929 | 1311 | 1290.4246 |\n",
       "| 3 | 2 | 17347.019 | 1234 | 1230.6921 |\n",
       "| 4 | 3 | 15818.469 | 1101 | 1120.1672 |\n",
       "| 5 | 4 | 14966.334 | 1086 | 1057.8357 |\n",
       "| 6 | 5 | 14445.505 | 1019 | 1022.4781 |\n",
       "\n"
      ],
      "text/plain": [
       "  CarAge totalExposure totalClaimObs totalClaimExp\n",
       "1 0       8710.903      618           621.9297    \n",
       "2 1      18137.929     1311          1290.4246    \n",
       "3 2      17347.019     1234          1230.6921    \n",
       "4 3      15818.469     1101          1120.1672    \n",
       "5 4      14966.334     1086          1057.8357    \n",
       "6 5      14445.505     1019          1022.4781    "
      ]
     },
     "metadata": {},
     "output_type": "display_data"
    }
   ],
   "source": [
    "require(plyr)\n",
    "mm <- ddply(autofit, .(CarAge), summarise, totalExposure = sum(Exposure), \n",
    "                totalClaimObs=sum(ClaimNb), totalClaimExp=sum(fit1))    \n",
    "head(mm)"
   ]
  },
  {
   "cell_type": "code",
   "execution_count": 7,
   "id": "6733bf79",
   "metadata": {},
   "outputs": [],
   "source": [
    "fit2<-gam(totalClaimObs ~ s(CarAge), \n",
    "              offset=log(totalClaimExp), \n",
    "              family=poisson(), \n",
    "              data=mm)"
   ]
  },
  {
   "cell_type": "markdown",
   "id": "2add4e4a",
   "metadata": {},
   "source": [
    "- Let us visualize the estimated function."
   ]
  },
  {
   "cell_type": "code",
   "execution_count": 8,
   "id": "f17d130a",
   "metadata": {},
   "outputs": [
    {
     "name": "stderr",
     "output_type": "stream",
     "text": [
      "Le chargement a nécessité le package : visreg\n",
      "\n"
     ]
    },
    {
     "data": {
      "image/png": "[encoded data removed]",
      "text/plain": [
       "plot without title"
      ]
     },
     "metadata": {
      "image/png": {
       "height": 420,
       "width": 420
      }
     },
     "output_type": "display_data"
    }
   ],
   "source": [
    "require(visreg)\n",
    "visreg(fit2, xvar = \"CarAge\", gg = TRUE, scale = \"response\") + ylim(c(0.25, 1.2)) +\n",
    "    ylab(\"Multiplicative Effect\")"
   ]
  },
  {
   "cell_type": "markdown",
   "id": "72a644b4",
   "metadata": {},
   "source": [
    "The new prediction of the claim frequency is now given by the old one times the correction due to CarAge."
   ]
  },
  {
   "cell_type": "code",
   "execution_count": 9,
   "id": "a8f7cf1a",
   "metadata": {},
   "outputs": [],
   "source": [
    "autofit$fit2<-autofit$fit1*predict(fit2, newdata=autofit, type=\"response\")"
   ]
  },
  {
   "cell_type": "markdown",
   "id": "cf43b9a6",
   "metadata": {},
   "source": [
    "The total number of predicted claim remains unchanged:"
   ]
  },
  {
   "cell_type": "code",
   "execution_count": 10,
   "id": "54c8b109",
   "metadata": {},
   "outputs": [
    {
     "data": {
      "text/html": [
       "<style>\n",
       ".list-inline {list-style: none; margin:0; padding: 0}\n",
       ".list-inline>li {display: inline-block}\n",
       ".list-inline>li:not(:last-child)::after {content: \"\\00b7\"; padding: 0 .5ex}\n",
       "</style>\n",
       "<ol class=list-inline><li>16127.0008725337</li><li>16126.9999999942</li></ol>\n"
      ],
      "text/latex": [
       "\\begin{enumerate*}\n",
       "\\item 16127.0008725337\n",
       "\\item 16126.9999999942\n",
       "\\end{enumerate*}\n"
      ],
      "text/markdown": [
       "1. 16127.0008725337\n",
       "2. 16126.9999999942\n",
       "\n",
       "\n"
      ],
      "text/plain": [
       "[1] 16127 16127"
      ]
     },
     "metadata": {},
     "output_type": "display_data"
    }
   ],
   "source": [
    "c(sum(autofit$fit1), sum(autofit$fit2))"
   ]
  },
  {
   "cell_type": "markdown",
   "id": "9f2a8e4d",
   "metadata": {},
   "source": [
    "- Let us now consider the other continuous covariate: DriverAge"
   ]
  },
  {
   "cell_type": "code",
   "execution_count": 11,
   "id": "18d36107",
   "metadata": {},
   "outputs": [
    {
     "data": {
      "text/html": [
       "<table class=\"dataframe\">\n",
       "<caption>A data.frame: 6 × 4</caption>\n",
       "<thead>\n",
       "\t<tr><th></th><th scope=col>DriverAge</th><th scope=col>totalExposure</th><th scope=col>totalClaimObs</th><th scope=col>totalClaimExp</th></tr>\n",
       "\t<tr><th></th><th scope=col>&lt;int&gt;</th><th scope=col>&lt;dbl&gt;</th><th scope=col>&lt;int&gt;</th><th scope=col>&lt;dbl&gt;</th></tr>\n",
       "</thead>\n",
       "<tbody>\n",
       "\t<tr><th scope=row>1</th><td>18</td><td> 148.4220</td><td> 46</td><td>  9.951695</td></tr>\n",
       "\t<tr><th scope=row>2</th><td>19</td><td> 636.9296</td><td>171</td><td> 42.610896</td></tr>\n",
       "\t<tr><th scope=row>3</th><td>20</td><td>1020.8744</td><td>216</td><td> 69.527420</td></tr>\n",
       "\t<tr><th scope=row>4</th><td>21</td><td>1277.9390</td><td>207</td><td> 87.265481</td></tr>\n",
       "\t<tr><th scope=row>5</th><td>22</td><td>1562.9872</td><td>239</td><td>107.852781</td></tr>\n",
       "\t<tr><th scope=row>6</th><td>23</td><td>1830.1058</td><td>230</td><td>128.854915</td></tr>\n",
       "</tbody>\n",
       "</table>\n"
      ],
      "text/latex": [
       "A data.frame: 6 × 4\n",
       "\\begin{tabular}{r|llll}\n",
       "  & DriverAge & totalExposure & totalClaimObs & totalClaimExp\\\\\n",
       "  & <int> & <dbl> & <int> & <dbl>\\\\\n",
       "\\hline\n",
       "\t1 & 18 &  148.4220 &  46 &   9.951695\\\\\n",
       "\t2 & 19 &  636.9296 & 171 &  42.610896\\\\\n",
       "\t3 & 20 & 1020.8744 & 216 &  69.527420\\\\\n",
       "\t4 & 21 & 1277.9390 & 207 &  87.265481\\\\\n",
       "\t5 & 22 & 1562.9872 & 239 & 107.852781\\\\\n",
       "\t6 & 23 & 1830.1058 & 230 & 128.854915\\\\\n",
       "\\end{tabular}\n"
      ],
      "text/markdown": [
       "\n",
       "A data.frame: 6 × 4\n",
       "\n",
       "| <!--/--> | DriverAge &lt;int&gt; | totalExposure &lt;dbl&gt; | totalClaimObs &lt;int&gt; | totalClaimExp &lt;dbl&gt; |\n",
       "|---|---|---|---|---|\n",
       "| 1 | 18 |  148.4220 |  46 |   9.951695 |\n",
       "| 2 | 19 |  636.9296 | 171 |  42.610896 |\n",
       "| 3 | 20 | 1020.8744 | 216 |  69.527420 |\n",
       "| 4 | 21 | 1277.9390 | 207 |  87.265481 |\n",
       "| 5 | 22 | 1562.9872 | 239 | 107.852781 |\n",
       "| 6 | 23 | 1830.1058 | 230 | 128.854915 |\n",
       "\n"
      ],
      "text/plain": [
       "  DriverAge totalExposure totalClaimObs totalClaimExp\n",
       "1 18         148.4220      46             9.951695   \n",
       "2 19         636.9296     171            42.610896   \n",
       "3 20        1020.8744     216            69.527420   \n",
       "4 21        1277.9390     207            87.265481   \n",
       "5 22        1562.9872     239           107.852781   \n",
       "6 23        1830.1058     230           128.854915   "
      ]
     },
     "metadata": {},
     "output_type": "display_data"
    }
   ],
   "source": [
    "mm <- ddply(autofit, .(DriverAge), summarise, totalExposure = sum(Exposure), totalClaimObs = sum(ClaimNb),\n",
    "    totalClaimExp = sum(fit2))\n",
    "head(mm)"
   ]
  },
  {
   "cell_type": "code",
   "execution_count": 12,
   "id": "7943405f",
   "metadata": {},
   "outputs": [],
   "source": [
    "fit3 <- gam(totalClaimObs ~ s(DriverAge), offset = log(totalClaimExp), family = poisson(),\n",
    "    data = mm)"
   ]
  },
  {
   "cell_type": "code",
   "execution_count": 13,
   "id": "f5191176",
   "metadata": {},
   "outputs": [
    {
     "data": {
      "image/png": "[encoded data removed]",
      "text/plain": [
       "plot without title"
      ]
     },
     "metadata": {
      "image/png": {
       "height": 420,
       "width": 420
      }
     },
     "output_type": "display_data"
    }
   ],
   "source": [
    "visreg(fit3, xvar = \"DriverAge\", gg = TRUE, scale = \"response\") + ylim(c(0, 5)) +\n",
    "    ylab(\"Multiplicative Effect\") + scale_x_continuous(name = \"Age of Driver\", limits = c(18,\n",
    "    99), breaks = c(18, seq(20, 95, 5), 99))"
   ]
  },
  {
   "cell_type": "markdown",
   "id": "ed1f551d",
   "metadata": {},
   "source": [
    "The new prediction of the claim frequency is now given by the old one times the correction due to DriverAge."
   ]
  },
  {
   "cell_type": "code",
   "execution_count": 14,
   "id": "1b3ebd73",
   "metadata": {},
   "outputs": [],
   "source": [
    "autofit$fit3 <- autofit$fit2 * predict(fit3, newdata = autofit, type = \"response\")"
   ]
  },
  {
   "cell_type": "markdown",
   "id": "8fb01ab8",
   "metadata": {},
   "source": [
    "The total expected number of claims remains unchanged."
   ]
  },
  {
   "cell_type": "code",
   "execution_count": 15,
   "id": "f4c92f0d",
   "metadata": {},
   "outputs": [
    {
     "data": {
      "text/html": [
       "<style>\n",
       ".list-inline {list-style: none; margin:0; padding: 0}\n",
       ".list-inline>li {display: inline-block}\n",
       ".list-inline>li:not(:last-child)::after {content: \"\\00b7\"; padding: 0 .5ex}\n",
       "</style>\n",
       "<ol class=list-inline><li>16126.9999999942</li><li>16127</li></ol>\n"
      ],
      "text/latex": [
       "\\begin{enumerate*}\n",
       "\\item 16126.9999999942\n",
       "\\item 16127\n",
       "\\end{enumerate*}\n"
      ],
      "text/markdown": [
       "1. 16126.9999999942\n",
       "2. 16127\n",
       "\n",
       "\n"
      ],
      "text/plain": [
       "[1] 16127 16127"
      ]
     },
     "metadata": {},
     "output_type": "display_data"
    }
   ],
   "source": [
    "c(sum(autofit$fit2), sum(autofit$fit3))"
   ]
  },
  {
   "cell_type": "markdown",
   "id": "a8d84dd8",
   "metadata": {},
   "source": [
    "Let us compute the log-likelihood"
   ]
  },
  {
   "cell_type": "code",
   "execution_count": 16,
   "id": "6ab5e232",
   "metadata": {},
   "outputs": [
    {
     "data": {
      "text/html": [
       "<style>\n",
       ".list-inline {list-style: none; margin:0; padding: 0}\n",
       ".list-inline>li {display: inline-block}\n",
       ".list-inline>li:not(:last-child)::after {content: \"\\00b7\"; padding: 0 .5ex}\n",
       "</style>\n",
       "<ol class=list-inline><li>-68153.7399700476</li><li>-67309.9644762711</li></ol>\n"
      ],
      "text/latex": [
       "\\begin{enumerate*}\n",
       "\\item -68153.7399700476\n",
       "\\item -67309.9644762711\n",
       "\\end{enumerate*}\n"
      ],
      "text/markdown": [
       "1. -68153.7399700476\n",
       "2. -67309.9644762711\n",
       "\n",
       "\n"
      ],
      "text/plain": [
       "[1] -68153.74 -67309.96"
      ]
     },
     "metadata": {},
     "output_type": "display_data"
    }
   ],
   "source": [
    "LL0 = sum(dpois(x = autofit$ClaimNb, lambda = autofit$fit0, log = TRUE))\n",
    "LLi = sum(dpois(x = autofit$ClaimNb, lambda = autofit$fit3, log = TRUE))\n",
    "c(LL0, LLi)"
   ]
  },
  {
   "cell_type": "markdown",
   "id": "efb8e773",
   "metadata": {},
   "source": [
    "## Further iterations\n",
    "\n",
    "Let us now iterate, and fit again the discrete variables, then CarAge, then DriverAge, and let us stop when the log-likelihood change is smaller than some small epsilon. When we fit the model, everything that has been fitted before and is unrelated to the current variable is put in the offset. To be sure that the algorithm stops, we also put a maximum of 20 iterations...\n",
    "\n"
   ]
  },
  {
   "cell_type": "code",
   "execution_count": 17,
   "id": "1d00fd83",
   "metadata": {},
   "outputs": [
    {
     "name": "stdout",
     "output_type": "stream",
     "text": [
      "[1]      1.00 -67309.96 -67299.70\n",
      "[1]      2.00 -67299.70 -67299.33\n",
      "[1]      3.00 -67299.33 -67299.31\n",
      "[1]      4.00 -67299.31 -67299.31\n",
      "[1]      5.00 -67299.31 -67299.31\n"
     ]
    }
   ],
   "source": [
    "epsilon = 1e-08\n",
    "i = 0\n",
    "fit_it_discr = list(fit1)\n",
    "fit_it_CarAge = list(fit2)\n",
    "fit_it_DriverAge = list(fit3)\n",
    "\n",
    "while (abs(LL0/LLi - 1) > epsilon & (i < 20)) {\n",
    "    i = i + 1\n",
    "    LL0 = LLi\n",
    "    # Discrete variables\n",
    "    autofit$logoffset = predict(fit_it_CarAge[[i]], newdata = autofit) + predict(fit_it_DriverAge[[i]],\n",
    "        newdata = autofit) + log(autofit$Exposure)\n",
    "    fit_it_discr[[i + 1]] <- gam(ClaimNb ~ Power * Region + Brand + Gas, \n",
    "                                 autofit, family = poisson(), offset = logoffset)\n",
    "\n",
    "    # CarAge\n",
    "    autofit$logoffset = predict(fit_it_discr[[i + 1]], newdata = autofit) + predict(fit_it_DriverAge[[i]],\n",
    "        newdata = autofit) + log(autofit$Exposure)\n",
    "    mm <- ddply(autofit, .(CarAge), summarise, totalClaimObs = sum(ClaimNb), totalClaimExp = sum(exp(logoffset)))\n",
    "    fit_it_CarAge[[i + 1]] <- gam(totalClaimObs ~ s(CarAge), offset = log(totalClaimExp),\n",
    "        family = poisson(), data = mm)\n",
    "\n",
    "    # DriverAge\n",
    "    autofit$logoffset = predict(fit_it_discr[[i + 1]], newdata = autofit) + predict(fit_it_CarAge[[i +\n",
    "        1]], newdata = autofit) + log(autofit$Exposure)\n",
    "    mm <- ddply(autofit, .(DriverAge), summarise, totalClaimObs = sum(ClaimNb), totalClaimExp = sum(exp(logoffset)))\n",
    "    fit_it_DriverAge[[i + 1]] <- gam(totalClaimObs ~ s(DriverAge), offset = log(totalClaimExp),\n",
    "        family = poisson(), data = mm)\n",
    "    ## Compute the new estimates\n",
    "\n",
    "    autofit$currentfit = predict(fit_it_discr[[i + 1]], newdata = autofit, type = \"response\") *\n",
    "        predict(fit_it_CarAge[[i + 1]], newdata = autofit, type = \"response\") * predict(fit_it_DriverAge[[i +\n",
    "        1]], newdata = autofit, type = \"response\") * (autofit$Exposure)\n",
    "\n",
    "    LLi = sum(dpois(x = autofit$ClaimNb, lambda = autofit$currentfit, log = TRUE))\n",
    "    print(c(i, LL0, LLi))\n",
    "}"
   ]
  },
  {
   "cell_type": "markdown",
   "id": "5f7adc34",
   "metadata": {},
   "source": [
    "## Results\n",
    "\n",
    "Let us now see the betas at each iteration.\n",
    "\n",
    "### Discrete variables\n"
   ]
  },
  {
   "cell_type": "code",
   "execution_count": 18,
   "id": "20b1fdd2",
   "metadata": {},
   "outputs": [],
   "source": [
    "res_discr = matrix(NA, ncol = 127, nrow = i + 1)\n",
    "colnames(res_discr) = names(fit_it_discr[[1]]$coefficients)\n",
    "res_discr[1, ] = fit_it_discr[[1]]$coefficients\n",
    "res_discr[2, ] = fit_it_discr[[2]]$coefficients\n",
    "res_discr[3, ] = fit_it_discr[[3]]$coefficients\n",
    "res_discr[4, ] = fit_it_discr[[4]]$coefficients\n",
    "res_discr[5, ] = fit_it_discr[[5]]$coefficients\n",
    "res_discr[6, ] = fit_it_discr[[6]]$coefficients"
   ]
  },
  {
   "cell_type": "markdown",
   "id": "ac108680",
   "metadata": {},
   "source": [
    "For instance, the 9 first variables:"
   ]
  },
  {
   "cell_type": "code",
   "execution_count": 19,
   "id": "265b1833",
   "metadata": {},
   "outputs": [
    {
     "data": {
      "image/png": "[encoded data removed]",
      "text/plain": [
       "plot without title"
      ]
     },
     "metadata": {
      "image/png": {
       "height": 420,
       "width": 420
      }
     },
     "output_type": "display_data"
    }
   ],
   "source": [
    "require(\"gridExtra\")\n",
    "p1 = lapply(2:10, function(i) {\n",
    "    ggplot() + geom_point(aes(y = res_discr[, i], x = 1:6)) + xlab(\"Iteration\") +\n",
    "        ylab(\"beta\") + ggtitle(names(fit_it_discr[[1]]$coefficients)[i]) + scale_x_continuous(breaks = 1:6)\n",
    "})\n",
    "do.call(grid.arrange, p1)"
   ]
  },
  {
   "cell_type": "markdown",
   "id": "4bbffc17",
   "metadata": {},
   "source": [
    "### CarAge"
   ]
  },
  {
   "cell_type": "code",
   "execution_count": 20,
   "id": "3fadfb12",
   "metadata": {},
   "outputs": [
    {
     "data": {
      "image/png": "[encoded data removed]",
      "text/plain": [
       "plot without title"
      ]
     },
     "metadata": {
      "image/png": {
       "height": 420,
       "width": 420
      }
     },
     "output_type": "display_data"
    }
   ],
   "source": [
    "CarAge = matrix(NA, ncol = 6, nrow = 26)\n",
    "CarAge[, 1] = predict(fit_it_CarAge[[1]], data.frame(CarAge = seq(from = 0, to = 25,\n",
    "    by = 1)), type = \"response\")\n",
    "CarAge[, 2] = predict(fit_it_CarAge[[2]], data.frame(CarAge = seq(from = 0, to = 25,\n",
    "    by = 1)), type = \"response\")\n",
    "CarAge[, 3] = predict(fit_it_CarAge[[3]], data.frame(CarAge = seq(from = 0, to = 25,\n",
    "    by = 1)), type = \"response\")\n",
    "CarAge[, 4] = predict(fit_it_CarAge[[4]], data.frame(CarAge = seq(from = 0, to = 25,\n",
    "    by = 1)), type = \"response\")\n",
    "CarAge[, 5] = predict(fit_it_CarAge[[5]], data.frame(CarAge = seq(from = 0, to = 25,\n",
    "    by = 1)), type = \"response\")\n",
    "CarAge[, 6] = predict(fit_it_CarAge[[6]], data.frame(CarAge = seq(from = 0, to = 25,\n",
    "    by = 1)), type = \"response\")\n",
    "\n",
    "x = as.data.frame(CarAge)\n",
    "names(x) = sapply(1:6, function(i) {\n",
    "    paste(\"it\", i)\n",
    "})\n",
    "x = stack(as.data.frame(x))\n",
    "names(x)[2] = \"Iteration\"\n",
    "\n",
    "ggplot(x) + geom_line(aes(x = rep(0:25, 6), y = values, color = Iteration)) + xlab(\"Age of the Car\") +\n",
    "    ylab(\"Multiplicative Effect\")"
   ]
  },
  {
   "cell_type": "markdown",
   "id": "7ded4db5",
   "metadata": {},
   "source": [
    "### DriverAge\n"
   ]
  },
  {
   "cell_type": "code",
   "execution_count": 21,
   "id": "fb1220ed",
   "metadata": {},
   "outputs": [
    {
     "data": {
      "image/png": "[encoded data removed]",
      "text/plain": [
       "plot without title"
      ]
     },
     "metadata": {
      "image/png": {
       "height": 420,
       "width": 420
      }
     },
     "output_type": "display_data"
    }
   ],
   "source": [
    "DriverAge = matrix(NA, ncol = 6, nrow = 82)\n",
    "DriverAge[, 1] = predict(fit_it_DriverAge[[1]], data.frame(DriverAge = seq(from = 18,\n",
    "    to = 99, by = 1)), type = \"response\")\n",
    "DriverAge[, 2] = predict(fit_it_DriverAge[[2]], data.frame(DriverAge = seq(from = 18,\n",
    "    to = 99, by = 1)), type = \"response\")\n",
    "DriverAge[, 3] = predict(fit_it_DriverAge[[3]], data.frame(DriverAge = seq(from = 18,\n",
    "    to = 99, by = 1)), type = \"response\")\n",
    "DriverAge[, 4] = predict(fit_it_DriverAge[[4]], data.frame(DriverAge = seq(from = 18,\n",
    "    to = 99, by = 1)), type = \"response\")\n",
    "DriverAge[, 5] = predict(fit_it_DriverAge[[5]], data.frame(DriverAge = seq(from = 18,\n",
    "    to = 99, by = 1)), type = \"response\")\n",
    "DriverAge[, 6] = predict(fit_it_DriverAge[[6]], data.frame(DriverAge = seq(from = 18,\n",
    "    to = 99, by = 1)), type = \"response\")\n",
    "\n",
    "x = as.data.frame(DriverAge)\n",
    "names(x) = sapply(1:6, function(i) {\n",
    "    paste(\"it\", i)\n",
    "})\n",
    "x = stack(as.data.frame(x))\n",
    "names(x)[2] = \"Iteration\"\n",
    "\n",
    "ggplot(x) + geom_line(aes(x = rep(18:99, 6), y = values, color = Iteration)) + xlab(\"Age of the Driver\") +\n",
    "    ylab(\"Multiplicative Effect\")"
   ]
  },
  {
   "cell_type": "markdown",
   "id": "8fe606d3",
   "metadata": {},
   "source": [
    "## Comparison with GAM\n",
    "\n",
    "\n",
    "Let us now compare with the GAM directly"
   ]
  },
  {
   "cell_type": "code",
   "execution_count": 22,
   "id": "49afa3ab",
   "metadata": {},
   "outputs": [
    {
     "data": {
      "image/png": "[encoded data removed]",
      "text/plain": [
       "plot without title"
      ]
     },
     "metadata": {
      "image/png": {
       "height": 420,
       "width": 420
      }
     },
     "output_type": "display_data"
    }
   ],
   "source": [
    "m0_gam = gam(ClaimNb ~ offset(log(Exposure)) + Power * Region + Brand + Gas + s(DriverAge) + s(CarAge), \n",
    "             data = autofit,\n",
    "             family = poisson(link = log))\n",
    "\n",
    "ggplot() + geom_point(aes(x = autofit$currentfit, y = m0_gam$fitted.values)) + xlab(\"Manual backfitting\") +\n",
    "    ylab(\"GAM from mgcv\")"
   ]
  },
  {
   "cell_type": "markdown",
   "id": "5116dedd",
   "metadata": {},
   "source": [
    "# Use of the mgcv package\n",
    "\n",
    "\n",
    "First, let us retrieve the training and testing set we used before (in the GLM session).\n",
    "\n"
   ]
  },
  {
   "cell_type": "code",
   "execution_count": 23,
   "id": "538dbea4",
   "metadata": {},
   "outputs": [],
   "source": [
    "set.seed(21)\n",
    "in_training = createDataPartition(dataset$ClaimNb, times = 1, p = 0.8, list = FALSE)\n",
    "training_set = dataset[in_training, ]\n",
    "testing_set = dataset[-in_training, ]"
   ]
  },
  {
   "cell_type": "markdown",
   "id": "c38ec479",
   "metadata": {},
   "source": [
    "The gam function works very similarly to the glm function. The continuous covariate have to be specified using for instance the function s(.). Interaction with respect to a discrete variable can be done by specifying the variable in the ‘by’ argument (see below)."
   ]
  },
  {
   "cell_type": "markdown",
   "id": "dc0be2b1",
   "metadata": {},
   "source": [
    "## First try with gam\n"
   ]
  },
  {
   "cell_type": "markdown",
   "id": "c9b23ab6",
   "metadata": {},
   "source": [
    "Let us start with the model we created during the GLM session. We will replace the continuous variables by splines."
   ]
  },
  {
   "cell_type": "code",
   "execution_count": 24,
   "id": "1587a20f",
   "metadata": {},
   "outputs": [
    {
     "name": "stdout",
     "output_type": "stream",
     "text": [
      "Time difference of 37.88866 secs\n"
     ]
    }
   ],
   "source": [
    "rec <- recipe(ClaimNb ~ DriverAge + CarAge + Power + Gas + Region + Brand + Exposure, \n",
    "              data = training_set) %>% # Which columns do we need ?\n",
    "    step_relevel(Power, ref_level = \"d\") %>%\n",
    "    step_relevel(Gas, ref_level = \"Regular\") %>%\n",
    "    step_relevel(Region, ref_level = \"Centre\") %>%\n",
    "    step_relevel(Brand, ref_level = \"Renault, Nissan or Citroen\") %>%\n",
    "    step_mutate(Brand = forcats::fct_collapse(Brand, A = c(\"Fiat\", \"Mercedes, Chrysler or BMW\", \n",
    "                                                     \"Opel, General Motors or Ford\",\n",
    "                                                     \"other\", \n",
    "                                                     \"Volkswagen, Audi, Skoda or Seat\"))) %>%\n",
    "    step_mutate(Power = forcats::fct_collapse(Power, \n",
    "                                                 \"e-f-g-h\" = c(\"e\", \"f\", \"g\", \"h\"),\n",
    "                                                 \"i-j-k-l-m\" = c(\"i\", \"j\", \"k\", \"l\", \"m\"),\n",
    "                                                 \"n-o\" = c(\"n\", \"o\")\n",
    "                                                )) %>%\n",
    "    step_mutate(Region = forcats::fct_collapse(Region, \n",
    "                                                 \"A\" = c(\"Pays-de-la-Loire\", \"Poitou-Charentes\", \"Aquitaine\")\n",
    "                                                )) %>%\n",
    "    prep()\n",
    "\n",
    "\n",
    "# Same as above..\n",
    "ptn_0 = Sys.time()\n",
    "m0_gam = gam(ClaimNb ~ offset(log(Exposure)) + Power * Region + Brand +\n",
    "    Gas + s(DriverAge) + s(CarAge), data = bake(rec, training_set),\n",
    "    family = poisson(link = log))\n",
    "print(Sys.time() - ptn_0)"
   ]
  },
  {
   "cell_type": "markdown",
   "id": "9bfb51f7",
   "metadata": {},
   "source": [
    "## Comparison with bam\n",
    "\n",
    "We see that the computational time is already long, especially if we wanted to use cross-validation. There is also the function bam, which is optimized for very large datasets and allows parallel computing."
   ]
  },
  {
   "cell_type": "code",
   "execution_count": 25,
   "id": "70edaa93",
   "metadata": {},
   "outputs": [
    {
     "name": "stdout",
     "output_type": "stream",
     "text": [
      "Time difference of 9.079048 secs\n"
     ]
    }
   ],
   "source": [
    "require(parallel)\n",
    "cl = makeCluster(detectCores() - 1)  # Number of cores to use, for parallel computing.\n",
    "ptn_0 = Sys.time()\n",
    "m0_bam = bam(ClaimNb ~ offset(log(Exposure)) + Power * Region + Brand +\n",
    "    Gas+ s(DriverAge) + s(CarAge), data = bake(rec, training_set),\n",
    "    family = poisson(link = log), cluster = cl)\n",
    "stopCluster(cl)\n",
    "print(Sys.time() - ptn_0)"
   ]
  },
  {
   "cell_type": "markdown",
   "id": "124072e4",
   "metadata": {},
   "source": [
    "We can see the fitted function using plot,"
   ]
  },
  {
   "cell_type": "code",
   "execution_count": 26,
   "id": "98df9e1a",
   "metadata": {},
   "outputs": [
    {
     "data": {
      "image/png": "[encoded data removed]",
      "text/plain": [
       "plot without title"
      ]
     },
     "metadata": {
      "image/png": {
       "height": 420,
       "width": 420
      }
     },
     "output_type": "display_data"
    }
   ],
   "source": [
    "par(mfrow = c(1, 2))\n",
    "plot(m0_bam, trans = exp, scale = 0, shade = TRUE)"
   ]
  },
  {
   "cell_type": "markdown",
   "id": "ce0657d7",
   "metadata": {},
   "source": [
    "Since 2020, the package mgcViz simplifies greatly the creation of visuals of GAMs. (Vignette available)"
   ]
  },
  {
   "cell_type": "code",
   "execution_count": 27,
   "id": "01ce7ed4",
   "metadata": {},
   "outputs": [
    {
     "data": {
      "image/png": "[encoded data removed]",
      "text/plain": [
       "plot without title"
      ]
     },
     "metadata": {
      "image/png": {
       "height": 420,
       "width": 420
      }
     },
     "output_type": "display_data"
    }
   ],
   "source": [
    "require(mgcViz)\n",
    "viz <- getViz(m0_bam)\n",
    "print(plot(viz, allTerms = T), pages = 1)"
   ]
  },
  {
   "cell_type": "markdown",
   "id": "80c167e8",
   "metadata": {},
   "source": [
    "## Bivariate function\n"
   ]
  },
  {
   "cell_type": "code",
   "execution_count": 28,
   "id": "1dbf1487",
   "metadata": {},
   "outputs": [
    {
     "data": {
      "text/plain": [
       "\n",
       "Family: poisson \n",
       "Link function: log \n",
       "\n",
       "Formula:\n",
       "ClaimNb ~ offset(log(Exposure)) + Power + Region + Brand + Gas + \n",
       "    te(DriverAge, CarAge)\n",
       "\n",
       "Estimated degrees of freedom:\n",
       "14.6  total = 28.56 \n",
       "\n",
       "fREML score: 577639.5     "
      ]
     },
     "metadata": {},
     "output_type": "display_data"
    }
   ],
   "source": [
    "cl = makeCluster(detectCores()-1) # Number of cores to use\n",
    "m1_bam = bam(ClaimNb ~ offset(log(Exposure)) + Power + Region + Brand + Gas + te(DriverAge, CarAge), # or replace te(DriverAge, CarAge) by ti(DriverAge) + ti(CarAge) + ti(DriverAge, CarAge)\n",
    "         data = bake(rec, training_set),\n",
    "         family=poisson(link = log),\n",
    "         cluster = cl)\n",
    "stopCluster(cl)\n",
    "m1_bam"
   ]
  },
  {
   "cell_type": "code",
   "execution_count": 29,
   "id": "0ea33fae",
   "metadata": {},
   "outputs": [
    {
     "data": {
      "text/plain": [
       "\n",
       "Family: poisson \n",
       "Link function: log \n",
       "\n",
       "Formula:\n",
       "ClaimNb ~ offset(log(Exposure)) + offset(log(Exposure)) + Power + \n",
       "    Region + Brand + Gas + s(DriverAge, CarAge)\n",
       "\n",
       "Estimated degrees of freedom:\n",
       "23  total = 37.03 \n",
       "\n",
       "fREML score: 577751.8     "
      ]
     },
     "metadata": {},
     "output_type": "display_data"
    }
   ],
   "source": [
    "cl = makeCluster(detectCores()-1) # Number of cores to use\n",
    "m1_bam_b = bam(ClaimNb ~ offset(log(Exposure)) + offset(log(Exposure)) + Power + Region + Brand + Gas + s(DriverAge, CarAge),\n",
    "         data = bake(rec, training_set),\n",
    "         family=poisson(link = log),\n",
    "         cluster = cl)\n",
    "stopCluster(cl)\n",
    "m1_bam_b"
   ]
  },
  {
   "cell_type": "markdown",
   "id": "81b86b76",
   "metadata": {},
   "source": [
    "To choose between te and s when adding bivariate functions, Wood (2017) recommends the following:\n",
    "\n",
    "- ”Tensor product, te Invariant to linear rescaling of covariates, but not to rotation of covariate space. Good for smooth interactions of quantities measured in different units, or where very different degrees of smoothness appropriate relative to different covariates. Computationally inexpensive, provided TPRS bases are not used as marginal bases. Apart from scale invariance, not much supporting theory.\n",
    "\n",
    "- TPRS, s(…,bs=“tp”) Invariant to rotation of covariate space (isotropic), but not to rescaling of covariates. Good for smooth interactions of quantities measured in same units, such as spatial co-ordinates, where isotropy is appropriate. Computational cost can be high as it increases with square of number of data (can be avoided by approximation). ”\n",
    "\n",
    "We can visualize the interactions:"
   ]
  },
  {
   "cell_type": "code",
   "execution_count": 30,
   "id": "3a5988ad",
   "metadata": {},
   "outputs": [
    {
     "data": {
      "image/png": "[encoded data removed]",
      "text/plain": [
       "Plot with title \"linear predictor\""
      ]
     },
     "metadata": {
      "image/png": {
       "height": 420,
       "width": 420
      }
     },
     "output_type": "display_data"
    }
   ],
   "source": [
    "vis.gam(m1_bam, view=c(\"DriverAge\", \"CarAge\"),  plot.type = 'contour')"
   ]
  },
  {
   "cell_type": "code",
   "execution_count": 31,
   "id": "ba6caa26",
   "metadata": {},
   "outputs": [
    {
     "data": {
      "image/png": "[encoded data removed]",
      "text/plain": [
       "Plot with title \"linear predictor\""
      ]
     },
     "metadata": {
      "image/png": {
       "height": 420,
       "width": 420
      }
     },
     "output_type": "display_data"
    }
   ],
   "source": [
    "vis.gam(m1_bam_b, view=c(\"DriverAge\", \"CarAge\"),  plot.type = 'contour')"
   ]
  },
  {
   "cell_type": "markdown",
   "id": "31d78155",
   "metadata": {},
   "source": [
    "We can compute the log-likelihood"
   ]
  },
  {
   "cell_type": "code",
   "execution_count": 32,
   "id": "6046fe57",
   "metadata": {},
   "outputs": [
    {
     "data": {
      "text/plain": [
       "'log Lik.' -54016.41 (df=46.06032)"
      ]
     },
     "metadata": {},
     "output_type": "display_data"
    }
   ],
   "source": [
    "logLik.gam(m0_bam)"
   ]
  },
  {
   "cell_type": "code",
   "execution_count": 33,
   "id": "77949f70",
   "metadata": {},
   "outputs": [
    {
     "data": {
      "text/plain": [
       "'log Lik.' -54092.17 (df=29.20055)"
      ]
     },
     "metadata": {},
     "output_type": "display_data"
    }
   ],
   "source": [
    "logLik.gam(m1_bam)"
   ]
  },
  {
   "cell_type": "code",
   "execution_count": 34,
   "id": "ef943387",
   "metadata": {},
   "outputs": [
    {
     "data": {
      "text/plain": [
       "'log Lik.' -54013.76 (df=37.25777)"
      ]
     },
     "metadata": {},
     "output_type": "display_data"
    }
   ],
   "source": [
    "logLik.gam(m1_bam_b)"
   ]
  },
  {
   "cell_type": "markdown",
   "id": "9c5ff9b6",
   "metadata": {},
   "source": [
    "# Interaction between a continuous and a discrete variable"
   ]
  },
  {
   "cell_type": "markdown",
   "id": "a6f974f6",
   "metadata": {},
   "source": [
    "To include an interaction with a discrete variable, we can use the by argument. For example, between CarAge and Gas:"
   ]
  },
  {
   "cell_type": "code",
   "execution_count": 35,
   "id": "0ad82f96",
   "metadata": {},
   "outputs": [
    {
     "data": {
      "text/plain": [
       "\n",
       "Family: poisson \n",
       "Link function: log \n",
       "\n",
       "Formula:\n",
       "ClaimNb ~ offset(log(Exposure)) + Power + Region + Brand + Gas + \n",
       "    s(DriverAge) + s(CarAge, by = Gas)\n",
       "\n",
       "Parametric coefficients:\n",
       "                                        Estimate Std. Error  z value Pr(>|z|)\n",
       "(Intercept)                             -2.93627    0.02785 -105.417  < 2e-16\n",
       "Powere-f-g-h                             0.09236    0.02628    3.515  0.00044\n",
       "Poweri-j-k-l-m                           0.22509    0.03457    6.510 7.50e-11\n",
       "Powern-o                                 0.29049    0.11133    2.609  0.00907\n",
       "RegionA                                  0.16598    0.02383    6.967 3.25e-12\n",
       "RegionBasse-Normandie                    0.08938    0.05392    1.658  0.09735\n",
       "RegionBretagne                           0.05259    0.02959    1.777  0.07550\n",
       "RegionHaute-Normandie                    0.12242    0.07690    1.592  0.11137\n",
       "RegionIle-de-France                      0.37357    0.02856   13.079  < 2e-16\n",
       "RegionLimousin                           0.42306    0.07697    5.497 3.87e-08\n",
       "RegionNord-Pas-de-Calais                 0.26994    0.03963    6.811 9.70e-12\n",
       "BrandA                                   0.08657    0.02001    4.326 1.52e-05\n",
       "BrandJapanese (except Nissan) or Korean -0.19997    0.03236   -6.180 6.39e-10\n",
       "GasDiesel                                0.12495    0.01907    6.552 5.66e-11\n",
       "                                           \n",
       "(Intercept)                             ***\n",
       "Powere-f-g-h                            ***\n",
       "Poweri-j-k-l-m                          ***\n",
       "Powern-o                                ** \n",
       "RegionA                                 ***\n",
       "RegionBasse-Normandie                   .  \n",
       "RegionBretagne                          .  \n",
       "RegionHaute-Normandie                      \n",
       "RegionIle-de-France                     ***\n",
       "RegionLimousin                          ***\n",
       "RegionNord-Pas-de-Calais                ***\n",
       "BrandA                                  ***\n",
       "BrandJapanese (except Nissan) or Korean ***\n",
       "GasDiesel                               ***\n",
       "---\n",
       "Signif. codes:  0 '***' 0.001 '**' 0.01 '*' 0.05 '.' 0.1 ' ' 1\n",
       "\n",
       "Approximate significance of smooth terms:\n",
       "                       edf Ref.df Chi.sq p-value    \n",
       "s(DriverAge)         7.906  8.554 982.34 < 2e-16 ***\n",
       "s(CarAge):GasRegular 3.856  4.795  75.24 < 2e-16 ***\n",
       "s(CarAge):GasDiesel  1.842  2.333  13.07 0.00225 ** \n",
       "---\n",
       "Signif. codes:  0 '***' 0.001 '**' 0.01 '*' 0.05 '.' 0.1 ' ' 1\n",
       "\n",
       "R-sq.(adj) =  0.00728   Deviance explained =  2.9%\n",
       "fREML = 5.7861e+05  Scale est. = 1         n = 328692"
      ]
     },
     "metadata": {},
     "output_type": "display_data"
    }
   ],
   "source": [
    "cl = makeCluster(detectCores() - 1)  # Number of cores to use\n",
    "m2_bam = bam(ClaimNb ~ offset(log(Exposure)) + Power + Region + Brand + Gas  + s(DriverAge) + s(CarAge, by = Gas), \n",
    "             data = bake(rec, training_set),,\n",
    "    family = poisson(link = log), cluster = cl)\n",
    "stopCluster(cl)\n",
    "summary(m2_bam)"
   ]
  },
  {
   "cell_type": "markdown",
   "id": "9202dc5c",
   "metadata": {},
   "source": [
    "When we now plot the functions, we obtain two functions for CarAge."
   ]
  },
  {
   "cell_type": "code",
   "execution_count": 36,
   "id": "2b54519f",
   "metadata": {},
   "outputs": [
    {
     "data": {
      "image/png": "[encoded data removed]",
      "text/plain": [
       "plot without title"
      ]
     },
     "metadata": {
      "image/png": {
       "height": 420,
       "width": 420
      }
     },
     "output_type": "display_data"
    }
   ],
   "source": [
    "b <- getViz(m2_bam)\n",
    "gridPrint(plot(sm(b, 2)) + theme_bw() +l_ciPoly()+ l_fitLine(colour = \"red\"),\n",
    "          plot(sm(b, 3)) + theme_bw() +l_ciPoly()+ l_fitLine(colour = \"red\"), ncol=2)"
   ]
  },
  {
   "cell_type": "markdown",
   "id": "ffeeb39b",
   "metadata": {},
   "source": [
    "We can test if the interaction improves our model (but does it improve the predictible power of our model ?)."
   ]
  },
  {
   "cell_type": "code",
   "execution_count": 37,
   "id": "b8addd54",
   "metadata": {},
   "outputs": [
    {
     "data": {
      "text/html": [
       "<table class=\"dataframe\">\n",
       "<caption>A anova: 2 × 5</caption>\n",
       "<thead>\n",
       "\t<tr><th></th><th scope=col>Resid. Df</th><th scope=col>Resid. Dev</th><th scope=col>Df</th><th scope=col>Deviance</th><th scope=col>Pr(&gt;Chi)</th></tr>\n",
       "\t<tr><th></th><th scope=col>&lt;dbl&gt;</th><th scope=col>&lt;dbl&gt;</th><th scope=col>&lt;dbl&gt;</th><th scope=col>&lt;dbl&gt;</th><th scope=col>&lt;dbl&gt;</th></tr>\n",
       "</thead>\n",
       "<tbody>\n",
       "\t<tr><th scope=row>1</th><td>328644.2</td><td>83026.14</td><td>       NA</td><td>       NA</td><td>       NA</td></tr>\n",
       "\t<tr><th scope=row>2</th><td>328661.2</td><td>83035.39</td><td>-17.00991</td><td>-9.251538</td><td>0.9322877</td></tr>\n",
       "</tbody>\n",
       "</table>\n"
      ],
      "text/latex": [
       "A anova: 2 × 5\n",
       "\\begin{tabular}{r|lllll}\n",
       "  & Resid. Df & Resid. Dev & Df & Deviance & Pr(>Chi)\\\\\n",
       "  & <dbl> & <dbl> & <dbl> & <dbl> & <dbl>\\\\\n",
       "\\hline\n",
       "\t1 & 328644.2 & 83026.14 &        NA &        NA &        NA\\\\\n",
       "\t2 & 328661.2 & 83035.39 & -17.00991 & -9.251538 & 0.9322877\\\\\n",
       "\\end{tabular}\n"
      ],
      "text/markdown": [
       "\n",
       "A anova: 2 × 5\n",
       "\n",
       "| <!--/--> | Resid. Df &lt;dbl&gt; | Resid. Dev &lt;dbl&gt; | Df &lt;dbl&gt; | Deviance &lt;dbl&gt; | Pr(&gt;Chi) &lt;dbl&gt; |\n",
       "|---|---|---|---|---|---|\n",
       "| 1 | 328644.2 | 83026.14 |        NA |        NA |        NA |\n",
       "| 2 | 328661.2 | 83035.39 | -17.00991 | -9.251538 | 0.9322877 |\n",
       "\n"
      ],
      "text/plain": [
       "  Resid. Df Resid. Dev Df        Deviance  Pr(>Chi) \n",
       "1 328644.2  83026.14          NA        NA        NA\n",
       "2 328661.2  83035.39   -17.00991 -9.251538 0.9322877"
      ]
     },
     "metadata": {},
     "output_type": "display_data"
    }
   ],
   "source": [
    "anova(m0_bam, m2_bam, test = \"Chisq\")"
   ]
  },
  {
   "cell_type": "code",
   "execution_count": 38,
   "id": "e8397b74",
   "metadata": {},
   "outputs": [
    {
     "data": {
      "text/html": [
       "<table class=\"dataframe\">\n",
       "<caption>A anova: 2 × 5</caption>\n",
       "<thead>\n",
       "\t<tr><th></th><th scope=col>Resid. Df</th><th scope=col>Resid. Dev</th><th scope=col>Df</th><th scope=col>Deviance</th><th scope=col>Pr(&gt;Chi)</th></tr>\n",
       "\t<tr><th></th><th scope=col>&lt;dbl&gt;</th><th scope=col>&lt;dbl&gt;</th><th scope=col>&lt;dbl&gt;</th><th scope=col>&lt;dbl&gt;</th><th scope=col>&lt;dbl&gt;</th></tr>\n",
       "</thead>\n",
       "<tbody>\n",
       "\t<tr><th scope=row>1</th><td>328644.2</td><td>83026.14</td><td>       NA</td><td>       NA</td><td>       NA</td></tr>\n",
       "\t<tr><th scope=row>2</th><td>328656.7</td><td>83031.03</td><td>-12.54417</td><td>-4.888129</td><td>0.9712308</td></tr>\n",
       "</tbody>\n",
       "</table>\n"
      ],
      "text/latex": [
       "A anova: 2 × 5\n",
       "\\begin{tabular}{r|lllll}\n",
       "  & Resid. Df & Resid. Dev & Df & Deviance & Pr(>Chi)\\\\\n",
       "  & <dbl> & <dbl> & <dbl> & <dbl> & <dbl>\\\\\n",
       "\\hline\n",
       "\t1 & 328644.2 & 83026.14 &        NA &        NA &        NA\\\\\n",
       "\t2 & 328656.7 & 83031.03 & -12.54417 & -4.888129 & 0.9712308\\\\\n",
       "\\end{tabular}\n"
      ],
      "text/markdown": [
       "\n",
       "A anova: 2 × 5\n",
       "\n",
       "| <!--/--> | Resid. Df &lt;dbl&gt; | Resid. Dev &lt;dbl&gt; | Df &lt;dbl&gt; | Deviance &lt;dbl&gt; | Pr(&gt;Chi) &lt;dbl&gt; |\n",
       "|---|---|---|---|---|---|\n",
       "| 1 | 328644.2 | 83026.14 |        NA |        NA |        NA |\n",
       "| 2 | 328656.7 | 83031.03 | -12.54417 | -4.888129 | 0.9712308 |\n",
       "\n"
      ],
      "text/plain": [
       "  Resid. Df Resid. Dev Df        Deviance  Pr(>Chi) \n",
       "1 328644.2  83026.14          NA        NA        NA\n",
       "2 328656.7  83031.03   -12.54417 -4.888129 0.9712308"
      ]
     },
     "metadata": {},
     "output_type": "display_data"
    }
   ],
   "source": [
    "cl = makeCluster(detectCores() - 1)  # Number of cores to use\n",
    "m3_bam = bam(ClaimNb ~ offset(log(Exposure)) + Power + Region + Brand + Gas + s(DriverAge, by = Gas) + s(CarAge), \n",
    "             data = bake(rec, training_set),\n",
    "    family = poisson(link = log), cluster = cl)\n",
    "stopCluster(cl)\n",
    "anova(m0_bam, m3_bam, test = \"Chisq\")"
   ]
  },
  {
   "cell_type": "code",
   "execution_count": 39,
   "id": "71b4a772",
   "metadata": {},
   "outputs": [
    {
     "data": {
      "image/png": "[encoded data removed]",
      "text/plain": [
       "plot without title"
      ]
     },
     "metadata": {
      "image/png": {
       "height": 420,
       "width": 420
      }
     },
     "output_type": "display_data"
    }
   ],
   "source": [
    "par(mfrow = c(1, 2))\n",
    "plot(m3_bam, shade = TRUE, trans = exp, scale = -1, select = 1)\n",
    "plot(m3_bam, shade = TRUE, trans = exp, scale = -1, select = 2)"
   ]
  },
  {
   "cell_type": "markdown",
   "id": "24f0352a",
   "metadata": {},
   "source": [
    "Or with mgcViz:"
   ]
  },
  {
   "cell_type": "code",
   "execution_count": 40,
   "id": "c2bce416",
   "metadata": {},
   "outputs": [
    {
     "data": {
      "image/png": "[encoded data removed]",
      "text/plain": [
       "plot without title"
      ]
     },
     "metadata": {
      "image/png": {
       "height": 420,
       "width": 420
      }
     },
     "output_type": "display_data"
    }
   ],
   "source": [
    "b <- getViz(m3_bam)\n",
    "gridPrint(plot(sm(b, 1)) + theme_bw() +l_ciPoly()+ l_fitLine(colour = \"red\"),\n",
    "          plot(sm(b, 2)) + theme_bw() +l_ciPoly()+ l_fitLine(colour = \"red\"), ncol=2)"
   ]
  },
  {
   "cell_type": "markdown",
   "id": "9e9148c0",
   "metadata": {},
   "source": [
    "# Cross-validation\n",
    "\n",
    "We can also use cross-validation to check whether or not to include this variable. First we need to create the folds, let’s say 5.\n",
    "\n"
   ]
  },
  {
   "cell_type": "code",
   "execution_count": 41,
   "id": "780c2f66",
   "metadata": {},
   "outputs": [
    {
     "data": {
      "text/html": [
       "<table class=\"dataframe\">\n",
       "<caption>A matrix: 5 × 2 of type dbl</caption>\n",
       "<tbody>\n",
       "\t<tr><th scope=row>Fold1</th><td>-10963.91</td><td>-10965.52</td></tr>\n",
       "\t<tr><th scope=row>Fold2</th><td>-10512.25</td><td>-10511.47</td></tr>\n",
       "\t<tr><th scope=row>Fold3</th><td>-10875.86</td><td>-10879.43</td></tr>\n",
       "\t<tr><th scope=row>Fold4</th><td>-10901.66</td><td>-10900.27</td></tr>\n",
       "\t<tr><th scope=row>Fold5</th><td>-10803.40</td><td>-10802.31</td></tr>\n",
       "</tbody>\n",
       "</table>\n"
      ],
      "text/latex": [
       "A matrix: 5 × 2 of type dbl\n",
       "\\begin{tabular}{r|ll}\n",
       "\tFold1 & -10963.91 & -10965.52\\\\\n",
       "\tFold2 & -10512.25 & -10511.47\\\\\n",
       "\tFold3 & -10875.86 & -10879.43\\\\\n",
       "\tFold4 & -10901.66 & -10900.27\\\\\n",
       "\tFold5 & -10803.40 & -10802.31\\\\\n",
       "\\end{tabular}\n"
      ],
      "text/markdown": [
       "\n",
       "A matrix: 5 × 2 of type dbl\n",
       "\n",
       "| Fold1 | -10963.91 | -10965.52 |\n",
       "| Fold2 | -10512.25 | -10511.47 |\n",
       "| Fold3 | -10875.86 | -10879.43 |\n",
       "| Fold4 | -10901.66 | -10900.27 |\n",
       "| Fold5 | -10803.40 | -10802.31 |\n",
       "\n"
      ],
      "text/plain": [
       "      [,1]      [,2]     \n",
       "Fold1 -10963.91 -10965.52\n",
       "Fold2 -10512.25 -10511.47\n",
       "Fold3 -10875.86 -10879.43\n",
       "Fold4 -10901.66 -10900.27\n",
       "Fold5 -10803.40 -10802.31"
      ]
     },
     "metadata": {},
     "output_type": "display_data"
    }
   ],
   "source": [
    "require(caret)\n",
    "set.seed(41)\n",
    "folds = createFolds(training_set$ClaimNb, k = 5)\n",
    "res0 = lapply(folds, function(X) {\n",
    "    cl = makeCluster(detectCores() - 1)  # Number of cores to use\n",
    "    m3_bam = bam(ClaimNb ~ offset(log(Exposure)) + Power + Region + Brand + Gas + s(DriverAge) + s(CarAge),\n",
    "        data = bake(rec, training_set[-X, ]), family = poisson(link = log), cluster = cl)\n",
    "    stopCluster(cl)\n",
    "    pred = predict(m3_bam, bake(rec, training_set[X, ]), type = \"response\")\n",
    "    sum(dpois(x = bake(rec, training_set[X, ])$ClaimNb, lambda = pred, log = TRUE))\n",
    "    # sum(-pred +\n",
    "    # training_set[X,]$ClaimNb*log(pred)-log(factorial(training_set[X,]$ClaimNb)))\n",
    "})\n",
    "\n",
    "res3 = lapply(folds, function(X) {\n",
    "    cl = makeCluster(detectCores() - 1)  # Number of cores to use\n",
    "    m3_bam = bam(ClaimNb ~ offset(log(Exposure)) + Power + Region + Brand + Gas + s(DriverAge, by = Gas) +\n",
    "        s(CarAge), \n",
    "                 data = bake(rec, training_set[-X, ]), family = poisson(link = log), cluster = cl)\n",
    "    stopCluster(cl)\n",
    "    pred = predict(m3_bam, bake(rec, training_set[X, ]), type = \"response\")\n",
    "    sum(dpois(x = bake(rec, training_set[X, ])$ClaimNb, lambda = pred, log = TRUE))\n",
    "    # sum(-pred +\n",
    "    # training_set[X,]$ClaimNb*log(pred)-log(factorial(training_set[X,]$ClaimNb)))\n",
    "})\n",
    "\n",
    "cbind(unlist(res0), unlist(res3))"
   ]
  },
  {
   "cell_type": "code",
   "execution_count": 42,
   "id": "1fba9a9a",
   "metadata": {},
   "outputs": [
    {
     "data": {
      "text/html": [
       "<style>\n",
       ".list-inline {list-style: none; margin:0; padding: 0}\n",
       ".list-inline>li {display: inline-block}\n",
       ".list-inline>li:not(:last-child)::after {content: \"\\00b7\"; padding: 0 .5ex}\n",
       "</style>\n",
       "<ol class=list-inline><li>-10811.4175425836</li><li>-10811.8007204507</li></ol>\n"
      ],
      "text/latex": [
       "\\begin{enumerate*}\n",
       "\\item -10811.4175425836\n",
       "\\item -10811.8007204507\n",
       "\\end{enumerate*}\n"
      ],
      "text/markdown": [
       "1. -10811.4175425836\n",
       "2. -10811.8007204507\n",
       "\n",
       "\n"
      ],
      "text/plain": [
       "[1] -10811.42 -10811.80"
      ]
     },
     "metadata": {},
     "output_type": "display_data"
    }
   ],
   "source": [
    "# Average on 5 folds\n",
    "apply(cbind(unlist(res0), unlist(res3)), 2, mean)"
   ]
  },
  {
   "cell_type": "markdown",
   "id": "3bec3964",
   "metadata": {},
   "source": [
    "There is no improvement with the interaction."
   ]
  },
  {
   "cell_type": "code",
   "execution_count": 43,
   "id": "c66baeb1",
   "metadata": {},
   "outputs": [
    {
     "data": {
      "text/html": [
       "<style>\n",
       ".list-inline {list-style: none; margin:0; padding: 0}\n",
       ".list-inline>li {display: inline-block}\n",
       ".list-inline>li:not(:last-child)::after {content: \"\\00b7\"; padding: 0 .5ex}\n",
       "</style>\n",
       "<ol class=list-inline><li>-10811.4175425836</li><li>-10811.8007204507</li><li>-10812.4874932714</li></ol>\n"
      ],
      "text/latex": [
       "\\begin{enumerate*}\n",
       "\\item -10811.4175425836\n",
       "\\item -10811.8007204507\n",
       "\\item -10812.4874932714\n",
       "\\end{enumerate*}\n"
      ],
      "text/markdown": [
       "1. -10811.4175425836\n",
       "2. -10811.8007204507\n",
       "3. -10812.4874932714\n",
       "\n",
       "\n"
      ],
      "text/plain": [
       "[1] -10811.42 -10811.80 -10812.49"
      ]
     },
     "metadata": {},
     "output_type": "display_data"
    }
   ],
   "source": [
    "res4 = lapply(folds, function(X) {\n",
    "    cl = makeCluster(detectCores() - 1)  # Number of cores to use\n",
    "    m3_bam = bam(ClaimNb ~ offset(log(Exposure)) + Power + Region + Brand + Gas + s(DriverAge) + s(CarAge, by = Power), \n",
    "                 data = bake(rec, training_set[-X, ]), \n",
    "                 family = poisson(link = log),\n",
    "        cluster = cl)\n",
    "    stopCluster(cl)\n",
    "    pred = predict(m3_bam, bake(rec, training_set[X, ]), type = \"response\")\n",
    "    sum(dpois(x = bake(rec, training_set[X, ])$ClaimNb, lambda = pred, log = TRUE))\n",
    "    # sum(-pred +\n",
    "    # training_set[X,]$ClaimNb*log(pred)-log(factorial(training_set[X,]$ClaimNb)))\n",
    "})\n",
    "apply(cbind(unlist(res0), unlist(res3), unlist(res4)), 2, mean)"
   ]
  },
  {
   "cell_type": "markdown",
   "id": "20dbb83e",
   "metadata": {},
   "source": [
    "We conclude here, we did not find any further interactions. We can compute the deviance on the validation set"
   ]
  },
  {
   "cell_type": "code",
   "execution_count": 44,
   "id": "5fd60002",
   "metadata": {},
   "outputs": [
    {
     "data": {
      "text/html": [
       "20525.0908437418"
      ],
      "text/latex": [
       "20525.0908437418"
      ],
      "text/markdown": [
       "20525.0908437418"
      ],
      "text/plain": [
       "[1] 20525.09"
      ]
     },
     "metadata": {},
     "output_type": "display_data"
    }
   ],
   "source": [
    "2 * (sum(dpois(x = bake(rec, testing_set)$ClaimNb, lambda = bake(rec, testing_set)$ClaimNb, log = TRUE)) -\n",
    "    sum(dpois(x = bake(rec, testing_set)$ClaimNb, lambda = predict(m0_bam, bake(rec, testing_set), offset = bake(rec, testing_set)$Exposure,\n",
    "        type = \"response\"), log = TRUE)))"
   ]
  },
  {
   "cell_type": "markdown",
   "id": "1468763d",
   "metadata": {},
   "source": [
    "# Optimizing the number of nodes\n",
    "\n",
    "We can also optimize the number of nodes by cross-validation."
   ]
  },
  {
   "cell_type": "code",
   "execution_count": 45,
   "id": "f7d473c4",
   "metadata": {},
   "outputs": [
    {
     "data": {
      "image/png": "[encoded data removed]",
      "text/plain": [
       "plot without title"
      ]
     },
     "metadata": {
      "image/png": {
       "height": 420,
       "width": 420
      }
     },
     "output_type": "display_data"
    }
   ],
   "source": [
    "# First understand what it changes\n",
    "default_choice = bam(ClaimNb ~ offset(log(Exposure)) + Power * Region + Brand +\n",
    "    Gas+ s(DriverAge), data = bake(rec, training_set),\n",
    "    family = poisson(link = log))\n",
    "plot(default_choice)"
   ]
  },
  {
   "cell_type": "code",
   "execution_count": 46,
   "id": "22c955ee",
   "metadata": {},
   "outputs": [
    {
     "name": "stdout",
     "output_type": "stream",
     "text": [
      "\n",
      "Method: fREML   Optimizer: perf newton\n",
      "full convergence after 3 iterations.\n",
      "Gradient range [0.006536233,0.006536233]\n",
      "(score 577557.4 & scale 1).\n",
      "Hessian positive definite, eigenvalue range [3.426133,3.426133].\n",
      "Model rank =  44 / 44 \n",
      "\n",
      "Basis dimension (k) checking results. Low p-value (k-index<1) may\n",
      "indicate that k is too low, especially if edf is close to k'.\n",
      "\n",
      "               k'  edf k-index p-value\n",
      "s(DriverAge) 9.00 7.88     0.9    0.31\n"
     ]
    },
    {
     "data": {
      "image/png": "[encoded data removed]",
      "text/plain": [
       "Plot with title \"Response vs. Fitted Values\""
      ]
     },
     "metadata": {
      "image/png": {
       "height": 420,
       "width": 420
      }
     },
     "output_type": "display_data"
    }
   ],
   "source": [
    "gam.check(default_choice)"
   ]
  },
  {
   "cell_type": "code",
   "execution_count": 47,
   "id": "ae863a87",
   "metadata": {},
   "outputs": [
    {
     "data": {
      "image/png": "[encoded data removed]",
      "text/plain": [
       "plot without title"
      ]
     },
     "metadata": {
      "image/png": {
       "height": 420,
       "width": 420
      }
     },
     "output_type": "display_data"
    }
   ],
   "source": [
    "choose_nodes = bam(ClaimNb ~ offset(log(Exposure)) + Power * Region + Brand +\n",
    "    Gas+ s(DriverAge, k=15), data = bake(rec, training_set),\n",
    "    family = poisson(link = log))\n",
    "plot(choose_nodes)"
   ]
  },
  {
   "cell_type": "code",
   "execution_count": 48,
   "id": "8b1e079e",
   "metadata": {},
   "outputs": [
    {
     "data": {
      "text/html": [
       "<style>\n",
       ".list-inline {list-style: none; margin:0; padding: 0}\n",
       ".list-inline>li {display: inline-block}\n",
       ".list-inline>li:not(:last-child)::after {content: \"\\00b7\"; padding: 0 .5ex}\n",
       "</style>\n",
       "<ol class=list-inline><li>-10811.4175425836</li><li>-10814.3866420072</li></ol>\n"
      ],
      "text/latex": [
       "\\begin{enumerate*}\n",
       "\\item -10811.4175425836\n",
       "\\item -10814.3866420072\n",
       "\\end{enumerate*}\n"
      ],
      "text/markdown": [
       "1. -10811.4175425836\n",
       "2. -10814.3866420072\n",
       "\n",
       "\n"
      ],
      "text/plain": [
       "[1] -10811.42 -10814.39"
      ]
     },
     "metadata": {},
     "output_type": "display_data"
    }
   ],
   "source": [
    "res5 = lapply(folds, function(X) {\n",
    "    cl = makeCluster(detectCores() - 1)  # Number of cores to use\n",
    "    m3_bam = bam(ClaimNb ~ offset(log(Exposure)) + Power * Region + Brand +\n",
    "                 Gas+ s(DriverAge, k=15) + s(CarAge), data = bake(rec, training_set[-X,]), \n",
    "                 family = poisson(link = log),\n",
    "                 cluster = cl)\n",
    "    stopCluster(cl)\n",
    "    pred = predict(m3_bam, bake(rec, training_set[X, ]), type = \"response\")\n",
    "    sum(dpois(x = bake(rec, training_set[X, ])$ClaimNb, lambda = pred, log = TRUE))\n",
    "    # sum(-pred +\n",
    "    # training_set[X,]$ClaimNb*log(pred)-log(factorial(training_set[X,]$ClaimNb)))\n",
    "})\n",
    "apply(cbind(unlist(res0), unlist(res5)), 2, mean)"
   ]
  },
  {
   "cell_type": "markdown",
   "id": "f0811dbb",
   "metadata": {},
   "source": [
    "# Comparison with best GLM model"
   ]
  },
  {
   "cell_type": "code",
   "execution_count": 49,
   "id": "d0ce93f3",
   "metadata": {},
   "outputs": [],
   "source": [
    "rec_glm = recipe(ClaimNb ~ DriverAge + CarAge + Power + Gas + Region + Brand + Exposure, data = training_set) %>% # Which columns do we need ?\n",
    "    step_relevel(Power, ref_level = \"d\") %>%\n",
    "    step_relevel(Gas, ref_level = \"Regular\") %>%\n",
    "    step_relevel(Region, ref_level = \"Centre\") %>%\n",
    "    step_relevel(Brand, ref_level = \"Renault, Nissan or Citroen\") %>%\n",
    "    step_mutate(Brand = forcats::fct_collapse(Brand, A = c(\"Fiat\", \"Mercedes, Chrysler or BMW\", \n",
    "                                                     \"Opel, General Motors or Ford\",\n",
    "                                                     \"other\", \n",
    "                                                     \"Volkswagen, Audi, Skoda or Seat\"))) %>%\n",
    "    step_mutate(Power = forcats::fct_collapse(Power, \n",
    "                                                 \"e-f-g-h\" = c(\"e\", \"f\", \"g\", \"h\"),\n",
    "                                                 \"i-j-k-l-m\" = c(\"i\", \"j\", \"k\", \"l\", \"m\"),\n",
    "                                                 \"n-o\" = c(\"n\", \"o\")\n",
    "                                                )) %>%\n",
    "    step_mutate(Region = forcats::fct_collapse(Region, \n",
    "                                                 \"A\" = c(\"Pays-de-la-Loire\", \"Poitou-Charentes\", \"Aquitaine\")\n",
    "                                                )) %>%\n",
    "    prep()\n",
    "\n",
    "\n",
    "m_glm = gam(ClaimNb ~ offset(log(Exposure))+ poly(DriverAge, 7) + poly(CarAge, 2) + Power + Gas + Region + Brand, \n",
    "    data = bake(rec_glm, training_set), family = poisson())"
   ]
  },
  {
   "cell_type": "code",
   "execution_count": 50,
   "id": "0a89df8e",
   "metadata": {
    "scrolled": true
   },
   "outputs": [
    {
     "data": {
      "text/html": [
       "<table class=\"dataframe\">\n",
       "<caption>A data.frame: 5 × 2</caption>\n",
       "<thead>\n",
       "\t<tr><th></th><th scope=col>GLM_pred</th><th scope=col>GAM_pred</th></tr>\n",
       "\t<tr><th></th><th scope=col>&lt;dbl[1d]&gt;</th><th scope=col>&lt;dbl[1d]&gt;</th></tr>\n",
       "</thead>\n",
       "<tbody>\n",
       "\t<tr><th scope=row>1</th><td>0.005871975</td><td>0.006087387</td></tr>\n",
       "\t<tr><th scope=row>8</th><td>0.003038745</td><td>0.003045528</td></tr>\n",
       "\t<tr><th scope=row>9</th><td>0.111069928</td><td>0.122687134</td></tr>\n",
       "\t<tr><th scope=row>14</th><td>0.012080838</td><td>0.011859629</td></tr>\n",
       "\t<tr><th scope=row>19</th><td>0.009629602</td><td>0.009841417</td></tr>\n",
       "</tbody>\n",
       "</table>\n"
      ],
      "text/latex": [
       "A data.frame: 5 × 2\n",
       "\\begin{tabular}{r|ll}\n",
       "  & GLM\\_pred & GAM\\_pred\\\\\n",
       "  & <dbl{[}1d{]}> & <dbl{[}1d{]}>\\\\\n",
       "\\hline\n",
       "\t1 & 0.005871975 & 0.006087387\\\\\n",
       "\t8 & 0.003038745 & 0.003045528\\\\\n",
       "\t9 & 0.111069928 & 0.122687134\\\\\n",
       "\t14 & 0.012080838 & 0.011859629\\\\\n",
       "\t19 & 0.009629602 & 0.009841417\\\\\n",
       "\\end{tabular}\n"
      ],
      "text/markdown": [
       "\n",
       "A data.frame: 5 × 2\n",
       "\n",
       "| <!--/--> | GLM_pred &lt;dbl[1d]&gt; | GAM_pred &lt;dbl[1d]&gt; |\n",
       "|---|---|---|\n",
       "| 1 | 0.005871975 | 0.006087387 |\n",
       "| 8 | 0.003038745 | 0.003045528 |\n",
       "| 9 | 0.111069928 | 0.122687134 |\n",
       "| 14 | 0.012080838 | 0.011859629 |\n",
       "| 19 | 0.009629602 | 0.009841417 |\n",
       "\n"
      ],
      "text/plain": [
       "   GLM_pred    GAM_pred   \n",
       "1  0.005871975 0.006087387\n",
       "8  0.003038745 0.003045528\n",
       "9  0.111069928 0.122687134\n",
       "14 0.012080838 0.011859629\n",
       "19 0.009629602 0.009841417"
      ]
     },
     "metadata": {},
     "output_type": "display_data"
    }
   ],
   "source": [
    "testing_set$GLM_pred = predict(m_glm, bake(rec_glm, testing_set), type=\"response\")\n",
    "testing_set$GAM_pred = predict(m0_bam, bake(rec, testing_set), type=\"response\")\n",
    "head(testing_set[,c(\"GLM_pred\", \"GAM_pred\")], n=5)"
   ]
  },
  {
   "cell_type": "code",
   "execution_count": 51,
   "id": "092448ae",
   "metadata": {},
   "outputs": [
    {
     "data": {
      "image/png": "[encoded data removed]",
      "text/plain": [
       "plot without title"
      ]
     },
     "metadata": {
      "image/png": {
       "height": 420,
       "width": 420
      }
     },
     "output_type": "display_data"
    }
   ],
   "source": [
    "ggplot(testing_set) + geom_point(aes(x=GLM_pred, y=GAM_pred))+ylab(\"GAM\")+xlab(\"GLM\")+geom_abline(slope=1, intercept=0, color=\"red\")+\n",
    "  scale_x_continuous(labels = scales::percent_format(accuracy = 0.01))+\n",
    "  scale_y_continuous(labels = scales::percent_format(accuracy = 0.01))"
   ]
  },
  {
   "cell_type": "markdown",
   "id": "a2d136cb",
   "metadata": {},
   "source": [
    "However, the total amount of expected claims are still close."
   ]
  },
  {
   "cell_type": "code",
   "execution_count": 52,
   "id": "2141a707",
   "metadata": {},
   "outputs": [
    {
     "data": {
      "text/html": [
       "3215.39998870368"
      ],
      "text/latex": [
       "3215.39998870368"
      ],
      "text/markdown": [
       "3215.39998870368"
      ],
      "text/plain": [
       "[1] 3215.4"
      ]
     },
     "metadata": {},
     "output_type": "display_data"
    }
   ],
   "source": [
    "sum(testing_set$GLM_pred) #GLM"
   ]
  },
  {
   "cell_type": "code",
   "execution_count": 53,
   "id": "12288f2f",
   "metadata": {},
   "outputs": [
    {
     "data": {
      "text/html": [
       "3214.50067814898"
      ],
      "text/latex": [
       "3214.50067814898"
      ],
      "text/markdown": [
       "3214.50067814898"
      ],
      "text/plain": [
       "[1] 3214.501"
      ]
     },
     "metadata": {},
     "output_type": "display_data"
    }
   ],
   "source": [
    "sum(testing_set$GAM_pred) #GAM"
   ]
  }
 ],
 "metadata": {
  "kernelspec": {
   "display_name": "R",
   "language": "R",
   "name": "ir"
  },
  "language_info": {
   "codemirror_mode": "r",
   "file_extension": ".r",
   "mimetype": "text/x-r-source",
   "name": "R",
   "pygments_lexer": "r",
   "version": "4.1.3"
  }
 },
 "nbformat": 4,
 "nbformat_minor": 5
}
